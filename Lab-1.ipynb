{
 "cells": [
  {
   "cell_type": "code",
   "execution_count": 1,
   "metadata": {},
   "outputs": [],
   "source": [
    "import duckdb\n",
    "import polars as pl\n",
    "from rich import print\n",
    "from IPython.display import display\n",
    "%load_ext rich\n",
    "con = duckdb.connect()"
   ]
  },
  {
   "cell_type": "markdown",
   "metadata": {},
   "source": [
    "For the sake of simplicty, we clean out certain aspects of the data before:"
   ]
  },
  {
   "cell_type": "code",
   "execution_count": 2,
   "metadata": {},
   "outputs": [
    {
     "data": {
      "text/html": [
       "<pre style=\"white-space:pre;overflow-x:auto;line-height:normal;font-family:Menlo,'DejaVu Sans Mono',consolas,'Courier New',monospace\"></pre>\n"
      ],
      "text/plain": []
     },
     "metadata": {},
     "output_type": "display_data"
    },
    {
     "data": {
      "text/plain": [
       "\n",
       "┌─────────────────┬────────┬───────────────────┬───────────────────────┬───────────────┬────────────────────┬────────────┬─────────────┬──────────────┬─────────┐\n",
       "│   player_name   │  age   │ team_abbreviation │        college        │ player_height │   player_weight    │ draft_year │ draft_round │ draft_number │ season  │\n",
       "│     varchar     │ double │      varchar      │        varchar        │    double     │       double       │  varchar   │   varchar   │   varchar    │ varchar │\n",
       "├─────────────────┼────────┼───────────────────┼───────────────────────┼───────────────┼────────────────────┼────────────┼─────────────┼──────────────┼─────────┤\n",
       "│ Anthony Johnson │   \u001b[1;36m34.0\u001b[0m │ ORL               │ College of Charleston │         \u001b[1;36m190.5\u001b[0m │           \u001b[1;36m88.45044\u001b[0m │ \u001b[1;36m1997\u001b[0m       │ \u001b[1;36m2\u001b[0m           │ \u001b[1;36m39\u001b[0m           │ \u001b[1;36m2008\u001b[0m-\u001b[1;36m09\u001b[0m │\n",
       "│ Joel Bolomboy   │   \u001b[1;36m23.0\u001b[0m │ UTA               │ Weber State           │        \u001b[1;36m205.74\u001b[0m │ \u001b[1;36m106.59411999999999\u001b[0m │ \u001b[1;36m2016\u001b[0m       │ \u001b[1;36m2\u001b[0m           │ \u001b[1;36m52\u001b[0m           │ \u001b[1;36m2016\u001b[0m-\u001b[1;36m17\u001b[0m │\n",
       "│ Earl Boykins    │   \u001b[1;36m30.0\u001b[0m │ DEN               │ Eastern Michigan      │         \u001b[1;36m165.1\u001b[0m │          \u001b[1;36m60.327736\u001b[0m │ Undrafted  │ Undrafted   │ Undrafted    │ \u001b[1;36m2005\u001b[0m-\u001b[1;36m06\u001b[0m │\n",
       "│ Jelani McCoy    │   \u001b[1;36m21.0\u001b[0m │ SEA               │ UCLA                  │        \u001b[1;36m208.28\u001b[0m │          \u001b[1;36m111.13004\u001b[0m │ \u001b[1;36m1998\u001b[0m       │ \u001b[1;36m2\u001b[0m           │ \u001b[1;36m33\u001b[0m           │ \u001b[1;36m1998\u001b[0m-\u001b[1;36m99\u001b[0m │\n",
       "│ Terrence Ross   │   \u001b[1;36m27.0\u001b[0m │ ORL               │ Washington            │        \u001b[1;36m200.66\u001b[0m │          \u001b[1;36m93.439952\u001b[0m │ \u001b[1;36m2012\u001b[0m       │ \u001b[1;36m1\u001b[0m           │ \u001b[1;36m8\u001b[0m            │ \u001b[1;36m2017\u001b[0m-\u001b[1;36m18\u001b[0m │\n",
       "└─────────────────┴────────┴───────────────────┴───────────────────────┴───────────────┴────────────────────┴────────────┴─────────────┴──────────────┴─────────┘"
      ]
     },
     "execution_count": 2,
     "metadata": {},
     "output_type": "execute_result"
    }
   ],
   "source": [
    "df = pl.read_csv('all_seasons.csv')\n",
    "df = df.unique(subset = [\"player_name\",\"season\"])\n",
    "qr = \"\"\"\n",
    "SELECT\n",
    "    player_name,\n",
    "    age,\n",
    "    team_abbreviation,\n",
    "    college,\n",
    "    player_height,\n",
    "    player_weight,\n",
    "    draft_year,\n",
    "    draft_round,\n",
    "    draft_number,\n",
    "    season\n",
    "    FROM df,\n",
    "    LIMIT 5;\n",
    "\"\"\"\n",
    "con.sql(qr)"
   ]
  },
  {
   "cell_type": "code",
   "execution_count": 3,
   "metadata": {},
   "outputs": [],
   "source": [
    "qr = \"\"\"\n",
    "DROP TABLE IF EXISTS players_seasons;\n",
    "\n",
    "DROP TYPE IF EXISTS season_stats;\n",
    "CREATE TYPE season_stats AS STRUCT(\n",
    "    season INTEGER,\n",
    "    gp INTEGER,\n",
    "    pts FLOAT,\n",
    "    reb FLOAT,\n",
    "    ast FLOAT\n",
    ");\n",
    "\n",
    "CREATE TABLE players (\n",
    "    player_name TEXT,\n",
    "    age INTEGER,\n",
    "    team_abbreviation TEXT,\n",
    "    college TEXT,\n",
    "    player_height FLOAT,\n",
    "    player_weight FLOAT,\n",
    "    draft_year TEXT,\n",
    "    draft_round TEXT,\n",
    "    draft_number TEXT,\n",
    "    season_stats season_stats[],\n",
    "    current_season INTEGER,\n",
    "    PRIMARY KEY(player_name, current_season, team_abbreviation, college)\n",
    ")\n",
    "\"\"\"\n",
    "con.sql(qr)"
   ]
  },
  {
   "cell_type": "code",
   "execution_count": 4,
   "metadata": {},
   "outputs": [
    {
     "data": {
      "text/html": [
       "<pre style=\"white-space:pre;overflow-x:auto;line-height:normal;font-family:Menlo,'DejaVu Sans Mono',consolas,'Courier New',monospace\">shape: <span style=\"font-weight: bold\">(</span><span style=\"color: #008080; text-decoration-color: #008080; font-weight: bold\">1</span>, <span style=\"color: #008080; text-decoration-color: #008080; font-weight: bold\">4</span><span style=\"font-weight: bold\">)</span>\n",
       "┌──────────┬──────────┬───────────────┬───────────────┐\n",
       "│ min_year ┆ max_year ┆ min_year_text ┆ max_year_text │\n",
       "│ ---      ┆ ---      ┆ ---           ┆ ---           │\n",
       "│ i32      ┆ i32      ┆ str           ┆ str           │\n",
       "╞══════════╪══════════╪═══════════════╪═══════════════╡\n",
       "│ <span style=\"color: #008080; text-decoration-color: #008080; font-weight: bold\">1996</span>     ┆ <span style=\"color: #008080; text-decoration-color: #008080; font-weight: bold\">2022</span>     ┆ <span style=\"color: #008080; text-decoration-color: #008080; font-weight: bold\">1996</span>-<span style=\"color: #008080; text-decoration-color: #008080; font-weight: bold\">97</span>       ┆ <span style=\"color: #008080; text-decoration-color: #008080; font-weight: bold\">2022</span>-<span style=\"color: #008080; text-decoration-color: #008080; font-weight: bold\">23</span>       │\n",
       "└──────────┴──────────┴───────────────┴───────────────┘\n",
       "</pre>\n"
      ],
      "text/plain": [
       "shape: \u001b[1m(\u001b[0m\u001b[1;36m1\u001b[0m, \u001b[1;36m4\u001b[0m\u001b[1m)\u001b[0m\n",
       "┌──────────┬──────────┬───────────────┬───────────────┐\n",
       "│ min_year ┆ max_year ┆ min_year_text ┆ max_year_text │\n",
       "│ ---      ┆ ---      ┆ ---           ┆ ---           │\n",
       "│ i32      ┆ i32      ┆ str           ┆ str           │\n",
       "╞══════════╪══════════╪═══════════════╪═══════════════╡\n",
       "│ \u001b[1;36m1996\u001b[0m     ┆ \u001b[1;36m2022\u001b[0m     ┆ \u001b[1;36m1996\u001b[0m-\u001b[1;36m97\u001b[0m       ┆ \u001b[1;36m2022\u001b[0m-\u001b[1;36m23\u001b[0m       │\n",
       "└──────────┴──────────┴───────────────┴───────────────┘\n"
      ]
     },
     "metadata": {},
     "output_type": "display_data"
    }
   ],
   "source": [
    "qr=\"\"\"\n",
    "SELECT\n",
    "    MIN(season[:4]::INTEGER) AS min_year,\n",
    "    MAX(season[:4]::INTEGER) AS max_year,\n",
    "    MIN(season) AS min_year_text,\n",
    "    MAX(season) AS max_year_text,\n",
    "FROM read_csv('all_seasons.csv')\n",
    "\"\"\"\n",
    "dfr = con.sql(qr).pl()\n",
    "print(dfr)\n"
   ]
  },
  {
   "cell_type": "code",
   "execution_count": 5,
   "metadata": {},
   "outputs": [
    {
     "data": {
      "text/html": [
       "<pre style=\"white-space:pre;overflow-x:auto;line-height:normal;font-family:Menlo,'DejaVu Sans Mono',consolas,'Courier New',monospace\"></pre>\n"
      ],
      "text/plain": []
     },
     "metadata": {},
     "output_type": "display_data"
    },
    {
     "data": {
      "text/plain": [
       "\n",
       "┌─────────────┬───────┬───────────────────┬─────────┬───────────────┬───────────────┬────────────┬─────────────┬──────────────┬───────────────────────────────────────────────────────────────────────┬────────────────┐\n",
       "│ player_name │  age  │ team_abbreviation │ college │ player_height │ player_weight │ draft_year │ draft_round │ draft_number │                             season_stats                              │ current_season │\n",
       "│   varchar   │ int32 │      varchar      │ varchar │     float     │     float     │  varchar   │   varchar   │   varchar    │ \u001b[1;35mstruct\u001b[0m\u001b[1m(\u001b[0mseason integer, gp integer, pts float, reb float, ast float\u001b[1m)\u001b[0m\u001b[1m[\u001b[0m\u001b[1m]\u001b[0m │     int32      │\n",
       "├─────────────┴───────┴───────────────────┴─────────┴───────────────┴───────────────┴────────────┴─────────────┴──────────────┴───────────────────────────────────────────────────────────────────────┴────────────────┤\n",
       "│                                                                                                        \u001b[1;36m0\u001b[0m rows                                                                                                        │\n",
       "└──────────────────────────────────────────────────────────────────────────────────────────────────────────────────────────────────────────────────────────────────────────────────────────────────────────────────────┘"
      ]
     },
     "execution_count": 5,
     "metadata": {},
     "output_type": "execute_result"
    }
   ],
   "source": [
    "qr = \"\"\"\n",
    "FROM players\n",
    "LIMIT 5\n",
    "\"\"\"\n",
    "con.sql(qr)"
   ]
  },
  {
   "cell_type": "code",
   "execution_count": 6,
   "metadata": {},
   "outputs": [
    {
     "data": {
      "text/html": [
       "<pre style=\"white-space:pre;overflow-x:auto;line-height:normal;font-family:Menlo,'DejaVu Sans Mono',consolas,'Courier New',monospace\"></pre>\n"
      ],
      "text/plain": []
     },
     "metadata": {},
     "output_type": "display_data"
    },
    {
     "data": {
      "text/plain": [
       "\n",
       "┌───────┬─────────────────┬───────────────────┬────────┬───────────────┬────────────────────┬──────────────────┬─────────┬────────────┬─────────────┬──────────────┬───────┬────────┬────────┬────────┬────────────┬──────────────────────┬─────────────────────┬─────────┬────────┬─────────┬─────────┐\n",
       "│  v0   │   player_name   │ team_abbreviation │  age   │ player_height │   player_weight    │     college      │ country │ draft_year │ draft_round │ draft_number │  gp   │  pts   │  reb   │  ast   │ net_rating │       oreb_pct       │      dreb_pct       │ usg_pct │ ts_pct │ ast_pct │ season  │\n",
       "│ int64 │     varchar     │      varchar      │ double │    double     │       double       │     varchar      │ varchar │  varchar   │   varchar   │   varchar    │ int64 │ double │ double │ double │   double   │        double        │       double        │ double  │ double │ double  │ varchar │\n",
       "├───────┼─────────────────┼───────────────────┼────────┼───────────────┼────────────────────┼──────────────────┼─────────┼────────────┼─────────────┼──────────────┼───────┼────────┼────────┼────────┼────────────┼──────────────────────┼─────────────────────┼─────────┼────────┼─────────┼─────────┤\n",
       "│    \u001b[1;36m59\u001b[0m │ Jerome Kersey   │ LAL               │   \u001b[1;36m35.0\u001b[0m │        \u001b[1;36m200.66\u001b[0m │          \u001b[1;36m108.86208\u001b[0m │ Longwood         │ USA     │ \u001b[1;36m1984\u001b[0m       │ \u001b[1;36m2\u001b[0m           │ \u001b[1;36m46\u001b[0m           │    \u001b[1;36m70\u001b[0m │    \u001b[1;36m6.8\u001b[0m │    \u001b[1;36m5.2\u001b[0m │    \u001b[1;36m1.3\u001b[0m │        \u001b[1;36m4.1\u001b[0m │  \u001b[1;36m0.07200000000000001\u001b[0m │ \u001b[1;36m0.16399999999999998\u001b[0m │   \u001b[1;36m0.145\u001b[0m │  \u001b[1;36m0.475\u001b[0m │   \u001b[1;36m0.077\u001b[0m │ \u001b[1;36m1996\u001b[0m-\u001b[1;36m97\u001b[0m │\n",
       "│   \u001b[1;36m432\u001b[0m │ Alonzo Mourning │ MIA               │   \u001b[1;36m27.0\u001b[0m │        \u001b[1;36m208.28\u001b[0m │ \u001b[1;36m118.38751200000002\u001b[0m │ Georgetown       │ USA     │ \u001b[1;36m1992\u001b[0m       │ \u001b[1;36m1\u001b[0m           │ \u001b[1;36m2\u001b[0m            │    \u001b[1;36m66\u001b[0m │   \u001b[1;36m19.8\u001b[0m │    \u001b[1;36m9.9\u001b[0m │    \u001b[1;36m1.6\u001b[0m │       \u001b[1;36m10.5\u001b[0m │                  \u001b[1;36m0.1\u001b[0m │ \u001b[1;36m0.22899999999999998\u001b[0m │   \u001b[1;36m0.275\u001b[0m │  \u001b[1;36m0.578\u001b[0m │   \u001b[1;36m0.086\u001b[0m │ \u001b[1;36m1996\u001b[0m-\u001b[1;36m97\u001b[0m │\n",
       "│   \u001b[1;36m130\u001b[0m │ Bryon Russell   │ UTA               │   \u001b[1;36m26.0\u001b[0m │        \u001b[1;36m200.66\u001b[0m │           \u001b[1;36m102.0582\u001b[0m │ Long Beach State │ USA     │ \u001b[1;36m1993\u001b[0m       │ \u001b[1;36m2\u001b[0m           │ \u001b[1;36m45\u001b[0m           │    \u001b[1;36m81\u001b[0m │   \u001b[1;36m10.8\u001b[0m │    \u001b[1;36m4.1\u001b[0m │    \u001b[1;36m1.5\u001b[0m │       \u001b[1;36m13.5\u001b[0m │ \u001b[1;36m0.040999999999999995\u001b[0m │ \u001b[1;36m0.11800000000000001\u001b[0m │    \u001b[1;36m0.15\u001b[0m │    \u001b[1;36m0.6\u001b[0m │    \u001b[1;36m0.07\u001b[0m │ \u001b[1;36m1996\u001b[0m-\u001b[1;36m97\u001b[0m │\n",
       "│   \u001b[1;36m199\u001b[0m │ Scott Williams  │ PHI               │   \u001b[1;36m29.0\u001b[0m │        \u001b[1;36m208.28\u001b[0m │          \u001b[1;36m104.32616\u001b[0m │ North Carolina   │ USA     │ Undrafted  │ Undrafted   │ Undrafted    │    \u001b[1;36m62\u001b[0m │    \u001b[1;36m5.8\u001b[0m │    \u001b[1;36m6.4\u001b[0m │    \u001b[1;36m0.7\u001b[0m │       \u001b[1;36m-4.6\u001b[0m │                \u001b[1;36m0.126\u001b[0m │               \u001b[1;36m0.205\u001b[0m │   \u001b[1;36m0.127\u001b[0m │  \u001b[1;36m0.529\u001b[0m │   \u001b[1;36m0.049\u001b[0m │ \u001b[1;36m1996\u001b[0m-\u001b[1;36m97\u001b[0m │\n",
       "│   \u001b[1;36m328\u001b[0m │ Kevin Gamble    │ SAC               │   \u001b[1;36m31.0\u001b[0m │        \u001b[1;36m195.58\u001b[0m │           \u001b[1;36m95.25432\u001b[0m │ Iowa             │ USA     │ \u001b[1;36m1987\u001b[0m       │ \u001b[1;36m3\u001b[0m           │ \u001b[1;36m63\u001b[0m           │    \u001b[1;36m62\u001b[0m │    \u001b[1;36m5.0\u001b[0m │    \u001b[1;36m1.7\u001b[0m │    \u001b[1;36m1.2\u001b[0m │       \u001b[1;36m-5.6\u001b[0m │                \u001b[1;36m0.015\u001b[0m │ \u001b[1;36m0.11900000000000001\u001b[0m │   \u001b[1;36m0.149\u001b[0m │  \u001b[1;36m0.529\u001b[0m │   \u001b[1;36m0.131\u001b[0m │ \u001b[1;36m1996\u001b[0m-\u001b[1;36m97\u001b[0m │\n",
       "└───────┴─────────────────┴───────────────────┴────────┴───────────────┴────────────────────┴──────────────────┴─────────┴────────────┴─────────────┴──────────────┴───────┴────────┴────────┴────────┴────────────┴──────────────────────┴─────────────────────┴─────────┴────────┴─────────┴─────────┘"
      ]
     },
     "execution_count": 6,
     "metadata": {},
     "output_type": "execute_result"
    }
   ],
   "source": [
    "qr=\"\"\"\n",
    "WITH today AS (\n",
    "    SELECT * FROM df\n",
    "    WHERE season='1996-97'\n",
    ")\n",
    "FROM today\n",
    "LIMIT 5\n",
    "\"\"\"\n",
    "con.sql(qr)"
   ]
  },
  {
   "cell_type": "code",
   "execution_count": 7,
   "metadata": {},
   "outputs": [
    {
     "data": {
      "text/html": [
       "<pre style=\"white-space:pre;overflow-x:auto;line-height:normal;font-family:Menlo,'DejaVu Sans Mono',consolas,'Courier New',monospace\">\n",
       "WITH yesterday AS <span style=\"font-weight: bold\">(</span>\n",
       "    SELECT * FROM players\n",
       "    WHERE <span style=\"color: #808000; text-decoration-color: #808000\">current_season</span>=<span style=\"color: #008080; text-decoration-color: #008080; font-weight: bold\">1995</span>\n",
       "<span style=\"font-weight: bold\">)</span>, today AS <span style=\"font-weight: bold\">(</span>\n",
       "    SELECT * FROM df\n",
       "    WHERE <span style=\"color: #808000; text-decoration-color: #808000\">season</span>=<span style=\"color: #008000; text-decoration-color: #008000\">'1996-97'</span>\n",
       "<span style=\"font-weight: bold\">)</span>\n",
       "SELECT\n",
       "    <span style=\"color: #800080; text-decoration-color: #800080; font-weight: bold\">COALESCE</span><span style=\"font-weight: bold\">(</span>t.player_name, y.player_name<span style=\"font-weight: bold\">)</span> AS player_name,\n",
       "    <span style=\"color: #800080; text-decoration-color: #800080; font-weight: bold\">COALESCE</span><span style=\"font-weight: bold\">(</span>t.age, y.age<span style=\"font-weight: bold\">)</span> AS age,\n",
       "    <span style=\"color: #800080; text-decoration-color: #800080; font-weight: bold\">COALESCE</span><span style=\"font-weight: bold\">(</span>t.team_abbreviation, y.team_abbreviation<span style=\"font-weight: bold\">)</span> AS team_abbreviation,\n",
       "    <span style=\"color: #800080; text-decoration-color: #800080; font-weight: bold\">COALESCE</span><span style=\"font-weight: bold\">(</span>t.college, y.college<span style=\"font-weight: bold\">)</span> AS college,\n",
       "    <span style=\"color: #800080; text-decoration-color: #800080; font-weight: bold\">COALESCE</span><span style=\"font-weight: bold\">(</span>t.player_height, y.player_height<span style=\"font-weight: bold\">)</span> AS player_height,\n",
       "    <span style=\"color: #800080; text-decoration-color: #800080; font-weight: bold\">COALESCE</span><span style=\"font-weight: bold\">(</span>t.player_weight, y.player_weight<span style=\"font-weight: bold\">)</span> AS player_weight,\n",
       "    <span style=\"color: #800080; text-decoration-color: #800080; font-weight: bold\">COALESCE</span><span style=\"font-weight: bold\">(</span>t.draft_year, y.draft_year<span style=\"font-weight: bold\">)</span> AS draft_year,\n",
       "    <span style=\"color: #800080; text-decoration-color: #800080; font-weight: bold\">COALESCE</span><span style=\"font-weight: bold\">(</span>t.draft_round, y.draft_round<span style=\"font-weight: bold\">)</span> AS draft_round,\n",
       "    <span style=\"color: #800080; text-decoration-color: #800080; font-weight: bold\">COALESCE</span><span style=\"font-weight: bold\">(</span>t.draft_number, y.draft_number<span style=\"font-weight: bold\">)</span> AS draft_number,\n",
       "    -- Update for season_stats\n",
       "    CASE WHEN y.season_stats IS NULL\n",
       "        THEN ARRAY<span style=\"font-weight: bold\">[</span><span style=\"color: #800080; text-decoration-color: #800080; font-weight: bold\">ROW</span><span style=\"font-weight: bold\">(</span>\n",
       "            t.season<span style=\"font-weight: bold\">[</span>:<span style=\"color: #008080; text-decoration-color: #008080; font-weight: bold\">4</span><span style=\"font-weight: bold\">]</span>::INTEGER,\n",
       "            t.gp,\n",
       "            t.pts,\n",
       "            t.reb,\n",
       "            t.ast\n",
       "        <span style=\"font-weight: bold\">)</span>::season_stats<span style=\"font-weight: bold\">]</span>\n",
       "    WHEN t.season IS NOT NULL\n",
       "        THEN y.season_stats || ARRAY<span style=\"font-weight: bold\">[</span><span style=\"color: #800080; text-decoration-color: #800080; font-weight: bold\">ROW</span><span style=\"font-weight: bold\">(</span>\n",
       "            t.season<span style=\"font-weight: bold\">[</span>:<span style=\"color: #008080; text-decoration-color: #008080; font-weight: bold\">4</span><span style=\"font-weight: bold\">]</span>::INTEGER,\n",
       "            t.gp,\n",
       "            t.pts,\n",
       "            t.reb,\n",
       "            t.ast\n",
       "        <span style=\"font-weight: bold\">)</span>::season_stats<span style=\"font-weight: bold\">]</span>\n",
       "    ELSE y.season_stats\n",
       "    END AS season_stats,\n",
       "    -- Update for current_season,\n",
       "    <span style=\"color: #800080; text-decoration-color: #800080; font-weight: bold\">COALESCE</span><span style=\"font-weight: bold\">(</span>t.season<span style=\"font-weight: bold\">[</span>:<span style=\"color: #008080; text-decoration-color: #008080; font-weight: bold\">4</span><span style=\"font-weight: bold\">]</span>::INTEGER, y.current_season+<span style=\"color: #008080; text-decoration-color: #008080; font-weight: bold\">1</span><span style=\"font-weight: bold\">)</span> AS current_season\n",
       "FROM today t\n",
       "FULL OUTER JOIN yesterday y\n",
       "ON t.player_name = y.player_name;\n",
       "\n",
       "</pre>\n"
      ],
      "text/plain": [
       "\n",
       "WITH yesterday AS \u001b[1m(\u001b[0m\n",
       "    SELECT * FROM players\n",
       "    WHERE \u001b[33mcurrent_season\u001b[0m=\u001b[1;36m1995\u001b[0m\n",
       "\u001b[1m)\u001b[0m, today AS \u001b[1m(\u001b[0m\n",
       "    SELECT * FROM df\n",
       "    WHERE \u001b[33mseason\u001b[0m=\u001b[32m'1996-97'\u001b[0m\n",
       "\u001b[1m)\u001b[0m\n",
       "SELECT\n",
       "    \u001b[1;35mCOALESCE\u001b[0m\u001b[1m(\u001b[0mt.player_name, y.player_name\u001b[1m)\u001b[0m AS player_name,\n",
       "    \u001b[1;35mCOALESCE\u001b[0m\u001b[1m(\u001b[0mt.age, y.age\u001b[1m)\u001b[0m AS age,\n",
       "    \u001b[1;35mCOALESCE\u001b[0m\u001b[1m(\u001b[0mt.team_abbreviation, y.team_abbreviation\u001b[1m)\u001b[0m AS team_abbreviation,\n",
       "    \u001b[1;35mCOALESCE\u001b[0m\u001b[1m(\u001b[0mt.college, y.college\u001b[1m)\u001b[0m AS college,\n",
       "    \u001b[1;35mCOALESCE\u001b[0m\u001b[1m(\u001b[0mt.player_height, y.player_height\u001b[1m)\u001b[0m AS player_height,\n",
       "    \u001b[1;35mCOALESCE\u001b[0m\u001b[1m(\u001b[0mt.player_weight, y.player_weight\u001b[1m)\u001b[0m AS player_weight,\n",
       "    \u001b[1;35mCOALESCE\u001b[0m\u001b[1m(\u001b[0mt.draft_year, y.draft_year\u001b[1m)\u001b[0m AS draft_year,\n",
       "    \u001b[1;35mCOALESCE\u001b[0m\u001b[1m(\u001b[0mt.draft_round, y.draft_round\u001b[1m)\u001b[0m AS draft_round,\n",
       "    \u001b[1;35mCOALESCE\u001b[0m\u001b[1m(\u001b[0mt.draft_number, y.draft_number\u001b[1m)\u001b[0m AS draft_number,\n",
       "    -- Update for season_stats\n",
       "    CASE WHEN y.season_stats IS NULL\n",
       "        THEN ARRAY\u001b[1m[\u001b[0m\u001b[1;35mROW\u001b[0m\u001b[1m(\u001b[0m\n",
       "            t.season\u001b[1m[\u001b[0m:\u001b[1;36m4\u001b[0m\u001b[1m]\u001b[0m::INTEGER,\n",
       "            t.gp,\n",
       "            t.pts,\n",
       "            t.reb,\n",
       "            t.ast\n",
       "        \u001b[1m)\u001b[0m::season_stats\u001b[1m]\u001b[0m\n",
       "    WHEN t.season IS NOT NULL\n",
       "        THEN y.season_stats || ARRAY\u001b[1m[\u001b[0m\u001b[1;35mROW\u001b[0m\u001b[1m(\u001b[0m\n",
       "            t.season\u001b[1m[\u001b[0m:\u001b[1;36m4\u001b[0m\u001b[1m]\u001b[0m::INTEGER,\n",
       "            t.gp,\n",
       "            t.pts,\n",
       "            t.reb,\n",
       "            t.ast\n",
       "        \u001b[1m)\u001b[0m::season_stats\u001b[1m]\u001b[0m\n",
       "    ELSE y.season_stats\n",
       "    END AS season_stats,\n",
       "    -- Update for current_season,\n",
       "    \u001b[1;35mCOALESCE\u001b[0m\u001b[1m(\u001b[0mt.season\u001b[1m[\u001b[0m:\u001b[1;36m4\u001b[0m\u001b[1m]\u001b[0m::INTEGER, y.current_season+\u001b[1;36m1\u001b[0m\u001b[1m)\u001b[0m AS current_season\n",
       "FROM today t\n",
       "FULL OUTER JOIN yesterday y\n",
       "ON t.player_name = y.player_name;\n",
       "\n"
      ]
     },
     "metadata": {},
     "output_type": "display_data"
    },
    {
     "data": {
      "text/html": [
       "<pre style=\"white-space:pre;overflow-x:auto;line-height:normal;font-family:Menlo,'DejaVu Sans Mono',consolas,'Courier New',monospace\"></pre>\n"
      ],
      "text/plain": []
     },
     "metadata": {},
     "output_type": "display_data"
    },
    {
     "data": {
      "text/html": [
       "<div><style>\n",
       ".dataframe > thead > tr,\n",
       ".dataframe > tbody > tr {\n",
       "  text-align: right;\n",
       "  white-space: pre-wrap;\n",
       "}\n",
       "</style>\n",
       "<small>shape: (5, 22)</small><table border=\"1\" class=\"dataframe\"><thead><tr><th></th><th>player_name</th><th>team_abbreviation</th><th>age</th><th>player_height</th><th>player_weight</th><th>college</th><th>country</th><th>draft_year</th><th>draft_round</th><th>draft_number</th><th>gp</th><th>pts</th><th>reb</th><th>ast</th><th>net_rating</th><th>oreb_pct</th><th>dreb_pct</th><th>usg_pct</th><th>ts_pct</th><th>ast_pct</th><th>season</th></tr><tr><td>i64</td><td>str</td><td>str</td><td>f64</td><td>f64</td><td>f64</td><td>str</td><td>str</td><td>str</td><td>str</td><td>str</td><td>i64</td><td>f64</td><td>f64</td><td>f64</td><td>f64</td><td>f64</td><td>f64</td><td>f64</td><td>f64</td><td>f64</td><td>str</td></tr></thead><tbody><tr><td>5773</td><td>&quot;Anthony Johnson&quot;</td><td>&quot;ORL&quot;</td><td>34.0</td><td>190.5</td><td>88.45044</td><td>&quot;College of Charleston&quot;</td><td>&quot;USA&quot;</td><td>&quot;1997&quot;</td><td>&quot;2&quot;</td><td>&quot;39&quot;</td><td>80</td><td>5.3</td><td>1.8</td><td>2.5</td><td>4.0</td><td>0.023</td><td>0.089</td><td>0.157</td><td>0.505</td><td>0.223</td><td>&quot;2008-09&quot;</td></tr><tr><td>9488</td><td>&quot;Joel Bolomboy&quot;</td><td>&quot;UTA&quot;</td><td>23.0</td><td>205.74</td><td>106.59412</td><td>&quot;Weber State&quot;</td><td>&quot;Ukraine&quot;</td><td>&quot;2016&quot;</td><td>&quot;2&quot;</td><td>&quot;52&quot;</td><td>12</td><td>1.8</td><td>1.4</td><td>0.2</td><td>11.3</td><td>0.083</td><td>0.255</td><td>0.18</td><td>0.59</td><td>0.065</td><td>&quot;2016-17&quot;</td></tr><tr><td>4351</td><td>&quot;Earl Boykins&quot;</td><td>&quot;DEN&quot;</td><td>30.0</td><td>165.1</td><td>60.327736</td><td>&quot;Eastern Michigan&quot;</td><td>&quot;USA&quot;</td><td>&quot;Undrafted&quot;</td><td>&quot;Undrafted&quot;</td><td>&quot;Undrafted&quot;</td><td>60</td><td>12.6</td><td>1.4</td><td>3.8</td><td>-3.3</td><td>0.015</td><td>0.047</td><td>0.234</td><td>0.513</td><td>0.254</td><td>&quot;2005-06&quot;</td></tr><tr><td>1257</td><td>&quot;Jelani McCoy&quot;</td><td>&quot;SEA&quot;</td><td>21.0</td><td>208.28</td><td>111.13004</td><td>&quot;UCLA&quot;</td><td>&quot;USA&quot;</td><td>&quot;1998&quot;</td><td>&quot;2&quot;</td><td>&quot;33&quot;</td><td>26</td><td>5.1</td><td>3.0</td><td>0.2</td><td>-6.6</td><td>0.096</td><td>0.171</td><td>0.147</td><td>0.704</td><td>0.023</td><td>&quot;1998-99&quot;</td></tr><tr><td>9723</td><td>&quot;Terrence Ross&quot;</td><td>&quot;ORL&quot;</td><td>27.0</td><td>200.66</td><td>93.439952</td><td>&quot;Washington&quot;</td><td>&quot;USA&quot;</td><td>&quot;2012&quot;</td><td>&quot;1&quot;</td><td>&quot;8&quot;</td><td>24</td><td>8.7</td><td>3.0</td><td>1.6</td><td>-3.8</td><td>0.016</td><td>0.102</td><td>0.166</td><td>0.505</td><td>0.088</td><td>&quot;2017-18&quot;</td></tr></tbody></table></div>"
      ],
      "text/plain": [
       "\n",
       "shape: \u001b[1m(\u001b[0m\u001b[1;36m5\u001b[0m, \u001b[1;36m22\u001b[0m\u001b[1m)\u001b[0m\n",
       "┌──────┬─────────────────┬───────────────────┬──────┬───┬─────────┬────────┬─────────┬─────────┐\n",
       "│      ┆ player_name     ┆ team_abbreviation ┆ age  ┆ … ┆ usg_pct ┆ ts_pct ┆ ast_pct ┆ season  │\n",
       "│ ---  ┆ ---             ┆ ---               ┆ ---  ┆   ┆ ---     ┆ ---    ┆ ---     ┆ ---     │\n",
       "│ i64  ┆ str             ┆ str               ┆ f64  ┆   ┆ f64     ┆ f64    ┆ f64     ┆ str     │\n",
       "╞══════╪═════════════════╪═══════════════════╪══════╪═══╪═════════╪════════╪═════════╪═════════╡\n",
       "│ \u001b[1;36m5773\u001b[0m ┆ Anthony Johnson ┆ ORL               ┆ \u001b[1;36m34.0\u001b[0m ┆ … ┆ \u001b[1;36m0.157\u001b[0m   ┆ \u001b[1;36m0.505\u001b[0m  ┆ \u001b[1;36m0.223\u001b[0m   ┆ \u001b[1;36m2008\u001b[0m-\u001b[1;36m09\u001b[0m │\n",
       "│ \u001b[1;36m9488\u001b[0m ┆ Joel Bolomboy   ┆ UTA               ┆ \u001b[1;36m23.0\u001b[0m ┆ … ┆ \u001b[1;36m0.18\u001b[0m    ┆ \u001b[1;36m0.59\u001b[0m   ┆ \u001b[1;36m0.065\u001b[0m   ┆ \u001b[1;36m2016\u001b[0m-\u001b[1;36m17\u001b[0m │\n",
       "│ \u001b[1;36m4351\u001b[0m ┆ Earl Boykins    ┆ DEN               ┆ \u001b[1;36m30.0\u001b[0m ┆ … ┆ \u001b[1;36m0.234\u001b[0m   ┆ \u001b[1;36m0.513\u001b[0m  ┆ \u001b[1;36m0.254\u001b[0m   ┆ \u001b[1;36m2005\u001b[0m-\u001b[1;36m06\u001b[0m │\n",
       "│ \u001b[1;36m1257\u001b[0m ┆ Jelani McCoy    ┆ SEA               ┆ \u001b[1;36m21.0\u001b[0m ┆ … ┆ \u001b[1;36m0.147\u001b[0m   ┆ \u001b[1;36m0.704\u001b[0m  ┆ \u001b[1;36m0.023\u001b[0m   ┆ \u001b[1;36m1998\u001b[0m-\u001b[1;36m99\u001b[0m │\n",
       "│ \u001b[1;36m9723\u001b[0m ┆ Terrence Ross   ┆ ORL               ┆ \u001b[1;36m27.0\u001b[0m ┆ … ┆ \u001b[1;36m0.166\u001b[0m   ┆ \u001b[1;36m0.505\u001b[0m  ┆ \u001b[1;36m0.088\u001b[0m   ┆ \u001b[1;36m2017\u001b[0m-\u001b[1;36m18\u001b[0m │\n",
       "└──────┴─────────────────┴───────────────────┴──────┴───┴─────────┴────────┴─────────┴─────────┘"
      ]
     },
     "metadata": {},
     "output_type": "display_data"
    }
   ],
   "source": [
    "qr = \"\"\"\n",
    "WITH yesterday AS (\n",
    "    SELECT * FROM players\n",
    "    WHERE current_season={current_season}\n",
    "), today AS (\n",
    "    SELECT * FROM df\n",
    "    WHERE season='{season}'\n",
    ")\n",
    "SELECT\n",
    "    COALESCE(t.player_name, y.player_name) AS player_name,\n",
    "    COALESCE(t.age, y.age) AS age,\n",
    "    COALESCE(t.team_abbreviation, y.team_abbreviation) AS team_abbreviation,\n",
    "    COALESCE(t.college, y.college) AS college,\n",
    "    COALESCE(t.player_height, y.player_height) AS player_height,\n",
    "    COALESCE(t.player_weight, y.player_weight) AS player_weight,\n",
    "    COALESCE(t.draft_year, y.draft_year) AS draft_year,\n",
    "    COALESCE(t.draft_round, y.draft_round) AS draft_round,\n",
    "    COALESCE(t.draft_number, y.draft_number) AS draft_number,\n",
    "    -- Update for season_stats\n",
    "    CASE WHEN y.season_stats IS NULL\n",
    "        THEN ARRAY[ROW(\n",
    "            t.season[:4]::INTEGER,\n",
    "            t.gp,\n",
    "            t.pts,\n",
    "            t.reb,\n",
    "            t.ast\n",
    "        )::season_stats]\n",
    "    WHEN t.season IS NOT NULL\n",
    "        THEN y.season_stats || ARRAY[ROW(\n",
    "            t.season[:4]::INTEGER,\n",
    "            t.gp,\n",
    "            t.pts,\n",
    "            t.reb,\n",
    "            t.ast\n",
    "        )::season_stats]\n",
    "    ELSE y.season_stats\n",
    "    END AS season_stats,\n",
    "    -- Update for current_season,\n",
    "    COALESCE(t.season[:4]::INTEGER, y.current_season+1) AS current_season\n",
    "FROM today t\n",
    "FULL OUTER JOIN yesterday y\n",
    "ON t.player_name = y.player_name;\n",
    "\"\"\"\n",
    "query = qr.format(current_season=1995, season='1996-97')\n",
    "print(query)\n",
    "dfr = con.sql(query).pl()\n",
    "display(df.head())"
   ]
  },
  {
   "cell_type": "code",
   "execution_count": 8,
   "metadata": {},
   "outputs": [],
   "source": [
    "query_insert = \"\"\"INSERT INTO players\"\"\" + query\n",
    "con.sql(query_insert)"
   ]
  },
  {
   "cell_type": "code",
   "execution_count": 9,
   "metadata": {},
   "outputs": [],
   "source": [
    "for year in range(1997,2022):\n",
    "    season = '-'.join([str(year+1),str(year+2)[2:]])\n",
    "    query = qr.format(current_season=year, season=season)\n",
    "    # print(query)\n",
    "    query_insert = \"\"\"INSERT INTO players\"\"\" + query\n",
    "    # print(f\"Inserted: {season}\")\n",
    "    con.sql(query_insert)"
   ]
  },
  {
   "cell_type": "code",
   "execution_count": 10,
   "metadata": {},
   "outputs": [
    {
     "data": {
      "text/html": [
       "<pre style=\"white-space:pre;overflow-x:auto;line-height:normal;font-family:Menlo,'DejaVu Sans Mono',consolas,'Courier New',monospace\"></pre>\n"
      ],
      "text/plain": []
     },
     "metadata": {},
     "output_type": "display_data"
    },
    {
     "data": {
      "text/plain": [
       "\n",
       "┌─────────────┬───────┬───────────────────┬─────────┬───────────────┬───────────────┬────────────┬─────────────┬──────────────┬───────────────────────────────────────────────────────────────────────────────────────────────────────────────────────────────────────────────────────────────────────────────────────────────────────────────────────────────────────────────────────────────────────────────────────────────────────────────────────────────────────────────────────────────────────────────────────────────────────────────────────────────────────────────────────────────────────────────────────────────────────────────────────────────────────────────────────────────────────────────────────────────────────────────────────────────────────────────────────────────────────────────────────────────────────────────────────────────────────────────────────────────────────────────────────────────────────────────────────────────────────────────────────────────────────────────────────────────────────────────────────────────────────────────────────────────────────────────────────────────────────────────────────────────────────────────────────────────────────────────────────────────────────────────────────────────────────────────────────────────────────────────────────────────────────────────────┬────────────────┐\n",
       "│ player_name │  age  │ team_abbreviation │ college │ player_height │ player_weight │ draft_year │ draft_round │ draft_number │                                                                                                                                                                                                                                                                                                                                                                                                                                                                                                                                                                                                   season_stats                                                                                                                                                                                                                                                                                                                                                                                                                                                                                                                                                                                                    │ current_season │\n",
       "│   varchar   │ int32 │      varchar      │ varchar │     float     │     float     │  varchar   │   varchar   │   varchar    │                                                                                                                                                                                                                                                                                                                                                                                                                                                                                                                                                                       \u001b[1;35mstruct\u001b[0m\u001b[1m(\u001b[0mseason integer, gp integer, pts float, reb float, ast float\u001b[1m)\u001b[0m\u001b[1m[\u001b[0m\u001b[1m]\u001b[0m                                                                                                                                                                                                                                                                                                                                                                                                                                                                                                                                                                       │     int32      │\n",
       "├─────────────┼───────┼───────────────────┼─────────┼───────────────┼───────────────┼────────────┼─────────────┼──────────────┼───────────────────────────────────────────────────────────────────────────────────────────────────────────────────────────────────────────────────────────────────────────────────────────────────────────────────────────────────────────────────────────────────────────────────────────────────────────────────────────────────────────────────────────────────────────────────────────────────────────────────────────────────────────────────────────────────────────────────────────────────────────────────────────────────────────────────────────────────────────────────────────────────────────────────────────────────────────────────────────────────────────────────────────────────────────────────────────────────────────────────────────────────────────────────────────────────────────────────────────────────────────────────────────────────────────────────────────────────────────────────────────────────────────────────────────────────────────────────────────────────────────────────────────────────────────────────────────────────────────────────────────────────────────────────────────────────────────────────────────────────────────────────────────────────────────────────┼────────────────┤\n",
       "│ Kobe Bryant │    \u001b[1;36m37\u001b[0m │ LAL               │ \u001b[3;35mNone\u001b[0m    │        \u001b[1;36m198.12\u001b[0m │      \u001b[1;36m96.16151\u001b[0m │ \u001b[1;36m1996\u001b[0m       │ \u001b[1;36m1\u001b[0m           │ \u001b[1;36m13\u001b[0m           │ \u001b[1m[\u001b[0m\u001b[1m{\u001b[0m\u001b[32m'season'\u001b[0m: \u001b[1;36m1998\u001b[0m, \u001b[32m'gp'\u001b[0m: \u001b[1;36m50\u001b[0m, \u001b[32m'pts'\u001b[0m: \u001b[1;36m19.9\u001b[0m, \u001b[32m'reb'\u001b[0m: \u001b[1;36m5.3\u001b[0m, \u001b[32m'ast'\u001b[0m: \u001b[1;36m3.8\u001b[0m\u001b[1m}\u001b[0m, \u001b[1m{\u001b[0m\u001b[32m'season'\u001b[0m: \u001b[1;36m1999\u001b[0m, \u001b[32m'gp'\u001b[0m: \u001b[1;36m66\u001b[0m, \u001b[32m'pts'\u001b[0m: \u001b[1;36m22.5\u001b[0m, \u001b[32m'reb'\u001b[0m: \u001b[1;36m6.3\u001b[0m, \u001b[32m'ast'\u001b[0m: \u001b[1;36m4.9\u001b[0m\u001b[1m}\u001b[0m, \u001b[1m{\u001b[0m\u001b[32m'season'\u001b[0m: \u001b[1;36m2000\u001b[0m, \u001b[32m'gp'\u001b[0m: \u001b[1;36m68\u001b[0m, \u001b[32m'pts'\u001b[0m: \u001b[1;36m28.5\u001b[0m, \u001b[32m'reb'\u001b[0m: \u001b[1;36m5.9\u001b[0m, \u001b[32m'ast'\u001b[0m: \u001b[1;36m5.0\u001b[0m\u001b[1m}\u001b[0m, \u001b[1m{\u001b[0m\u001b[32m'season'\u001b[0m: \u001b[1;36m2001\u001b[0m, \u001b[32m'gp'\u001b[0m: \u001b[1;36m80\u001b[0m, \u001b[32m'pts'\u001b[0m: \u001b[1;36m25.2\u001b[0m, \u001b[32m'reb'\u001b[0m: \u001b[1;36m5.5\u001b[0m, \u001b[32m'ast'\u001b[0m: \u001b[1;36m5.5\u001b[0m\u001b[1m}\u001b[0m, \u001b[1m{\u001b[0m\u001b[32m'season'\u001b[0m: \u001b[1;36m2002\u001b[0m, \u001b[32m'gp'\u001b[0m: \u001b[1;36m82\u001b[0m, \u001b[32m'pts'\u001b[0m: \u001b[1;36m30.0\u001b[0m, \u001b[32m'reb'\u001b[0m: \u001b[1;36m6.9\u001b[0m, \u001b[32m'ast'\u001b[0m: \u001b[1;36m5.9\u001b[0m\u001b[1m}\u001b[0m, \u001b[1m{\u001b[0m\u001b[32m'season'\u001b[0m: \u001b[1;36m2003\u001b[0m, \u001b[32m'gp'\u001b[0m: \u001b[1;36m65\u001b[0m, \u001b[32m'pts'\u001b[0m: \u001b[1;36m24.0\u001b[0m, \u001b[32m'reb'\u001b[0m: \u001b[1;36m5.5\u001b[0m, \u001b[32m'ast'\u001b[0m: \u001b[1;36m5.1\u001b[0m\u001b[1m}\u001b[0m, \u001b[1m{\u001b[0m\u001b[32m'season'\u001b[0m: \u001b[1;36m2004\u001b[0m, \u001b[32m'gp'\u001b[0m: \u001b[1;36m66\u001b[0m, \u001b[32m'pts'\u001b[0m: \u001b[1;36m27.6\u001b[0m, \u001b[32m'reb'\u001b[0m: \u001b[1;36m5.9\u001b[0m, \u001b[32m'ast'\u001b[0m: \u001b[1;36m6.0\u001b[0m\u001b[1m}\u001b[0m, \u001b[1m{\u001b[0m\u001b[32m'season'\u001b[0m: \u001b[1;36m2005\u001b[0m, \u001b[32m'gp'\u001b[0m: \u001b[1;36m80\u001b[0m, \u001b[32m'pts'\u001b[0m: \u001b[1;36m35.4\u001b[0m, \u001b[32m'reb'\u001b[0m: \u001b[1;36m5.3\u001b[0m, \u001b[32m'ast'\u001b[0m: \u001b[1;36m4.5\u001b[0m\u001b[1m}\u001b[0m, \u001b[1m{\u001b[0m\u001b[32m'season'\u001b[0m: \u001b[1;36m2006\u001b[0m, \u001b[32m'gp'\u001b[0m: \u001b[1;36m77\u001b[0m, \u001b[32m'pts'\u001b[0m: \u001b[1;36m31.6\u001b[0m, \u001b[32m'reb'\u001b[0m: \u001b[1;36m5.7\u001b[0m, \u001b[32m'ast'\u001b[0m: \u001b[1;36m5.4\u001b[0m\u001b[1m}\u001b[0m, \u001b[1m{\u001b[0m\u001b[32m'season'\u001b[0m: \u001b[1;36m2007\u001b[0m, \u001b[32m'gp'\u001b[0m: \u001b[1;36m82\u001b[0m, \u001b[32m'pts'\u001b[0m: \u001b[1;36m28.3\u001b[0m, \u001b[32m'reb'\u001b[0m: \u001b[1;36m6.3\u001b[0m, \u001b[32m'ast'\u001b[0m: \u001b[1;36m5.4\u001b[0m\u001b[1m}\u001b[0m, \u001b[1m{\u001b[0m\u001b[32m'season'\u001b[0m: \u001b[1;36m2008\u001b[0m, \u001b[32m'gp'\u001b[0m: \u001b[1;36m82\u001b[0m, \u001b[32m'pts'\u001b[0m: \u001b[1;36m26.8\u001b[0m, \u001b[32m'reb'\u001b[0m: \u001b[1;36m5.2\u001b[0m, \u001b[32m'ast'\u001b[0m: \u001b[1;36m4.9\u001b[0m\u001b[1m}\u001b[0m, \u001b[1m{\u001b[0m\u001b[32m'season'\u001b[0m: \u001b[1;36m2009\u001b[0m, \u001b[32m'gp'\u001b[0m: \u001b[1;36m73\u001b[0m, \u001b[32m'pts'\u001b[0m: \u001b[1;36m27.0\u001b[0m, \u001b[32m'reb'\u001b[0m: \u001b[1;36m5.4\u001b[0m, \u001b[32m'ast'\u001b[0m: \u001b[1;36m5.0\u001b[0m\u001b[1m}\u001b[0m, \u001b[1m{\u001b[0m\u001b[32m'season'\u001b[0m: \u001b[1;36m2010\u001b[0m, \u001b[32m'gp'\u001b[0m: \u001b[1;36m82\u001b[0m, \u001b[32m'pts'\u001b[0m: \u001b[1;36m25.3\u001b[0m, \u001b[32m'reb'\u001b[0m: \u001b[1;36m5.1\u001b[0m, \u001b[32m'ast'\u001b[0m: \u001b[1;36m4.7\u001b[0m\u001b[1m}\u001b[0m, \u001b[1m{\u001b[0m\u001b[32m'season'\u001b[0m: \u001b[1;36m2011\u001b[0m, \u001b[32m'gp'\u001b[0m: \u001b[1;36m58\u001b[0m, \u001b[32m'pts'\u001b[0m: \u001b[1;36m27.9\u001b[0m, \u001b[32m'reb'\u001b[0m: \u001b[1;36m5.4\u001b[0m, \u001b[32m'ast'\u001b[0m: \u001b[1;36m4.6\u001b[0m\u001b[1m}\u001b[0m, \u001b[1m{\u001b[0m\u001b[32m'season'\u001b[0m: \u001b[1;36m2012\u001b[0m, \u001b[32m'gp'\u001b[0m: \u001b[1;36m78\u001b[0m, \u001b[32m'pts'\u001b[0m: \u001b[1;36m27.3\u001b[0m, \u001b[32m'reb'\u001b[0m: \u001b[1;36m5.6\u001b[0m, \u001b[32m'ast'\u001b[0m: \u001b[1;36m6.0\u001b[0m\u001b[1m}\u001b[0m, \u001b[1m{\u001b[0m\u001b[32m'season'\u001b[0m: \u001b[1;36m2013\u001b[0m, \u001b[32m'gp'\u001b[0m: \u001b[1;36m6\u001b[0m, \u001b[32m'pts'\u001b[0m: \u001b[1;36m13.8\u001b[0m, \u001b[32m'reb'\u001b[0m: \u001b[1;36m4.3\u001b[0m, \u001b[32m'ast'\u001b[0m: \u001b[1;36m6.3\u001b[0m\u001b[1m}\u001b[0m, \u001b[1m{\u001b[0m\u001b[32m'season'\u001b[0m: \u001b[1;36m2014\u001b[0m, \u001b[32m'gp'\u001b[0m: \u001b[1;36m35\u001b[0m, \u001b[32m'pts'\u001b[0m: \u001b[1;36m22.3\u001b[0m, \u001b[32m'reb'\u001b[0m: \u001b[1;36m5.7\u001b[0m, \u001b[32m'ast'\u001b[0m: \u001b[1;36m5.6\u001b[0m\u001b[1m}\u001b[0m, \u001b[1m{\u001b[0m\u001b[32m'season'\u001b[0m: \u001b[1;36m2015\u001b[0m, \u001b[32m'gp'\u001b[0m: \u001b[1;36m66\u001b[0m, \u001b[32m'pts'\u001b[0m: \u001b[1;36m17.6\u001b[0m, \u001b[32m'reb'\u001b[0m: \u001b[1;36m3.7\u001b[0m, \u001b[32m'ast'\u001b[0m: \u001b[1;36m2.8\u001b[0m\u001b[1m}\u001b[0m\u001b[1m]\u001b[0m │           \u001b[1;36m2021\u001b[0m │\n",
       "└─────────────┴───────┴───────────────────┴─────────┴───────────────┴───────────────┴────────────┴─────────────┴──────────────┴───────────────────────────────────────────────────────────────────────────────────────────────────────────────────────────────────────────────────────────────────────────────────────────────────────────────────────────────────────────────────────────────────────────────────────────────────────────────────────────────────────────────────────────────────────────────────────────────────────────────────────────────────────────────────────────────────────────────────────────────────────────────────────────────────────────────────────────────────────────────────────────────────────────────────────────────────────────────────────────────────────────────────────────────────────────────────────────────────────────────────────────────────────────────────────────────────────────────────────────────────────────────────────────────────────────────────────────────────────────────────────────────────────────────────────────────────────────────────────────────────────────────────────────────────────────────────────────────────────────────────────────────────────────────────────────────────────────────────────────────────────────────────────────────────────────────────┴────────────────┘"
      ]
     },
     "execution_count": 10,
     "metadata": {},
     "output_type": "execute_result"
    }
   ],
   "source": [
    "qr = \"\"\"\n",
    "SELECT * FROM players\n",
    "WHERE current_season=2021\n",
    "AND player_name='Kobe Bryant'\n",
    "\"\"\"\n",
    "con.sql(qr)\n"
   ]
  },
  {
   "cell_type": "code",
   "execution_count": 11,
   "metadata": {},
   "outputs": [
    {
     "data": {
      "text/html": [
       "<pre style=\"white-space:pre;overflow-x:auto;line-height:normal;font-family:Menlo,'DejaVu Sans Mono',consolas,'Courier New',monospace\"></pre>\n"
      ],
      "text/plain": []
     },
     "metadata": {},
     "output_type": "display_data"
    },
    {
     "data": {
      "text/plain": [
       "\n",
       "┌─────────────┬─────────────────────────────────────────────────────────────────────┐\n",
       "│ player_name │                        \u001b[1;35munnest\u001b[0m\u001b[1m(\u001b[0mseason_stats\u001b[1m)\u001b[0m                         │\n",
       "│   varchar   │ \u001b[1;35mstruct\u001b[0m\u001b[1m(\u001b[0mseason integer, gp integer, pts float, reb float, ast float\u001b[1m)\u001b[0m │\n",
       "├─────────────┼─────────────────────────────────────────────────────────────────────┤\n",
       "│ Kobe Bryant │ \u001b[1m{\u001b[0m\u001b[32m'season'\u001b[0m: \u001b[1;36m1998\u001b[0m, \u001b[32m'gp'\u001b[0m: \u001b[1;36m50\u001b[0m, \u001b[32m'pts'\u001b[0m: \u001b[1;36m19.9\u001b[0m, \u001b[32m'reb'\u001b[0m: \u001b[1;36m5.3\u001b[0m, \u001b[32m'ast'\u001b[0m: \u001b[1;36m3.8\u001b[0m\u001b[1m}\u001b[0m     │\n",
       "│ Kobe Bryant │ \u001b[1m{\u001b[0m\u001b[32m'season'\u001b[0m: \u001b[1;36m1999\u001b[0m, \u001b[32m'gp'\u001b[0m: \u001b[1;36m66\u001b[0m, \u001b[32m'pts'\u001b[0m: \u001b[1;36m22.5\u001b[0m, \u001b[32m'reb'\u001b[0m: \u001b[1;36m6.3\u001b[0m, \u001b[32m'ast'\u001b[0m: \u001b[1;36m4.9\u001b[0m\u001b[1m}\u001b[0m     │\n",
       "│ Kobe Bryant │ \u001b[1m{\u001b[0m\u001b[32m'season'\u001b[0m: \u001b[1;36m2000\u001b[0m, \u001b[32m'gp'\u001b[0m: \u001b[1;36m68\u001b[0m, \u001b[32m'pts'\u001b[0m: \u001b[1;36m28.5\u001b[0m, \u001b[32m'reb'\u001b[0m: \u001b[1;36m5.9\u001b[0m, \u001b[32m'ast'\u001b[0m: \u001b[1;36m5.0\u001b[0m\u001b[1m}\u001b[0m     │\n",
       "│ Kobe Bryant │ \u001b[1m{\u001b[0m\u001b[32m'season'\u001b[0m: \u001b[1;36m2001\u001b[0m, \u001b[32m'gp'\u001b[0m: \u001b[1;36m80\u001b[0m, \u001b[32m'pts'\u001b[0m: \u001b[1;36m25.2\u001b[0m, \u001b[32m'reb'\u001b[0m: \u001b[1;36m5.5\u001b[0m, \u001b[32m'ast'\u001b[0m: \u001b[1;36m5.5\u001b[0m\u001b[1m}\u001b[0m     │\n",
       "│ Kobe Bryant │ \u001b[1m{\u001b[0m\u001b[32m'season'\u001b[0m: \u001b[1;36m2002\u001b[0m, \u001b[32m'gp'\u001b[0m: \u001b[1;36m82\u001b[0m, \u001b[32m'pts'\u001b[0m: \u001b[1;36m30.0\u001b[0m, \u001b[32m'reb'\u001b[0m: \u001b[1;36m6.9\u001b[0m, \u001b[32m'ast'\u001b[0m: \u001b[1;36m5.9\u001b[0m\u001b[1m}\u001b[0m     │\n",
       "│ Kobe Bryant │ \u001b[1m{\u001b[0m\u001b[32m'season'\u001b[0m: \u001b[1;36m2003\u001b[0m, \u001b[32m'gp'\u001b[0m: \u001b[1;36m65\u001b[0m, \u001b[32m'pts'\u001b[0m: \u001b[1;36m24.0\u001b[0m, \u001b[32m'reb'\u001b[0m: \u001b[1;36m5.5\u001b[0m, \u001b[32m'ast'\u001b[0m: \u001b[1;36m5.1\u001b[0m\u001b[1m}\u001b[0m     │\n",
       "│ Kobe Bryant │ \u001b[1m{\u001b[0m\u001b[32m'season'\u001b[0m: \u001b[1;36m2004\u001b[0m, \u001b[32m'gp'\u001b[0m: \u001b[1;36m66\u001b[0m, \u001b[32m'pts'\u001b[0m: \u001b[1;36m27.6\u001b[0m, \u001b[32m'reb'\u001b[0m: \u001b[1;36m5.9\u001b[0m, \u001b[32m'ast'\u001b[0m: \u001b[1;36m6.0\u001b[0m\u001b[1m}\u001b[0m     │\n",
       "│ Kobe Bryant │ \u001b[1m{\u001b[0m\u001b[32m'season'\u001b[0m: \u001b[1;36m2005\u001b[0m, \u001b[32m'gp'\u001b[0m: \u001b[1;36m80\u001b[0m, \u001b[32m'pts'\u001b[0m: \u001b[1;36m35.4\u001b[0m, \u001b[32m'reb'\u001b[0m: \u001b[1;36m5.3\u001b[0m, \u001b[32m'ast'\u001b[0m: \u001b[1;36m4.5\u001b[0m\u001b[1m}\u001b[0m     │\n",
       "│ Kobe Bryant │ \u001b[1m{\u001b[0m\u001b[32m'season'\u001b[0m: \u001b[1;36m2006\u001b[0m, \u001b[32m'gp'\u001b[0m: \u001b[1;36m77\u001b[0m, \u001b[32m'pts'\u001b[0m: \u001b[1;36m31.6\u001b[0m, \u001b[32m'reb'\u001b[0m: \u001b[1;36m5.7\u001b[0m, \u001b[32m'ast'\u001b[0m: \u001b[1;36m5.4\u001b[0m\u001b[1m}\u001b[0m     │\n",
       "│ Kobe Bryant │ \u001b[1m{\u001b[0m\u001b[32m'season'\u001b[0m: \u001b[1;36m2007\u001b[0m, \u001b[32m'gp'\u001b[0m: \u001b[1;36m82\u001b[0m, \u001b[32m'pts'\u001b[0m: \u001b[1;36m28.3\u001b[0m, \u001b[32m'reb'\u001b[0m: \u001b[1;36m6.3\u001b[0m, \u001b[32m'ast'\u001b[0m: \u001b[1;36m5.4\u001b[0m\u001b[1m}\u001b[0m     │\n",
       "│ Kobe Bryant │ \u001b[1m{\u001b[0m\u001b[32m'season'\u001b[0m: \u001b[1;36m2008\u001b[0m, \u001b[32m'gp'\u001b[0m: \u001b[1;36m82\u001b[0m, \u001b[32m'pts'\u001b[0m: \u001b[1;36m26.8\u001b[0m, \u001b[32m'reb'\u001b[0m: \u001b[1;36m5.2\u001b[0m, \u001b[32m'ast'\u001b[0m: \u001b[1;36m4.9\u001b[0m\u001b[1m}\u001b[0m     │\n",
       "│ Kobe Bryant │ \u001b[1m{\u001b[0m\u001b[32m'season'\u001b[0m: \u001b[1;36m2009\u001b[0m, \u001b[32m'gp'\u001b[0m: \u001b[1;36m73\u001b[0m, \u001b[32m'pts'\u001b[0m: \u001b[1;36m27.0\u001b[0m, \u001b[32m'reb'\u001b[0m: \u001b[1;36m5.4\u001b[0m, \u001b[32m'ast'\u001b[0m: \u001b[1;36m5.0\u001b[0m\u001b[1m}\u001b[0m     │\n",
       "│ Kobe Bryant │ \u001b[1m{\u001b[0m\u001b[32m'season'\u001b[0m: \u001b[1;36m2010\u001b[0m, \u001b[32m'gp'\u001b[0m: \u001b[1;36m82\u001b[0m, \u001b[32m'pts'\u001b[0m: \u001b[1;36m25.3\u001b[0m, \u001b[32m'reb'\u001b[0m: \u001b[1;36m5.1\u001b[0m, \u001b[32m'ast'\u001b[0m: \u001b[1;36m4.7\u001b[0m\u001b[1m}\u001b[0m     │\n",
       "│ Kobe Bryant │ \u001b[1m{\u001b[0m\u001b[32m'season'\u001b[0m: \u001b[1;36m2011\u001b[0m, \u001b[32m'gp'\u001b[0m: \u001b[1;36m58\u001b[0m, \u001b[32m'pts'\u001b[0m: \u001b[1;36m27.9\u001b[0m, \u001b[32m'reb'\u001b[0m: \u001b[1;36m5.4\u001b[0m, \u001b[32m'ast'\u001b[0m: \u001b[1;36m4.6\u001b[0m\u001b[1m}\u001b[0m     │\n",
       "│ Kobe Bryant │ \u001b[1m{\u001b[0m\u001b[32m'season'\u001b[0m: \u001b[1;36m2012\u001b[0m, \u001b[32m'gp'\u001b[0m: \u001b[1;36m78\u001b[0m, \u001b[32m'pts'\u001b[0m: \u001b[1;36m27.3\u001b[0m, \u001b[32m'reb'\u001b[0m: \u001b[1;36m5.6\u001b[0m, \u001b[32m'ast'\u001b[0m: \u001b[1;36m6.0\u001b[0m\u001b[1m}\u001b[0m     │\n",
       "│ Kobe Bryant │ \u001b[1m{\u001b[0m\u001b[32m'season'\u001b[0m: \u001b[1;36m2013\u001b[0m, \u001b[32m'gp'\u001b[0m: \u001b[1;36m6\u001b[0m, \u001b[32m'pts'\u001b[0m: \u001b[1;36m13.8\u001b[0m, \u001b[32m'reb'\u001b[0m: \u001b[1;36m4.3\u001b[0m, \u001b[32m'ast'\u001b[0m: \u001b[1;36m6.3\u001b[0m\u001b[1m}\u001b[0m      │\n",
       "│ Kobe Bryant │ \u001b[1m{\u001b[0m\u001b[32m'season'\u001b[0m: \u001b[1;36m2014\u001b[0m, \u001b[32m'gp'\u001b[0m: \u001b[1;36m35\u001b[0m, \u001b[32m'pts'\u001b[0m: \u001b[1;36m22.3\u001b[0m, \u001b[32m'reb'\u001b[0m: \u001b[1;36m5.7\u001b[0m, \u001b[32m'ast'\u001b[0m: \u001b[1;36m5.6\u001b[0m\u001b[1m}\u001b[0m     │\n",
       "│ Kobe Bryant │ \u001b[1m{\u001b[0m\u001b[32m'season'\u001b[0m: \u001b[1;36m2015\u001b[0m, \u001b[32m'gp'\u001b[0m: \u001b[1;36m66\u001b[0m, \u001b[32m'pts'\u001b[0m: \u001b[1;36m17.6\u001b[0m, \u001b[32m'reb'\u001b[0m: \u001b[1;36m3.7\u001b[0m, \u001b[32m'ast'\u001b[0m: \u001b[1;36m2.8\u001b[0m\u001b[1m}\u001b[0m     │\n",
       "├─────────────┴─────────────────────────────────────────────────────────────────────┤\n",
       "│ \u001b[1;36m18\u001b[0m rows                                                                 \u001b[1;36m2\u001b[0m columns │\n",
       "└───────────────────────────────────────────────────────────────────────────────────┘"
      ]
     },
     "execution_count": 11,
     "metadata": {},
     "output_type": "execute_result"
    }
   ],
   "source": [
    "qr = \"\"\"\n",
    "SELECT\n",
    "    player_name,\n",
    "    UNNEST(season_stats) FROM players\n",
    "WHERE current_season=2021\n",
    "AND player_name='Kobe Bryant'\n",
    "\"\"\"\n",
    "con.sql(qr)"
   ]
  },
  {
   "cell_type": "code",
   "execution_count": 12,
   "metadata": {},
   "outputs": [
    {
     "data": {
      "text/html": [
       "<pre style=\"white-space:pre;overflow-x:auto;line-height:normal;font-family:Menlo,'DejaVu Sans Mono',consolas,'Courier New',monospace\"></pre>\n"
      ],
      "text/plain": []
     },
     "metadata": {},
     "output_type": "display_data"
    },
    {
     "data": {
      "text/plain": [
       "\n",
       "┌─────────────┬────────┬───────┬───────┬───────┬───────┐\n",
       "│ player_name │ season │  gp   │  pts  │  reb  │  ast  │\n",
       "│   varchar   │ int32  │ int32 │ float │ float │ float │\n",
       "├─────────────┼────────┼───────┼───────┼───────┼───────┤\n",
       "│ Kobe Bryant │   \u001b[1;36m1998\u001b[0m │    \u001b[1;36m50\u001b[0m │  \u001b[1;36m19.9\u001b[0m │   \u001b[1;36m5.3\u001b[0m │   \u001b[1;36m3.8\u001b[0m │\n",
       "│ Kobe Bryant │   \u001b[1;36m1999\u001b[0m │    \u001b[1;36m66\u001b[0m │  \u001b[1;36m22.5\u001b[0m │   \u001b[1;36m6.3\u001b[0m │   \u001b[1;36m4.9\u001b[0m │\n",
       "│ Kobe Bryant │   \u001b[1;36m2000\u001b[0m │    \u001b[1;36m68\u001b[0m │  \u001b[1;36m28.5\u001b[0m │   \u001b[1;36m5.9\u001b[0m │   \u001b[1;36m5.0\u001b[0m │\n",
       "│ Kobe Bryant │   \u001b[1;36m2001\u001b[0m │    \u001b[1;36m80\u001b[0m │  \u001b[1;36m25.2\u001b[0m │   \u001b[1;36m5.5\u001b[0m │   \u001b[1;36m5.5\u001b[0m │\n",
       "│ Kobe Bryant │   \u001b[1;36m2002\u001b[0m │    \u001b[1;36m82\u001b[0m │  \u001b[1;36m30.0\u001b[0m │   \u001b[1;36m6.9\u001b[0m │   \u001b[1;36m5.9\u001b[0m │\n",
       "│ Kobe Bryant │   \u001b[1;36m2003\u001b[0m │    \u001b[1;36m65\u001b[0m │  \u001b[1;36m24.0\u001b[0m │   \u001b[1;36m5.5\u001b[0m │   \u001b[1;36m5.1\u001b[0m │\n",
       "│ Kobe Bryant │   \u001b[1;36m2004\u001b[0m │    \u001b[1;36m66\u001b[0m │  \u001b[1;36m27.6\u001b[0m │   \u001b[1;36m5.9\u001b[0m │   \u001b[1;36m6.0\u001b[0m │\n",
       "│ Kobe Bryant │   \u001b[1;36m2005\u001b[0m │    \u001b[1;36m80\u001b[0m │  \u001b[1;36m35.4\u001b[0m │   \u001b[1;36m5.3\u001b[0m │   \u001b[1;36m4.5\u001b[0m │\n",
       "│ Kobe Bryant │   \u001b[1;36m2006\u001b[0m │    \u001b[1;36m77\u001b[0m │  \u001b[1;36m31.6\u001b[0m │   \u001b[1;36m5.7\u001b[0m │   \u001b[1;36m5.4\u001b[0m │\n",
       "│ Kobe Bryant │   \u001b[1;36m2007\u001b[0m │    \u001b[1;36m82\u001b[0m │  \u001b[1;36m28.3\u001b[0m │   \u001b[1;36m6.3\u001b[0m │   \u001b[1;36m5.4\u001b[0m │\n",
       "│ Kobe Bryant │   \u001b[1;36m2008\u001b[0m │    \u001b[1;36m82\u001b[0m │  \u001b[1;36m26.8\u001b[0m │   \u001b[1;36m5.2\u001b[0m │   \u001b[1;36m4.9\u001b[0m │\n",
       "│ Kobe Bryant │   \u001b[1;36m2009\u001b[0m │    \u001b[1;36m73\u001b[0m │  \u001b[1;36m27.0\u001b[0m │   \u001b[1;36m5.4\u001b[0m │   \u001b[1;36m5.0\u001b[0m │\n",
       "│ Kobe Bryant │   \u001b[1;36m2010\u001b[0m │    \u001b[1;36m82\u001b[0m │  \u001b[1;36m25.3\u001b[0m │   \u001b[1;36m5.1\u001b[0m │   \u001b[1;36m4.7\u001b[0m │\n",
       "│ Kobe Bryant │   \u001b[1;36m2011\u001b[0m │    \u001b[1;36m58\u001b[0m │  \u001b[1;36m27.9\u001b[0m │   \u001b[1;36m5.4\u001b[0m │   \u001b[1;36m4.6\u001b[0m │\n",
       "│ Kobe Bryant │   \u001b[1;36m2012\u001b[0m │    \u001b[1;36m78\u001b[0m │  \u001b[1;36m27.3\u001b[0m │   \u001b[1;36m5.6\u001b[0m │   \u001b[1;36m6.0\u001b[0m │\n",
       "│ Kobe Bryant │   \u001b[1;36m2013\u001b[0m │     \u001b[1;36m6\u001b[0m │  \u001b[1;36m13.8\u001b[0m │   \u001b[1;36m4.3\u001b[0m │   \u001b[1;36m6.3\u001b[0m │\n",
       "│ Kobe Bryant │   \u001b[1;36m2014\u001b[0m │    \u001b[1;36m35\u001b[0m │  \u001b[1;36m22.3\u001b[0m │   \u001b[1;36m5.7\u001b[0m │   \u001b[1;36m5.6\u001b[0m │\n",
       "│ Kobe Bryant │   \u001b[1;36m2015\u001b[0m │    \u001b[1;36m66\u001b[0m │  \u001b[1;36m17.6\u001b[0m │   \u001b[1;36m3.7\u001b[0m │   \u001b[1;36m2.8\u001b[0m │\n",
       "├─────────────┴────────┴───────┴───────┴───────┴───────┤\n",
       "│ \u001b[1;36m18\u001b[0m rows                                    \u001b[1;36m6\u001b[0m columns │\n",
       "└──────────────────────────────────────────────────────┘"
      ]
     },
     "execution_count": 12,
     "metadata": {},
     "output_type": "execute_result"
    }
   ],
   "source": [
    "\n",
    "qr = \"\"\"\n",
    "WITH expansion AS (\n",
    "    SELECT\n",
    "        player_name,\n",
    "        UNNEST(season_stats)::season_stats AS season_stats\n",
    "    FROM players\n",
    "    WHERE current_season=2021\n",
    "    AND player_name='Kobe Bryant'\n",
    ")\n",
    "SELECT\n",
    "    player_name,\n",
    "    season_stats.*\n",
    "FROM expansion\n",
    "\"\"\"\n",
    "con.sql(qr)"
   ]
  },
  {
   "cell_type": "code",
   "execution_count": 13,
   "metadata": {},
   "outputs": [],
   "source": [
    "qr = \"\"\"\n",
    "CREATE TYPE scoring_class AS ENUM ('star', 'good', 'average', 'bad')\n",
    "\"\"\"\n",
    "qr = \"\"\"\n",
    "DROP TABLE IF EXISTS players\n",
    "CREATE TABLE players (\n",
    "    player_name TEXT,\n",
    "    age INTEGER,\n",
    "    team_abbreviation TEXT,\n",
    "    college TEXT,\n",
    "    player_height FLOAT,\n",
    "    player_weight FLOAT,\n",
    "    draft_year TEXT,\n",
    "    draft_round TEXT,\n",
    "    draft_number TEXT,\n",
    "    season_stats season_stats[],\n",
    "    scoring_class scoring_class,\n",
    "    current_season INTEGER,\n",
    "    PRIMARY KEY(player_name, current_season, team_abbreviation, college)\n",
    ")\n",
    "\"\"\""
   ]
  },
  {
   "cell_type": "code",
   "execution_count": null,
   "metadata": {},
   "outputs": [],
   "source": []
  }
 ],
 "metadata": {
  "kernelspec": {
   "display_name": ".venv",
   "language": "python",
   "name": "python3"
  },
  "language_info": {
   "codemirror_mode": {
    "name": "ipython",
    "version": 3
   },
   "file_extension": ".py",
   "mimetype": "text/x-python",
   "name": "python",
   "nbconvert_exporter": "python",
   "pygments_lexer": "ipython3",
   "version": "3.12.7"
  }
 },
 "nbformat": 4,
 "nbformat_minor": 2
}
