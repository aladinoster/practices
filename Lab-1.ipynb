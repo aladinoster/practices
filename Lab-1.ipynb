{
 "cells": [
  {
   "cell_type": "code",
   "execution_count": 1,
   "metadata": {},
   "outputs": [],
   "source": [
    "import duckdb\n",
    "import polars as pl\n",
    "from rich import print\n",
    "from IPython.display import display\n",
    "%load_ext rich\n",
    "con = duckdb.connect()"
   ]
  },
  {
   "cell_type": "markdown",
   "metadata": {},
   "source": [
    "For the sake of simplicty, we clean out certain aspects of the data before:"
   ]
  },
  {
   "cell_type": "code",
   "execution_count": 9,
   "metadata": {},
   "outputs": [
    {
     "data": {
      "text/html": [
       "<pre style=\"white-space:pre;overflow-x:auto;line-height:normal;font-family:Menlo,'DejaVu Sans Mono',consolas,'Courier New',monospace\"></pre>\n"
      ],
      "text/plain": []
     },
     "metadata": {},
     "output_type": "display_data"
    },
    {
     "data": {
      "text/plain": [
       "\n",
       "┌───────────────────┬────────┬───────────────────┬─────────────┬───────────────┬───────────────────┬────────────┬─────────────┬──────────────┬─────────┐\n",
       "│    player_name    │  age   │ team_abbreviation │   college   │ player_height │   player_weight   │ draft_year │ draft_round │ draft_number │ season  │\n",
       "│      varchar      │ double │      varchar      │   varchar   │    double     │      double       │  varchar   │   varchar   │   varchar    │ varchar │\n",
       "├───────────────────┼────────┼───────────────────┼─────────────┼───────────────┼───────────────────┼────────────┼─────────────┼──────────────┼─────────┤\n",
       "│ Alonzo Gee        │   \u001b[1;36m24.0\u001b[0m │ CLE               │ Alabama     │        \u001b[1;36m198.12\u001b[0m │          \u001b[1;36m99.79024\u001b[0m │ Undrafted  │ Undrafted   │ Undrafted    │ \u001b[1;36m2010\u001b[0m-\u001b[1;36m11\u001b[0m │\n",
       "│ Willy Hernangomez │   \u001b[1;36m24.0\u001b[0m │ CHA               │ \u001b[3;35mNone\u001b[0m        │        \u001b[1;36m210.82\u001b[0m │         \u001b[1;36m108.86208\u001b[0m │ \u001b[1;36m2015\u001b[0m       │ \u001b[1;36m2\u001b[0m           │ \u001b[1;36m35\u001b[0m           │ \u001b[1;36m2017\u001b[0m-\u001b[1;36m18\u001b[0m │\n",
       "│ Jeff Adrien       │   \u001b[1;36m25.0\u001b[0m │ GSW               │ Connecticut │         \u001b[1;36m201.0\u001b[0m │             \u001b[1;36m111.0\u001b[0m │ Undrafted  │ Undrafted   │ Undrafted    │ \u001b[1;36m2010\u001b[0m-\u001b[1;36m11\u001b[0m │\n",
       "│ Dell Demps        │   \u001b[1;36m27.0\u001b[0m │ ORL               │ Pacific     │         \u001b[1;36m190.5\u001b[0m │ \u001b[1;36m92.98635999999999\u001b[0m │ Undrafted  │ Undrafted   │ Undrafted    │ \u001b[1;36m1996\u001b[0m-\u001b[1;36m97\u001b[0m │\n",
       "│ Alexis Ajinca     │   \u001b[1;36m27.0\u001b[0m │ NOP               │ \u001b[3;35mNone\u001b[0m        │        \u001b[1;36m218.44\u001b[0m │        \u001b[1;36m112.490816\u001b[0m │ \u001b[1;36m2008\u001b[0m       │ \u001b[1;36m1\u001b[0m           │ \u001b[1;36m20\u001b[0m           │ \u001b[1;36m2014\u001b[0m-\u001b[1;36m15\u001b[0m │\n",
       "└───────────────────┴────────┴───────────────────┴─────────────┴───────────────┴───────────────────┴────────────┴─────────────┴──────────────┴─────────┘"
      ]
     },
     "execution_count": 9,
     "metadata": {},
     "output_type": "execute_result"
    }
   ],
   "source": [
    "df = pl.read_csv('all_seasons.csv')\n",
    "df = df.unique(subset = [\"player_name\",\"team_abbreviation\",\"season\"])\n",
    "qr = \"\"\"\n",
    "SELECT\n",
    "    player_name,\n",
    "    age,\n",
    "    team_abbreviation,\n",
    "    college,\n",
    "    player_height,\n",
    "    player_weight,\n",
    "    draft_year,\n",
    "    draft_round,\n",
    "    draft_number,\n",
    "    season\n",
    "    FROM df,\n",
    "    LIMIT 5;\n",
    "\"\"\"\n",
    "con.sql(qr)"
   ]
  },
  {
   "cell_type": "code",
   "execution_count": 3,
   "metadata": {},
   "outputs": [],
   "source": [
    "qr = \"\"\"\n",
    "DROP TABLE IF EXISTS players_seasons;\n",
    "\n",
    "DROP TYPE IF EXISTS season_stats;\n",
    "CREATE TYPE season_stats AS STRUCT(\n",
    "    season INTEGER,\n",
    "    gp INTEGER,\n",
    "    pts FLOAT,\n",
    "    reb FLOAT,\n",
    "    ast FLOAT\n",
    ");\n",
    "\n",
    "CREATE TABLE players (\n",
    "    player_name TEXT,\n",
    "    age INTEGER,\n",
    "    team_abbreviation TEXT,\n",
    "    college TEXT,\n",
    "    player_height FLOAT,\n",
    "    player_weight FLOAT,\n",
    "    draft_year TEXT,\n",
    "    draft_round TEXT,\n",
    "    draft_number TEXT,\n",
    "    season_stats season_stats[],\n",
    "    current_season INTEGER,\n",
    "    PRIMARY KEY(player_name, current_season, team_abbreviation)\n",
    ")\n",
    "\"\"\"\n",
    "con.sql(qr)"
   ]
  },
  {
   "cell_type": "code",
   "execution_count": 4,
   "metadata": {},
   "outputs": [
    {
     "data": {
      "text/html": [
       "<pre style=\"white-space:pre;overflow-x:auto;line-height:normal;font-family:Menlo,'DejaVu Sans Mono',consolas,'Courier New',monospace\">shape: <span style=\"font-weight: bold\">(</span><span style=\"color: #008080; text-decoration-color: #008080; font-weight: bold\">1</span>, <span style=\"color: #008080; text-decoration-color: #008080; font-weight: bold\">4</span><span style=\"font-weight: bold\">)</span>\n",
       "┌──────────┬──────────┬───────────────┬───────────────┐\n",
       "│ min_year ┆ max_year ┆ min_year_text ┆ max_year_text │\n",
       "│ ---      ┆ ---      ┆ ---           ┆ ---           │\n",
       "│ i32      ┆ i32      ┆ str           ┆ str           │\n",
       "╞══════════╪══════════╪═══════════════╪═══════════════╡\n",
       "│ <span style=\"color: #008080; text-decoration-color: #008080; font-weight: bold\">1996</span>     ┆ <span style=\"color: #008080; text-decoration-color: #008080; font-weight: bold\">2022</span>     ┆ <span style=\"color: #008080; text-decoration-color: #008080; font-weight: bold\">1996</span>-<span style=\"color: #008080; text-decoration-color: #008080; font-weight: bold\">97</span>       ┆ <span style=\"color: #008080; text-decoration-color: #008080; font-weight: bold\">2022</span>-<span style=\"color: #008080; text-decoration-color: #008080; font-weight: bold\">23</span>       │\n",
       "└──────────┴──────────┴───────────────┴───────────────┘\n",
       "</pre>\n"
      ],
      "text/plain": [
       "shape: \u001b[1m(\u001b[0m\u001b[1;36m1\u001b[0m, \u001b[1;36m4\u001b[0m\u001b[1m)\u001b[0m\n",
       "┌──────────┬──────────┬───────────────┬───────────────┐\n",
       "│ min_year ┆ max_year ┆ min_year_text ┆ max_year_text │\n",
       "│ ---      ┆ ---      ┆ ---           ┆ ---           │\n",
       "│ i32      ┆ i32      ┆ str           ┆ str           │\n",
       "╞══════════╪══════════╪═══════════════╪═══════════════╡\n",
       "│ \u001b[1;36m1996\u001b[0m     ┆ \u001b[1;36m2022\u001b[0m     ┆ \u001b[1;36m1996\u001b[0m-\u001b[1;36m97\u001b[0m       ┆ \u001b[1;36m2022\u001b[0m-\u001b[1;36m23\u001b[0m       │\n",
       "└──────────┴──────────┴───────────────┴───────────────┘\n"
      ]
     },
     "metadata": {},
     "output_type": "display_data"
    }
   ],
   "source": [
    "qr=\"\"\"\n",
    "SELECT\n",
    "    MIN(season[:4]::INTEGER) AS min_year,\n",
    "    MAX(season[:4]::INTEGER) AS max_year,\n",
    "    MIN(season) AS min_year_text,\n",
    "    MAX(season) AS max_year_text,\n",
    "FROM read_csv('all_seasons.csv')\n",
    "\"\"\"\n",
    "dfr = con.sql(qr).pl()\n",
    "print(dfr)\n"
   ]
  },
  {
   "cell_type": "code",
   "execution_count": 5,
   "metadata": {},
   "outputs": [
    {
     "data": {
      "text/html": [
       "<pre style=\"white-space:pre;overflow-x:auto;line-height:normal;font-family:Menlo,'DejaVu Sans Mono',consolas,'Courier New',monospace\"></pre>\n"
      ],
      "text/plain": []
     },
     "metadata": {},
     "output_type": "display_data"
    },
    {
     "data": {
      "text/plain": [
       "\n",
       "┌─────────────┬───────┬───────────────────┬─────────┬───────────────┬───────────────┬────────────┬─────────────┬──────────────┬───────────────────────────────────────────────────────────────────────┬────────────────┐\n",
       "│ player_name │  age  │ team_abbreviation │ college │ player_height │ player_weight │ draft_year │ draft_round │ draft_number │                             season_stats                              │ current_season │\n",
       "│   varchar   │ int32 │      varchar      │ varchar │     float     │     float     │  varchar   │   varchar   │   varchar    │ \u001b[1;35mstruct\u001b[0m\u001b[1m(\u001b[0mseason integer, gp integer, pts float, reb float, ast float\u001b[1m)\u001b[0m\u001b[1m[\u001b[0m\u001b[1m]\u001b[0m │     int32      │\n",
       "├─────────────┴───────┴───────────────────┴─────────┴───────────────┴───────────────┴────────────┴─────────────┴──────────────┴───────────────────────────────────────────────────────────────────────┴────────────────┤\n",
       "│                                                                                                        \u001b[1;36m0\u001b[0m rows                                                                                                        │\n",
       "└──────────────────────────────────────────────────────────────────────────────────────────────────────────────────────────────────────────────────────────────────────────────────────────────────────────────────────┘"
      ]
     },
     "execution_count": 5,
     "metadata": {},
     "output_type": "execute_result"
    }
   ],
   "source": [
    "qr = \"\"\"\n",
    "FROM players\n",
    "LIMIT 5\n",
    "\"\"\"\n",
    "con.sql(qr)"
   ]
  },
  {
   "cell_type": "code",
   "execution_count": 8,
   "metadata": {},
   "outputs": [
    {
     "data": {
      "text/html": [
       "<pre style=\"white-space:pre;overflow-x:auto;line-height:normal;font-family:Menlo,'DejaVu Sans Mono',consolas,'Courier New',monospace\">\n",
       "WITH yesterday AS <span style=\"font-weight: bold\">(</span>\n",
       "    SELECT * FROM players\n",
       "    WHERE <span style=\"color: #808000; text-decoration-color: #808000\">current_season</span>=<span style=\"color: #008080; text-decoration-color: #008080; font-weight: bold\">1995</span>\n",
       "<span style=\"font-weight: bold\">)</span>, today AS <span style=\"font-weight: bold\">(</span>\n",
       "    --SELECT * FROM <span style=\"color: #800080; text-decoration-color: #800080; font-weight: bold\">read_csv</span><span style=\"font-weight: bold\">(</span><span style=\"color: #008000; text-decoration-color: #008000\">'all_seasons.csv'</span><span style=\"font-weight: bold\">)</span>\n",
       "    SELECT * FROM df\n",
       "    WHERE <span style=\"color: #808000; text-decoration-color: #808000\">season</span>=<span style=\"color: #008000; text-decoration-color: #008000\">'1996-97'</span>\n",
       "<span style=\"font-weight: bold\">)</span>\n",
       "SELECT\n",
       "    <span style=\"color: #800080; text-decoration-color: #800080; font-weight: bold\">COALESCE</span><span style=\"font-weight: bold\">(</span>t.player_name, y.player_name<span style=\"font-weight: bold\">)</span> AS player_name,\n",
       "    <span style=\"color: #800080; text-decoration-color: #800080; font-weight: bold\">COALESCE</span><span style=\"font-weight: bold\">(</span>t.age, y.age<span style=\"font-weight: bold\">)</span> AS age,\n",
       "    <span style=\"color: #800080; text-decoration-color: #800080; font-weight: bold\">COALESCE</span><span style=\"font-weight: bold\">(</span>t.team_abbreviation, y.team_abbreviation<span style=\"font-weight: bold\">)</span> AS team_abbreviation,\n",
       "    <span style=\"color: #800080; text-decoration-color: #800080; font-weight: bold\">COALESCE</span><span style=\"font-weight: bold\">(</span>t.college, y.college<span style=\"font-weight: bold\">)</span> AS college,\n",
       "    <span style=\"color: #800080; text-decoration-color: #800080; font-weight: bold\">COALESCE</span><span style=\"font-weight: bold\">(</span>t.player_height, y.player_height<span style=\"font-weight: bold\">)</span> AS player_height,\n",
       "    <span style=\"color: #800080; text-decoration-color: #800080; font-weight: bold\">COALESCE</span><span style=\"font-weight: bold\">(</span>t.player_weight, y.player_weight<span style=\"font-weight: bold\">)</span> AS player_weight,\n",
       "    <span style=\"color: #800080; text-decoration-color: #800080; font-weight: bold\">COALESCE</span><span style=\"font-weight: bold\">(</span>t.draft_year, y.draft_year<span style=\"font-weight: bold\">)</span> AS draft_year,\n",
       "    <span style=\"color: #800080; text-decoration-color: #800080; font-weight: bold\">COALESCE</span><span style=\"font-weight: bold\">(</span>t.draft_round, y.draft_round<span style=\"font-weight: bold\">)</span> AS draft_round,\n",
       "    <span style=\"color: #800080; text-decoration-color: #800080; font-weight: bold\">COALESCE</span><span style=\"font-weight: bold\">(</span>t.draft_number, y.draft_number<span style=\"font-weight: bold\">)</span> AS draft_number,\n",
       "    -- Update for season_stats\n",
       "    CASE WHEN y.season_stats IS NULL\n",
       "        THEN ARRAY<span style=\"font-weight: bold\">[</span><span style=\"color: #800080; text-decoration-color: #800080; font-weight: bold\">ROW</span><span style=\"font-weight: bold\">(</span>\n",
       "            t.season<span style=\"font-weight: bold\">[</span>:<span style=\"color: #008080; text-decoration-color: #008080; font-weight: bold\">4</span><span style=\"font-weight: bold\">]</span>::INTEGER,\n",
       "            t.gp,\n",
       "            t.pts,\n",
       "            t.reb,\n",
       "            t.ast\n",
       "        <span style=\"font-weight: bold\">)</span>::season_stats<span style=\"font-weight: bold\">]</span>\n",
       "    WHEN t.season IS NOT NULL\n",
       "        THEN y.season_stats || ARRAY<span style=\"font-weight: bold\">[</span><span style=\"color: #800080; text-decoration-color: #800080; font-weight: bold\">ROW</span><span style=\"font-weight: bold\">(</span>\n",
       "            t.season<span style=\"font-weight: bold\">[</span>:<span style=\"color: #008080; text-decoration-color: #008080; font-weight: bold\">4</span><span style=\"font-weight: bold\">]</span>::INTEGER,\n",
       "            t.gp,\n",
       "            t.pts,\n",
       "            t.reb,\n",
       "            t.ast\n",
       "        <span style=\"font-weight: bold\">)</span>::season_stats<span style=\"font-weight: bold\">]</span>\n",
       "    ELSE y.season_stats\n",
       "    END AS season_stats,\n",
       "    -- Update for current_season,\n",
       "    <span style=\"color: #800080; text-decoration-color: #800080; font-weight: bold\">COALESCE</span><span style=\"font-weight: bold\">(</span>t.season<span style=\"font-weight: bold\">[</span>:<span style=\"color: #008080; text-decoration-color: #008080; font-weight: bold\">4</span><span style=\"font-weight: bold\">]</span>::INTEGER, y.current_season+<span style=\"color: #008080; text-decoration-color: #008080; font-weight: bold\">1</span><span style=\"font-weight: bold\">)</span> AS current_season\n",
       "FROM today t\n",
       "FULL OUTER JOIN yesterday y\n",
       "ON t.player_name = y.player_name;\n",
       "\n",
       "</pre>\n"
      ],
      "text/plain": [
       "\n",
       "WITH yesterday AS \u001b[1m(\u001b[0m\n",
       "    SELECT * FROM players\n",
       "    WHERE \u001b[33mcurrent_season\u001b[0m=\u001b[1;36m1995\u001b[0m\n",
       "\u001b[1m)\u001b[0m, today AS \u001b[1m(\u001b[0m\n",
       "    --SELECT * FROM \u001b[1;35mread_csv\u001b[0m\u001b[1m(\u001b[0m\u001b[32m'all_seasons.csv'\u001b[0m\u001b[1m)\u001b[0m\n",
       "    SELECT * FROM df\n",
       "    WHERE \u001b[33mseason\u001b[0m=\u001b[32m'1996-97'\u001b[0m\n",
       "\u001b[1m)\u001b[0m\n",
       "SELECT\n",
       "    \u001b[1;35mCOALESCE\u001b[0m\u001b[1m(\u001b[0mt.player_name, y.player_name\u001b[1m)\u001b[0m AS player_name,\n",
       "    \u001b[1;35mCOALESCE\u001b[0m\u001b[1m(\u001b[0mt.age, y.age\u001b[1m)\u001b[0m AS age,\n",
       "    \u001b[1;35mCOALESCE\u001b[0m\u001b[1m(\u001b[0mt.team_abbreviation, y.team_abbreviation\u001b[1m)\u001b[0m AS team_abbreviation,\n",
       "    \u001b[1;35mCOALESCE\u001b[0m\u001b[1m(\u001b[0mt.college, y.college\u001b[1m)\u001b[0m AS college,\n",
       "    \u001b[1;35mCOALESCE\u001b[0m\u001b[1m(\u001b[0mt.player_height, y.player_height\u001b[1m)\u001b[0m AS player_height,\n",
       "    \u001b[1;35mCOALESCE\u001b[0m\u001b[1m(\u001b[0mt.player_weight, y.player_weight\u001b[1m)\u001b[0m AS player_weight,\n",
       "    \u001b[1;35mCOALESCE\u001b[0m\u001b[1m(\u001b[0mt.draft_year, y.draft_year\u001b[1m)\u001b[0m AS draft_year,\n",
       "    \u001b[1;35mCOALESCE\u001b[0m\u001b[1m(\u001b[0mt.draft_round, y.draft_round\u001b[1m)\u001b[0m AS draft_round,\n",
       "    \u001b[1;35mCOALESCE\u001b[0m\u001b[1m(\u001b[0mt.draft_number, y.draft_number\u001b[1m)\u001b[0m AS draft_number,\n",
       "    -- Update for season_stats\n",
       "    CASE WHEN y.season_stats IS NULL\n",
       "        THEN ARRAY\u001b[1m[\u001b[0m\u001b[1;35mROW\u001b[0m\u001b[1m(\u001b[0m\n",
       "            t.season\u001b[1m[\u001b[0m:\u001b[1;36m4\u001b[0m\u001b[1m]\u001b[0m::INTEGER,\n",
       "            t.gp,\n",
       "            t.pts,\n",
       "            t.reb,\n",
       "            t.ast\n",
       "        \u001b[1m)\u001b[0m::season_stats\u001b[1m]\u001b[0m\n",
       "    WHEN t.season IS NOT NULL\n",
       "        THEN y.season_stats || ARRAY\u001b[1m[\u001b[0m\u001b[1;35mROW\u001b[0m\u001b[1m(\u001b[0m\n",
       "            t.season\u001b[1m[\u001b[0m:\u001b[1;36m4\u001b[0m\u001b[1m]\u001b[0m::INTEGER,\n",
       "            t.gp,\n",
       "            t.pts,\n",
       "            t.reb,\n",
       "            t.ast\n",
       "        \u001b[1m)\u001b[0m::season_stats\u001b[1m]\u001b[0m\n",
       "    ELSE y.season_stats\n",
       "    END AS season_stats,\n",
       "    -- Update for current_season,\n",
       "    \u001b[1;35mCOALESCE\u001b[0m\u001b[1m(\u001b[0mt.season\u001b[1m[\u001b[0m:\u001b[1;36m4\u001b[0m\u001b[1m]\u001b[0m::INTEGER, y.current_season+\u001b[1;36m1\u001b[0m\u001b[1m)\u001b[0m AS current_season\n",
       "FROM today t\n",
       "FULL OUTER JOIN yesterday y\n",
       "ON t.player_name = y.player_name;\n",
       "\n"
      ]
     },
     "metadata": {},
     "output_type": "display_data"
    },
    {
     "data": {
      "text/html": [
       "<pre style=\"white-space:pre;overflow-x:auto;line-height:normal;font-family:Menlo,'DejaVu Sans Mono',consolas,'Courier New',monospace\"><span style=\"color: #800000; text-decoration-color: #800000\">╭─────────────────────────────── </span><span style=\"color: #800000; text-decoration-color: #800000; font-weight: bold\">Traceback </span><span style=\"color: #bf7f7f; text-decoration-color: #bf7f7f; font-weight: bold\">(most recent call last)</span><span style=\"color: #800000; text-decoration-color: #800000\"> ────────────────────────────────╮</span>\n",
       "<span style=\"color: #800000; text-decoration-color: #800000\">│</span> in <span style=\"color: #00ff00; text-decoration-color: #00ff00\">&lt;module&gt;</span>:<span style=\"color: #0000ff; text-decoration-color: #0000ff\">47</span>                                                                                   <span style=\"color: #800000; text-decoration-color: #800000\">│</span>\n",
       "<span style=\"color: #800000; text-decoration-color: #800000\">│</span>                                                                                                  <span style=\"color: #800000; text-decoration-color: #800000\">│</span>\n",
       "<span style=\"color: #800000; text-decoration-color: #800000\">│</span>   <span style=\"color: #7f7f7f; text-decoration-color: #7f7f7f\">44 </span><span style=\"color: #808000; text-decoration-color: #808000\">\"\"\"</span>                                                                                         <span style=\"color: #800000; text-decoration-color: #800000\">│</span>\n",
       "<span style=\"color: #800000; text-decoration-color: #800000\">│</span>   <span style=\"color: #7f7f7f; text-decoration-color: #7f7f7f\">45 </span>query = qr.format(current_season=<span style=\"color: #0000ff; text-decoration-color: #0000ff\">1995</span>, season=<span style=\"color: #808000; text-decoration-color: #808000\">'1996-97'</span>)                                    <span style=\"color: #800000; text-decoration-color: #800000\">│</span>\n",
       "<span style=\"color: #800000; text-decoration-color: #800000\">│</span>   <span style=\"color: #7f7f7f; text-decoration-color: #7f7f7f\">46 </span><span style=\"color: #00ffff; text-decoration-color: #00ffff\">print</span>(query)                                                                                <span style=\"color: #800000; text-decoration-color: #800000\">│</span>\n",
       "<span style=\"color: #800000; text-decoration-color: #800000\">│</span> <span style=\"color: #800000; text-decoration-color: #800000\">❱ </span>47 df = <span style=\"font-weight: bold; text-decoration: underline\">con.sql(query)</span>.pl()                                                                    <span style=\"color: #800000; text-decoration-color: #800000\">│</span>\n",
       "<span style=\"color: #800000; text-decoration-color: #800000\">│</span>   <span style=\"color: #7f7f7f; text-decoration-color: #7f7f7f\">48 </span>display(df.head())                                                                          <span style=\"color: #800000; text-decoration-color: #800000\">│</span>\n",
       "<span style=\"color: #800000; text-decoration-color: #800000\">│</span>   <span style=\"color: #7f7f7f; text-decoration-color: #7f7f7f\">49 </span>                                                                                            <span style=\"color: #800000; text-decoration-color: #800000\">│</span>\n",
       "<span style=\"color: #800000; text-decoration-color: #800000\">╰──────────────────────────────────────────────────────────────────────────────────────────────────╯</span>\n",
       "<span style=\"color: #ff0000; text-decoration-color: #ff0000; font-weight: bold\">BinderException: </span>Binder Error: Referenced column <span style=\"color: #008000; text-decoration-color: #008000\">\"season\"</span> not found in FROM clause!\n",
       "Candidate bindings: <span style=\"color: #008000; text-decoration-color: #008000\">\"df.season_stats\"</span>, <span style=\"color: #008000; text-decoration-color: #008000\">\"df.draft_round\"</span>, <span style=\"color: #008000; text-decoration-color: #008000\">\"df.age\"</span>, <span style=\"color: #008000; text-decoration-color: #008000\">\"df.draft_number\"</span>\n",
       "</pre>\n"
      ],
      "text/plain": [
       "\u001b[31m╭─\u001b[0m\u001b[31m──────────────────────────────\u001b[0m\u001b[31m \u001b[0m\u001b[1;31mTraceback \u001b[0m\u001b[1;2;31m(most recent call last)\u001b[0m\u001b[31m \u001b[0m\u001b[31m───────────────────────────────\u001b[0m\u001b[31m─╮\u001b[0m\n",
       "\u001b[31m│\u001b[0m in \u001b[92m<module>\u001b[0m:\u001b[94m47\u001b[0m                                                                                   \u001b[31m│\u001b[0m\n",
       "\u001b[31m│\u001b[0m                                                                                                  \u001b[31m│\u001b[0m\n",
       "\u001b[31m│\u001b[0m   \u001b[2m44 \u001b[0m\u001b[33m\"\"\"\u001b[0m                                                                                         \u001b[31m│\u001b[0m\n",
       "\u001b[31m│\u001b[0m   \u001b[2m45 \u001b[0mquery = qr.format(current_season=\u001b[94m1995\u001b[0m, season=\u001b[33m'\u001b[0m\u001b[33m1996-97\u001b[0m\u001b[33m'\u001b[0m)                                    \u001b[31m│\u001b[0m\n",
       "\u001b[31m│\u001b[0m   \u001b[2m46 \u001b[0m\u001b[96mprint\u001b[0m(query)                                                                                \u001b[31m│\u001b[0m\n",
       "\u001b[31m│\u001b[0m \u001b[31m❱ \u001b[0m47 df = \u001b[1;4mcon.sql(query)\u001b[0m.pl()                                                                    \u001b[31m│\u001b[0m\n",
       "\u001b[31m│\u001b[0m   \u001b[2m48 \u001b[0mdisplay(df.head())                                                                          \u001b[31m│\u001b[0m\n",
       "\u001b[31m│\u001b[0m   \u001b[2m49 \u001b[0m                                                                                            \u001b[31m│\u001b[0m\n",
       "\u001b[31m╰──────────────────────────────────────────────────────────────────────────────────────────────────╯\u001b[0m\n",
       "\u001b[1;91mBinderException: \u001b[0mBinder Error: Referenced column \u001b[32m\"season\"\u001b[0m not found in FROM clause!\n",
       "Candidate bindings: \u001b[32m\"df.season_stats\"\u001b[0m, \u001b[32m\"df.draft_round\"\u001b[0m, \u001b[32m\"df.age\"\u001b[0m, \u001b[32m\"df.draft_number\"\u001b[0m\n"
      ]
     },
     "metadata": {},
     "output_type": "display_data"
    }
   ],
   "source": [
    "qr = \"\"\"\n",
    "WITH yesterday AS (\n",
    "    SELECT * FROM players\n",
    "    WHERE current_season={current_season}\n",
    "), today AS (\n",
    "    --SELECT * FROM read_csv('all_seasons.csv')\n",
    "    SELECT * FROM df\n",
    "    WHERE season='{season}'\n",
    ")\n",
    "SELECT\n",
    "    COALESCE(t.player_name, y.player_name) AS player_name,\n",
    "    COALESCE(t.age, y.age) AS age,\n",
    "    COALESCE(t.team_abbreviation, y.team_abbreviation) AS team_abbreviation,\n",
    "    COALESCE(t.college, y.college) AS college,\n",
    "    COALESCE(t.player_height, y.player_height) AS player_height,\n",
    "    COALESCE(t.player_weight, y.player_weight) AS player_weight,\n",
    "    COALESCE(t.draft_year, y.draft_year) AS draft_year,\n",
    "    COALESCE(t.draft_round, y.draft_round) AS draft_round,\n",
    "    COALESCE(t.draft_number, y.draft_number) AS draft_number,\n",
    "    -- Update for season_stats\n",
    "    CASE WHEN y.season_stats IS NULL\n",
    "        THEN ARRAY[ROW(\n",
    "            t.season[:4]::INTEGER,\n",
    "            t.gp,\n",
    "            t.pts,\n",
    "            t.reb,\n",
    "            t.ast\n",
    "        )::season_stats]\n",
    "    WHEN t.season IS NOT NULL\n",
    "        THEN y.season_stats || ARRAY[ROW(\n",
    "            t.season[:4]::INTEGER,\n",
    "            t.gp,\n",
    "            t.pts,\n",
    "            t.reb,\n",
    "            t.ast\n",
    "        )::season_stats]\n",
    "    ELSE y.season_stats\n",
    "    END AS season_stats,\n",
    "    -- Update for current_season,\n",
    "    COALESCE(t.season[:4]::INTEGER, y.current_season+1) AS current_season\n",
    "FROM today t\n",
    "FULL OUTER JOIN yesterday y\n",
    "ON t.player_name = y.player_name;\n",
    "\"\"\"\n",
    "query = qr.format(current_season=1995, season='1996-97')\n",
    "print(query)\n",
    "df = con.sql(query).pl()\n",
    "display(df.head())"
   ]
  },
  {
   "cell_type": "code",
   "execution_count": 7,
   "metadata": {},
   "outputs": [
    {
     "data": {
      "text/html": [
       "<pre style=\"white-space:pre;overflow-x:auto;line-height:normal;font-family:Menlo,'DejaVu Sans Mono',consolas,'Courier New',monospace\"><span style=\"color: #800000; text-decoration-color: #800000\">╭─────────────────────────────── </span><span style=\"color: #800000; text-decoration-color: #800000; font-weight: bold\">Traceback </span><span style=\"color: #bf7f7f; text-decoration-color: #bf7f7f; font-weight: bold\">(most recent call last)</span><span style=\"color: #800000; text-decoration-color: #800000\"> ────────────────────────────────╮</span>\n",
       "<span style=\"color: #800000; text-decoration-color: #800000\">│</span> in <span style=\"color: #00ff00; text-decoration-color: #00ff00\">&lt;module&gt;</span>:<span style=\"color: #0000ff; text-decoration-color: #0000ff\">2</span>                                                                                    <span style=\"color: #800000; text-decoration-color: #800000\">│</span>\n",
       "<span style=\"color: #800000; text-decoration-color: #800000\">│</span>                                                                                                  <span style=\"color: #800000; text-decoration-color: #800000\">│</span>\n",
       "<span style=\"color: #800000; text-decoration-color: #800000\">│</span>   <span style=\"color: #7f7f7f; text-decoration-color: #7f7f7f\">1 </span>query_insert = <span style=\"color: #808000; text-decoration-color: #808000\">\"\"\"INSERT INTO players\"\"\"</span> + query                                             <span style=\"color: #800000; text-decoration-color: #800000\">│</span>\n",
       "<span style=\"color: #800000; text-decoration-color: #800000\">│</span> <span style=\"color: #800000; text-decoration-color: #800000\">❱ </span>2 <span style=\"font-weight: bold; text-decoration: underline\">con.sql(query_insert)</span>                                                                        <span style=\"color: #800000; text-decoration-color: #800000\">│</span>\n",
       "<span style=\"color: #800000; text-decoration-color: #800000\">│</span>   <span style=\"color: #7f7f7f; text-decoration-color: #7f7f7f\">3 </span>                                                                                             <span style=\"color: #800000; text-decoration-color: #800000\">│</span>\n",
       "<span style=\"color: #800000; text-decoration-color: #800000\">╰──────────────────────────────────────────────────────────────────────────────────────────────────╯</span>\n",
       "<span style=\"color: #ff0000; text-decoration-color: #ff0000; font-weight: bold\">BinderException: </span>Binder Error: Referenced column <span style=\"color: #008000; text-decoration-color: #008000\">\"season\"</span> not found in FROM clause!\n",
       "Candidate bindings: <span style=\"color: #008000; text-decoration-color: #008000\">\"df.season_stats\"</span>, <span style=\"color: #008000; text-decoration-color: #008000\">\"df.draft_round\"</span>, <span style=\"color: #008000; text-decoration-color: #008000\">\"df.age\"</span>, <span style=\"color: #008000; text-decoration-color: #008000\">\"df.draft_number\"</span>\n",
       "LINE <span style=\"color: #008080; text-decoration-color: #008080; font-weight: bold\">7</span>:     WHERE <span style=\"color: #808000; text-decoration-color: #808000\">season</span>=<span style=\"color: #008000; text-decoration-color: #008000\">'1996-97'</span>\n",
       "                  ^\n",
       "</pre>\n"
      ],
      "text/plain": [
       "\u001b[31m╭─\u001b[0m\u001b[31m──────────────────────────────\u001b[0m\u001b[31m \u001b[0m\u001b[1;31mTraceback \u001b[0m\u001b[1;2;31m(most recent call last)\u001b[0m\u001b[31m \u001b[0m\u001b[31m───────────────────────────────\u001b[0m\u001b[31m─╮\u001b[0m\n",
       "\u001b[31m│\u001b[0m in \u001b[92m<module>\u001b[0m:\u001b[94m2\u001b[0m                                                                                    \u001b[31m│\u001b[0m\n",
       "\u001b[31m│\u001b[0m                                                                                                  \u001b[31m│\u001b[0m\n",
       "\u001b[31m│\u001b[0m   \u001b[2m1 \u001b[0mquery_insert = \u001b[33m\"\"\"\u001b[0m\u001b[33mINSERT INTO players\u001b[0m\u001b[33m\"\"\"\u001b[0m + query                                             \u001b[31m│\u001b[0m\n",
       "\u001b[31m│\u001b[0m \u001b[31m❱ \u001b[0m2 \u001b[1;4mcon.sql(query_insert)\u001b[0m                                                                        \u001b[31m│\u001b[0m\n",
       "\u001b[31m│\u001b[0m   \u001b[2m3 \u001b[0m                                                                                             \u001b[31m│\u001b[0m\n",
       "\u001b[31m╰──────────────────────────────────────────────────────────────────────────────────────────────────╯\u001b[0m\n",
       "\u001b[1;91mBinderException: \u001b[0mBinder Error: Referenced column \u001b[32m\"season\"\u001b[0m not found in FROM clause!\n",
       "Candidate bindings: \u001b[32m\"df.season_stats\"\u001b[0m, \u001b[32m\"df.draft_round\"\u001b[0m, \u001b[32m\"df.age\"\u001b[0m, \u001b[32m\"df.draft_number\"\u001b[0m\n",
       "LINE \u001b[1;36m7\u001b[0m:     WHERE \u001b[33mseason\u001b[0m=\u001b[32m'1996-97'\u001b[0m\n",
       "                  ^\n"
      ]
     },
     "metadata": {},
     "output_type": "display_data"
    }
   ],
   "source": [
    "query_insert = \"\"\"INSERT INTO players\"\"\" + query\n",
    "con.sql(query_insert)"
   ]
  },
  {
   "cell_type": "code",
   "execution_count": null,
   "metadata": {},
   "outputs": [],
   "source": [
    "for year in range(1997,2022):\n",
    "    season = '-'.join([str(year+1),str(year+2)[2:]])\n",
    "    query = qr.format(current_season=year, season=season)\n",
    "    # print(query)\n",
    "    query_insert = \"\"\"INSERT INTO players\"\"\" + query\n",
    "    con.sql(query_insert)"
   ]
  },
  {
   "cell_type": "code",
   "execution_count": null,
   "metadata": {},
   "outputs": [],
   "source": [
    "tdf = con.sql(query).pl()\n",
    "tdf.sql(\"\"\"\n",
    "    SELECT\n",
    "        *\n",
    "    FROM self\n",
    "    WHERE player_name='Marcus Williams'\"\"\")"
   ]
  },
  {
   "cell_type": "code",
   "execution_count": null,
   "metadata": {},
   "outputs": [],
   "source": [
    "kwyear"
   ]
  },
  {
   "cell_type": "code",
   "execution_count": null,
   "metadata": {},
   "outputs": [],
   "source": []
  },
  {
   "cell_type": "code",
   "execution_count": null,
   "metadata": {},
   "outputs": [],
   "source": []
  }
 ],
 "metadata": {
  "kernelspec": {
   "display_name": ".venv",
   "language": "python",
   "name": "python3"
  },
  "language_info": {
   "codemirror_mode": {
    "name": "ipython",
    "version": 3
   },
   "file_extension": ".py",
   "mimetype": "text/x-python",
   "name": "python",
   "nbconvert_exporter": "python",
   "pygments_lexer": "ipython3",
   "version": "3.12.7"
  }
 },
 "nbformat": 4,
 "nbformat_minor": 2
}
