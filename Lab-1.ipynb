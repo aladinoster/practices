{
 "cells": [
  {
   "cell_type": "code",
   "execution_count": 1,
   "metadata": {},
   "outputs": [],
   "source": [
    "import duckdb\n",
    "import polars as pl\n",
    "from rich import print\n",
    "from IPython.display import display\n",
    "%load_ext rich\n",
    "con = duckdb.connect()"
   ]
  },
  {
   "cell_type": "markdown",
   "metadata": {},
   "source": [
    "For the sake of simplicty, we clean out certain aspects of the data before:"
   ]
  },
  {
   "cell_type": "code",
   "execution_count": 2,
   "metadata": {},
   "outputs": [
    {
     "data": {
      "text/html": [
       "<pre style=\"white-space:pre;overflow-x:auto;line-height:normal;font-family:Menlo,'DejaVu Sans Mono',consolas,'Courier New',monospace\"></pre>\n"
      ],
      "text/plain": []
     },
     "metadata": {},
     "output_type": "display_data"
    },
    {
     "data": {
      "text/plain": [
       "\n",
       "┌─────────────────┬────────┬───────────────────┬────────────────┬───────────────┬────────────────────┬────────────┬─────────────┬──────────────┬─────────┐\n",
       "│   player_name   │  age   │ team_abbreviation │    college     │ player_height │   player_weight    │ draft_year │ draft_round │ draft_number │ season  │\n",
       "│     varchar     │ double │      varchar      │    varchar     │    double     │       double       │  varchar   │   varchar   │   varchar    │ varchar │\n",
       "├─────────────────┼────────┼───────────────────┼────────────────┼───────────────┼────────────────────┼────────────┼─────────────┼──────────────┼─────────┤\n",
       "│ Elton Brand     │   \u001b[1;36m30.0\u001b[0m │ PHI               │ Duke           │        \u001b[1;36m205.74\u001b[0m │         \u001b[1;36m115.212368\u001b[0m │ \u001b[1;36m1999\u001b[0m       │ \u001b[1;36m1\u001b[0m           │ \u001b[1;36m1\u001b[0m            │ \u001b[1;36m2008\u001b[0m-\u001b[1;36m09\u001b[0m │\n",
       "│ Rasheed Wallace │   \u001b[1;36m28.0\u001b[0m │ POR               │ North Carolina │        \u001b[1;36m210.82\u001b[0m │          \u001b[1;36m104.32616\u001b[0m │ \u001b[1;36m1995\u001b[0m       │ \u001b[1;36m1\u001b[0m           │ \u001b[1;36m4\u001b[0m            │ \u001b[1;36m2002\u001b[0m-\u001b[1;36m03\u001b[0m │\n",
       "│ Meyers Leonard  │   \u001b[1;36m27.0\u001b[0m │ POR               │ Illinois       │         \u001b[1;36m215.9\u001b[0m │ \u001b[1;36m115.66596000000001\u001b[0m │ \u001b[1;36m2012\u001b[0m       │ \u001b[1;36m1\u001b[0m           │ \u001b[1;36m11\u001b[0m           │ \u001b[1;36m2018\u001b[0m-\u001b[1;36m19\u001b[0m │\n",
       "│ Ira Bowman      │   \u001b[1;36m28.0\u001b[0m │ ATL               │ Pennsylvania   │        \u001b[1;36m195.58\u001b[0m │           \u001b[1;36m88.45044\u001b[0m │ Undrafted  │ Undrafted   │ Undrafted    │ \u001b[1;36m2000\u001b[0m-\u001b[1;36m01\u001b[0m │\n",
       "│ Myles Turner    │   \u001b[1;36m26.0\u001b[0m │ IND               │ Texas-Austin   │        \u001b[1;36m210.82\u001b[0m │            \u001b[1;36m113.398\u001b[0m │ \u001b[1;36m2015\u001b[0m       │ \u001b[1;36m1\u001b[0m           │ \u001b[1;36m11\u001b[0m           │ \u001b[1;36m2021\u001b[0m-\u001b[1;36m22\u001b[0m │\n",
       "└─────────────────┴────────┴───────────────────┴────────────────┴───────────────┴────────────────────┴────────────┴─────────────┴──────────────┴─────────┘"
      ]
     },
     "execution_count": 2,
     "metadata": {},
     "output_type": "execute_result"
    }
   ],
   "source": [
    "df = pl.read_csv('all_seasons.csv')\n",
    "df = df.unique(subset = [\"player_name\",\"season\"])\n",
    "qr = \"\"\"\n",
    "SELECT\n",
    "    player_name,\n",
    "    age,\n",
    "    team_abbreviation,\n",
    "    college,\n",
    "    player_height,\n",
    "    player_weight,\n",
    "    draft_year,\n",
    "    draft_round,\n",
    "    draft_number,\n",
    "    season\n",
    "    FROM df,\n",
    "    LIMIT 5;\n",
    "\"\"\"\n",
    "con.sql(qr)"
   ]
  },
  {
   "cell_type": "code",
   "execution_count": 3,
   "metadata": {},
   "outputs": [],
   "source": [
    "qr = \"\"\"\n",
    "DROP TABLE IF EXISTS players_seasons;\n",
    "\n",
    "DROP TYPE IF EXISTS season_stats;\n",
    "CREATE TYPE season_stats AS STRUCT(\n",
    "    season INTEGER,\n",
    "    gp INTEGER,\n",
    "    pts FLOAT,\n",
    "    reb FLOAT,\n",
    "    ast FLOAT\n",
    ");\n",
    "\n",
    "CREATE TABLE players (\n",
    "    player_name TEXT,\n",
    "    age INTEGER,\n",
    "    team_abbreviation TEXT,\n",
    "    college TEXT,\n",
    "    player_height FLOAT,\n",
    "    player_weight FLOAT,\n",
    "    draft_year TEXT,\n",
    "    draft_round TEXT,\n",
    "    draft_number TEXT,\n",
    "    season_stats season_stats[],\n",
    "    current_season INTEGER,\n",
    "    PRIMARY KEY(player_name, current_season, team_abbreviation, college)\n",
    ")\n",
    "\"\"\"\n",
    "con.sql(qr)"
   ]
  },
  {
   "cell_type": "code",
   "execution_count": 4,
   "metadata": {},
   "outputs": [
    {
     "data": {
      "text/html": [
       "<pre style=\"white-space:pre;overflow-x:auto;line-height:normal;font-family:Menlo,'DejaVu Sans Mono',consolas,'Courier New',monospace\">shape: <span style=\"font-weight: bold\">(</span><span style=\"color: #008080; text-decoration-color: #008080; font-weight: bold\">1</span>, <span style=\"color: #008080; text-decoration-color: #008080; font-weight: bold\">4</span><span style=\"font-weight: bold\">)</span>\n",
       "┌──────────┬──────────┬───────────────┬───────────────┐\n",
       "│ min_year ┆ max_year ┆ min_year_text ┆ max_year_text │\n",
       "│ ---      ┆ ---      ┆ ---           ┆ ---           │\n",
       "│ i32      ┆ i32      ┆ str           ┆ str           │\n",
       "╞══════════╪══════════╪═══════════════╪═══════════════╡\n",
       "│ <span style=\"color: #008080; text-decoration-color: #008080; font-weight: bold\">1996</span>     ┆ <span style=\"color: #008080; text-decoration-color: #008080; font-weight: bold\">2022</span>     ┆ <span style=\"color: #008080; text-decoration-color: #008080; font-weight: bold\">1996</span>-<span style=\"color: #008080; text-decoration-color: #008080; font-weight: bold\">97</span>       ┆ <span style=\"color: #008080; text-decoration-color: #008080; font-weight: bold\">2022</span>-<span style=\"color: #008080; text-decoration-color: #008080; font-weight: bold\">23</span>       │\n",
       "└──────────┴──────────┴───────────────┴───────────────┘\n",
       "</pre>\n"
      ],
      "text/plain": [
       "shape: \u001b[1m(\u001b[0m\u001b[1;36m1\u001b[0m, \u001b[1;36m4\u001b[0m\u001b[1m)\u001b[0m\n",
       "┌──────────┬──────────┬───────────────┬───────────────┐\n",
       "│ min_year ┆ max_year ┆ min_year_text ┆ max_year_text │\n",
       "│ ---      ┆ ---      ┆ ---           ┆ ---           │\n",
       "│ i32      ┆ i32      ┆ str           ┆ str           │\n",
       "╞══════════╪══════════╪═══════════════╪═══════════════╡\n",
       "│ \u001b[1;36m1996\u001b[0m     ┆ \u001b[1;36m2022\u001b[0m     ┆ \u001b[1;36m1996\u001b[0m-\u001b[1;36m97\u001b[0m       ┆ \u001b[1;36m2022\u001b[0m-\u001b[1;36m23\u001b[0m       │\n",
       "└──────────┴──────────┴───────────────┴───────────────┘\n"
      ]
     },
     "metadata": {},
     "output_type": "display_data"
    }
   ],
   "source": [
    "qr=\"\"\"\n",
    "SELECT\n",
    "    MIN(season[:4]::INTEGER) AS min_year,\n",
    "    MAX(season[:4]::INTEGER) AS max_year,\n",
    "    MIN(season) AS min_year_text,\n",
    "    MAX(season) AS max_year_text,\n",
    "FROM read_csv('all_seasons.csv')\n",
    "\"\"\"\n",
    "dfr = con.sql(qr).pl()\n",
    "print(dfr)\n"
   ]
  },
  {
   "cell_type": "code",
   "execution_count": 5,
   "metadata": {},
   "outputs": [
    {
     "data": {
      "text/html": [
       "<pre style=\"white-space:pre;overflow-x:auto;line-height:normal;font-family:Menlo,'DejaVu Sans Mono',consolas,'Courier New',monospace\"></pre>\n"
      ],
      "text/plain": []
     },
     "metadata": {},
     "output_type": "display_data"
    },
    {
     "data": {
      "text/plain": [
       "\n",
       "┌─────────────┬───────┬───────────────────┬─────────┬───────────────┬───────────────┬────────────┬─────────────┬──────────────┬───────────────────────────────────────────────────────────────────────┬────────────────┐\n",
       "│ player_name │  age  │ team_abbreviation │ college │ player_height │ player_weight │ draft_year │ draft_round │ draft_number │                             season_stats                              │ current_season │\n",
       "│   varchar   │ int32 │      varchar      │ varchar │     float     │     float     │  varchar   │   varchar   │   varchar    │ \u001b[1;35mstruct\u001b[0m\u001b[1m(\u001b[0mseason integer, gp integer, pts float, reb float, ast float\u001b[1m)\u001b[0m\u001b[1m[\u001b[0m\u001b[1m]\u001b[0m │     int32      │\n",
       "├─────────────┴───────┴───────────────────┴─────────┴───────────────┴───────────────┴────────────┴─────────────┴──────────────┴───────────────────────────────────────────────────────────────────────┴────────────────┤\n",
       "│                                                                                                        \u001b[1;36m0\u001b[0m rows                                                                                                        │\n",
       "└──────────────────────────────────────────────────────────────────────────────────────────────────────────────────────────────────────────────────────────────────────────────────────────────────────────────────────┘"
      ]
     },
     "execution_count": 5,
     "metadata": {},
     "output_type": "execute_result"
    }
   ],
   "source": [
    "qr = \"\"\"\n",
    "FROM players\n",
    "LIMIT 5\n",
    "\"\"\"\n",
    "con.sql(qr)"
   ]
  },
  {
   "cell_type": "code",
   "execution_count": 6,
   "metadata": {},
   "outputs": [
    {
     "data": {
      "text/html": [
       "<pre style=\"white-space:pre;overflow-x:auto;line-height:normal;font-family:Menlo,'DejaVu Sans Mono',consolas,'Courier New',monospace\"></pre>\n"
      ],
      "text/plain": []
     },
     "metadata": {},
     "output_type": "display_data"
    },
    {
     "data": {
      "text/plain": [
       "\n",
       "┌───────┬───────────────────┬───────────────────┬────────┬───────────────┬───────────────────┬─────────────────────┬─────────┬────────────┬─────────────┬──────────────┬───────┬────────┬────────┬────────┬────────────┬──────────────────────┬──────────┬─────────────────────┬─────────────────────┬─────────────────────┬─────────┐\n",
       "│  v0   │    player_name    │ team_abbreviation │  age   │ player_height │   player_weight   │       college       │ country │ draft_year │ draft_round │ draft_number │  gp   │  pts   │  reb   │  ast   │ net_rating │       oreb_pct       │ dreb_pct │       usg_pct       │       ts_pct        │       ast_pct       │ season  │\n",
       "│ int64 │      varchar      │      varchar      │ double │    double     │      double       │       varchar       │ varchar │  varchar   │   varchar   │   varchar    │ int64 │ double │ double │ double │   double   │        double        │  double  │       double        │       double        │       double        │ varchar │\n",
       "├───────┼───────────────────┼───────────────────┼────────┼───────────────┼───────────────────┼─────────────────────┼─────────┼────────────┼─────────────┼──────────────┼───────┼────────┼────────┼────────┼────────────┼──────────────────────┼──────────┼─────────────────────┼─────────────────────┼─────────────────────┼─────────┤\n",
       "│   \u001b[1;36m440\u001b[0m │ Anfernee Hardaway │ ORL               │   \u001b[1;36m25.0\u001b[0m │        \u001b[1;36m200.66\u001b[0m │ \u001b[1;36m97.52228000000001\u001b[0m │ Memphis             │ USA     │ \u001b[1;36m1993\u001b[0m       │ \u001b[1;36m1\u001b[0m           │ \u001b[1;36m3\u001b[0m            │    \u001b[1;36m59\u001b[0m │   \u001b[1;36m20.5\u001b[0m │    \u001b[1;36m4.5\u001b[0m │    \u001b[1;36m5.6\u001b[0m │        \u001b[1;36m4.6\u001b[0m │ \u001b[1;36m0.040999999999999995\u001b[0m │    \u001b[1;36m0.096\u001b[0m │               \u001b[1;36m0.254\u001b[0m │  \u001b[1;36m0.5539999999999999\u001b[0m │                \u001b[1;36m0.27\u001b[0m │ \u001b[1;36m1996\u001b[0m-\u001b[1;36m97\u001b[0m │\n",
       "│   \u001b[1;36m111\u001b[0m │ Clyde Drexler     │ HOU               │   \u001b[1;36m35.0\u001b[0m │        \u001b[1;36m200.66\u001b[0m │        \u001b[1;36m100.697424\u001b[0m │ Houston             │ USA     │ \u001b[1;36m1983\u001b[0m       │ \u001b[1;36m1\u001b[0m           │ \u001b[1;36m14\u001b[0m           │    \u001b[1;36m62\u001b[0m │   \u001b[1;36m18.0\u001b[0m │    \u001b[1;36m6.0\u001b[0m │    \u001b[1;36m5.7\u001b[0m │        \u001b[1;36m7.5\u001b[0m │                \u001b[1;36m0.062\u001b[0m │    \u001b[1;36m0.122\u001b[0m │               \u001b[1;36m0.231\u001b[0m │  \u001b[1;36m0.5479999999999999\u001b[0m │               \u001b[1;36m0.261\u001b[0m │ \u001b[1;36m1996\u001b[0m-\u001b[1;36m97\u001b[0m │\n",
       "│   \u001b[1;36m229\u001b[0m │ Robert Pack       │ DAL               │   \u001b[1;36m28.0\u001b[0m │        \u001b[1;36m187.96\u001b[0m │          \u001b[1;36m86.18248\u001b[0m │ Southern California │ USA     │ Undrafted  │ Undrafted   │ Undrafted    │    \u001b[1;36m54\u001b[0m │   \u001b[1;36m14.3\u001b[0m │    \u001b[1;36m2.7\u001b[0m │    \u001b[1;36m8.4\u001b[0m │       \u001b[1;36m-8.3\u001b[0m │                \u001b[1;36m0.016\u001b[0m │    \u001b[1;36m0.078\u001b[0m │               \u001b[1;36m0.244\u001b[0m │ \u001b[1;36m0.48200000000000004\u001b[0m │               \u001b[1;36m0.435\u001b[0m │ \u001b[1;36m1996\u001b[0m-\u001b[1;36m97\u001b[0m │\n",
       "│   \u001b[1;36m216\u001b[0m │ Stanley Roberts   │ LAC               │   \u001b[1;36m27.0\u001b[0m │        \u001b[1;36m213.36\u001b[0m │         \u001b[1;36m131.54168\u001b[0m │ Louisiana State     │ USA     │ \u001b[1;36m1991\u001b[0m       │ \u001b[1;36m1\u001b[0m           │ \u001b[1;36m23\u001b[0m           │    \u001b[1;36m18\u001b[0m │    \u001b[1;36m9.5\u001b[0m │    \u001b[1;36m5.1\u001b[0m │    \u001b[1;36m0.5\u001b[0m │        \u001b[1;36m2.6\u001b[0m │                \u001b[1;36m0.071\u001b[0m │    \u001b[1;36m0.218\u001b[0m │ \u001b[1;36m0.23800000000000002\u001b[0m │               \u001b[1;36m0.485\u001b[0m │               \u001b[1;36m0.049\u001b[0m │ \u001b[1;36m1996\u001b[0m-\u001b[1;36m97\u001b[0m │\n",
       "│   \u001b[1;36m386\u001b[0m │ Mike Brown        │ PHX               │   \u001b[1;36m33.0\u001b[0m │        \u001b[1;36m208.28\u001b[0m │         \u001b[1;36m117.93392\u001b[0m │ George Washington   │ USA     │ \u001b[1;36m1985\u001b[0m       │ \u001b[1;36m3\u001b[0m           │ \u001b[1;36m69\u001b[0m           │     \u001b[1;36m6\u001b[0m │    \u001b[1;36m2.7\u001b[0m │    \u001b[1;36m4.2\u001b[0m │    \u001b[1;36m0.8\u001b[0m │        \u001b[1;36m1.7\u001b[0m │                \u001b[1;36m0.141\u001b[0m │    \u001b[1;36m0.271\u001b[0m │               \u001b[1;36m0.109\u001b[0m │               \u001b[1;36m0.488\u001b[0m │ \u001b[1;36m0.08900000000000001\u001b[0m │ \u001b[1;36m1996\u001b[0m-\u001b[1;36m97\u001b[0m │\n",
       "└───────┴───────────────────┴───────────────────┴────────┴───────────────┴───────────────────┴─────────────────────┴─────────┴────────────┴─────────────┴──────────────┴───────┴────────┴────────┴────────┴────────────┴──────────────────────┴──────────┴─────────────────────┴─────────────────────┴─────────────────────┴─────────┘"
      ]
     },
     "execution_count": 6,
     "metadata": {},
     "output_type": "execute_result"
    }
   ],
   "source": [
    "qr=\"\"\"\n",
    "WITH today AS (\n",
    "    SELECT * FROM df\n",
    "    WHERE season='1996-97'\n",
    ")\n",
    "FROM today\n",
    "LIMIT 5\n",
    "\"\"\"\n",
    "con.sql(qr)"
   ]
  },
  {
   "cell_type": "code",
   "execution_count": 7,
   "metadata": {},
   "outputs": [
    {
     "data": {
      "text/html": [
       "<pre style=\"white-space:pre;overflow-x:auto;line-height:normal;font-family:Menlo,'DejaVu Sans Mono',consolas,'Courier New',monospace\">\n",
       "WITH yesterday AS <span style=\"font-weight: bold\">(</span>\n",
       "    SELECT * FROM players\n",
       "    WHERE <span style=\"color: #808000; text-decoration-color: #808000\">current_season</span>=<span style=\"color: #008080; text-decoration-color: #008080; font-weight: bold\">1995</span>\n",
       "<span style=\"font-weight: bold\">)</span>, today AS <span style=\"font-weight: bold\">(</span>\n",
       "    SELECT * FROM df\n",
       "    WHERE <span style=\"color: #808000; text-decoration-color: #808000\">season</span>=<span style=\"color: #008000; text-decoration-color: #008000\">'1996-97'</span>\n",
       "<span style=\"font-weight: bold\">)</span>\n",
       "SELECT\n",
       "    <span style=\"color: #800080; text-decoration-color: #800080; font-weight: bold\">COALESCE</span><span style=\"font-weight: bold\">(</span>t.player_name, y.player_name<span style=\"font-weight: bold\">)</span> AS player_name,\n",
       "    <span style=\"color: #800080; text-decoration-color: #800080; font-weight: bold\">COALESCE</span><span style=\"font-weight: bold\">(</span>t.age, y.age<span style=\"font-weight: bold\">)</span> AS age,\n",
       "    <span style=\"color: #800080; text-decoration-color: #800080; font-weight: bold\">COALESCE</span><span style=\"font-weight: bold\">(</span>t.team_abbreviation, y.team_abbreviation<span style=\"font-weight: bold\">)</span> AS team_abbreviation,\n",
       "    <span style=\"color: #800080; text-decoration-color: #800080; font-weight: bold\">COALESCE</span><span style=\"font-weight: bold\">(</span>t.college, y.college<span style=\"font-weight: bold\">)</span> AS college,\n",
       "    <span style=\"color: #800080; text-decoration-color: #800080; font-weight: bold\">COALESCE</span><span style=\"font-weight: bold\">(</span>t.player_height, y.player_height<span style=\"font-weight: bold\">)</span> AS player_height,\n",
       "    <span style=\"color: #800080; text-decoration-color: #800080; font-weight: bold\">COALESCE</span><span style=\"font-weight: bold\">(</span>t.player_weight, y.player_weight<span style=\"font-weight: bold\">)</span> AS player_weight,\n",
       "    <span style=\"color: #800080; text-decoration-color: #800080; font-weight: bold\">COALESCE</span><span style=\"font-weight: bold\">(</span>t.draft_year, y.draft_year<span style=\"font-weight: bold\">)</span> AS draft_year,\n",
       "    <span style=\"color: #800080; text-decoration-color: #800080; font-weight: bold\">COALESCE</span><span style=\"font-weight: bold\">(</span>t.draft_round, y.draft_round<span style=\"font-weight: bold\">)</span> AS draft_round,\n",
       "    <span style=\"color: #800080; text-decoration-color: #800080; font-weight: bold\">COALESCE</span><span style=\"font-weight: bold\">(</span>t.draft_number, y.draft_number<span style=\"font-weight: bold\">)</span> AS draft_number,\n",
       "    -- Update for season_stats\n",
       "    CASE WHEN y.season_stats IS NULL\n",
       "        THEN ARRAY<span style=\"font-weight: bold\">[</span><span style=\"color: #800080; text-decoration-color: #800080; font-weight: bold\">ROW</span><span style=\"font-weight: bold\">(</span>\n",
       "            t.season<span style=\"font-weight: bold\">[</span>:<span style=\"color: #008080; text-decoration-color: #008080; font-weight: bold\">4</span><span style=\"font-weight: bold\">]</span>::INTEGER,\n",
       "            t.gp,\n",
       "            t.pts,\n",
       "            t.reb,\n",
       "            t.ast\n",
       "        <span style=\"font-weight: bold\">)</span>::season_stats<span style=\"font-weight: bold\">]</span>\n",
       "    WHEN t.season IS NOT NULL\n",
       "        THEN y.season_stats || ARRAY<span style=\"font-weight: bold\">[</span><span style=\"color: #800080; text-decoration-color: #800080; font-weight: bold\">ROW</span><span style=\"font-weight: bold\">(</span>\n",
       "            t.season<span style=\"font-weight: bold\">[</span>:<span style=\"color: #008080; text-decoration-color: #008080; font-weight: bold\">4</span><span style=\"font-weight: bold\">]</span>::INTEGER,\n",
       "            t.gp,\n",
       "            t.pts,\n",
       "            t.reb,\n",
       "            t.ast\n",
       "        <span style=\"font-weight: bold\">)</span>::season_stats<span style=\"font-weight: bold\">]</span>\n",
       "    ELSE y.season_stats\n",
       "    END AS season_stats,\n",
       "    -- Update for current_season,\n",
       "    <span style=\"color: #800080; text-decoration-color: #800080; font-weight: bold\">COALESCE</span><span style=\"font-weight: bold\">(</span>t.season<span style=\"font-weight: bold\">[</span>:<span style=\"color: #008080; text-decoration-color: #008080; font-weight: bold\">4</span><span style=\"font-weight: bold\">]</span>::INTEGER, y.current_season+<span style=\"color: #008080; text-decoration-color: #008080; font-weight: bold\">1</span><span style=\"font-weight: bold\">)</span> AS current_season\n",
       "FROM today t\n",
       "FULL OUTER JOIN yesterday y\n",
       "ON t.player_name = y.player_name;\n",
       "\n",
       "</pre>\n"
      ],
      "text/plain": [
       "\n",
       "WITH yesterday AS \u001b[1m(\u001b[0m\n",
       "    SELECT * FROM players\n",
       "    WHERE \u001b[33mcurrent_season\u001b[0m=\u001b[1;36m1995\u001b[0m\n",
       "\u001b[1m)\u001b[0m, today AS \u001b[1m(\u001b[0m\n",
       "    SELECT * FROM df\n",
       "    WHERE \u001b[33mseason\u001b[0m=\u001b[32m'1996-97'\u001b[0m\n",
       "\u001b[1m)\u001b[0m\n",
       "SELECT\n",
       "    \u001b[1;35mCOALESCE\u001b[0m\u001b[1m(\u001b[0mt.player_name, y.player_name\u001b[1m)\u001b[0m AS player_name,\n",
       "    \u001b[1;35mCOALESCE\u001b[0m\u001b[1m(\u001b[0mt.age, y.age\u001b[1m)\u001b[0m AS age,\n",
       "    \u001b[1;35mCOALESCE\u001b[0m\u001b[1m(\u001b[0mt.team_abbreviation, y.team_abbreviation\u001b[1m)\u001b[0m AS team_abbreviation,\n",
       "    \u001b[1;35mCOALESCE\u001b[0m\u001b[1m(\u001b[0mt.college, y.college\u001b[1m)\u001b[0m AS college,\n",
       "    \u001b[1;35mCOALESCE\u001b[0m\u001b[1m(\u001b[0mt.player_height, y.player_height\u001b[1m)\u001b[0m AS player_height,\n",
       "    \u001b[1;35mCOALESCE\u001b[0m\u001b[1m(\u001b[0mt.player_weight, y.player_weight\u001b[1m)\u001b[0m AS player_weight,\n",
       "    \u001b[1;35mCOALESCE\u001b[0m\u001b[1m(\u001b[0mt.draft_year, y.draft_year\u001b[1m)\u001b[0m AS draft_year,\n",
       "    \u001b[1;35mCOALESCE\u001b[0m\u001b[1m(\u001b[0mt.draft_round, y.draft_round\u001b[1m)\u001b[0m AS draft_round,\n",
       "    \u001b[1;35mCOALESCE\u001b[0m\u001b[1m(\u001b[0mt.draft_number, y.draft_number\u001b[1m)\u001b[0m AS draft_number,\n",
       "    -- Update for season_stats\n",
       "    CASE WHEN y.season_stats IS NULL\n",
       "        THEN ARRAY\u001b[1m[\u001b[0m\u001b[1;35mROW\u001b[0m\u001b[1m(\u001b[0m\n",
       "            t.season\u001b[1m[\u001b[0m:\u001b[1;36m4\u001b[0m\u001b[1m]\u001b[0m::INTEGER,\n",
       "            t.gp,\n",
       "            t.pts,\n",
       "            t.reb,\n",
       "            t.ast\n",
       "        \u001b[1m)\u001b[0m::season_stats\u001b[1m]\u001b[0m\n",
       "    WHEN t.season IS NOT NULL\n",
       "        THEN y.season_stats || ARRAY\u001b[1m[\u001b[0m\u001b[1;35mROW\u001b[0m\u001b[1m(\u001b[0m\n",
       "            t.season\u001b[1m[\u001b[0m:\u001b[1;36m4\u001b[0m\u001b[1m]\u001b[0m::INTEGER,\n",
       "            t.gp,\n",
       "            t.pts,\n",
       "            t.reb,\n",
       "            t.ast\n",
       "        \u001b[1m)\u001b[0m::season_stats\u001b[1m]\u001b[0m\n",
       "    ELSE y.season_stats\n",
       "    END AS season_stats,\n",
       "    -- Update for current_season,\n",
       "    \u001b[1;35mCOALESCE\u001b[0m\u001b[1m(\u001b[0mt.season\u001b[1m[\u001b[0m:\u001b[1;36m4\u001b[0m\u001b[1m]\u001b[0m::INTEGER, y.current_season+\u001b[1;36m1\u001b[0m\u001b[1m)\u001b[0m AS current_season\n",
       "FROM today t\n",
       "FULL OUTER JOIN yesterday y\n",
       "ON t.player_name = y.player_name;\n",
       "\n"
      ]
     },
     "metadata": {},
     "output_type": "display_data"
    },
    {
     "data": {
      "text/html": [
       "<pre style=\"white-space:pre;overflow-x:auto;line-height:normal;font-family:Menlo,'DejaVu Sans Mono',consolas,'Courier New',monospace\"></pre>\n"
      ],
      "text/plain": []
     },
     "metadata": {},
     "output_type": "display_data"
    },
    {
     "data": {
      "text/html": [
       "<div><style>\n",
       ".dataframe > thead > tr,\n",
       ".dataframe > tbody > tr {\n",
       "  text-align: right;\n",
       "  white-space: pre-wrap;\n",
       "}\n",
       "</style>\n",
       "<small>shape: (5, 11)</small><table border=\"1\" class=\"dataframe\"><thead><tr><th>player_name</th><th>age</th><th>team_abbreviation</th><th>college</th><th>player_height</th><th>player_weight</th><th>draft_year</th><th>draft_round</th><th>draft_number</th><th>season_stats</th><th>current_season</th></tr><tr><td>str</td><td>f64</td><td>str</td><td>str</td><td>f64</td><td>f64</td><td>str</td><td>str</td><td>str</td><td>list[struct[5]]</td><td>i32</td></tr></thead><tbody><tr><td>&quot;Anfernee Hardaway&quot;</td><td>25.0</td><td>&quot;ORL&quot;</td><td>&quot;Memphis&quot;</td><td>200.66</td><td>97.52228</td><td>&quot;1993&quot;</td><td>&quot;1&quot;</td><td>&quot;3&quot;</td><td>[{1996,59,20.5,4.5,5.6}]</td><td>1996</td></tr><tr><td>&quot;Clyde Drexler&quot;</td><td>35.0</td><td>&quot;HOU&quot;</td><td>&quot;Houston&quot;</td><td>200.66</td><td>100.697424</td><td>&quot;1983&quot;</td><td>&quot;1&quot;</td><td>&quot;14&quot;</td><td>[{1996,62,18.0,6.0,5.7}]</td><td>1996</td></tr><tr><td>&quot;Robert Pack&quot;</td><td>28.0</td><td>&quot;DAL&quot;</td><td>&quot;Southern California&quot;</td><td>187.96</td><td>86.18248</td><td>&quot;Undrafted&quot;</td><td>&quot;Undrafted&quot;</td><td>&quot;Undrafted&quot;</td><td>[{1996,54,14.3,2.7,8.4}]</td><td>1996</td></tr><tr><td>&quot;Stanley Roberts&quot;</td><td>27.0</td><td>&quot;LAC&quot;</td><td>&quot;Louisiana State&quot;</td><td>213.36</td><td>131.54168</td><td>&quot;1991&quot;</td><td>&quot;1&quot;</td><td>&quot;23&quot;</td><td>[{1996,18,9.5,5.1,0.5}]</td><td>1996</td></tr><tr><td>&quot;Mike Brown&quot;</td><td>33.0</td><td>&quot;PHX&quot;</td><td>&quot;George Washington&quot;</td><td>208.28</td><td>117.93392</td><td>&quot;1985&quot;</td><td>&quot;3&quot;</td><td>&quot;69&quot;</td><td>[{1996,6,2.7,4.2,0.8}]</td><td>1996</td></tr></tbody></table></div>"
      ],
      "text/plain": [
       "\n",
       "shape: \u001b[1m(\u001b[0m\u001b[1;36m5\u001b[0m, \u001b[1;36m11\u001b[0m\u001b[1m)\u001b[0m\n",
       "┌────────────┬──────┬────────────┬────────────┬───┬────────────┬───────────┬───────────┬───────────┐\n",
       "│ player_nam ┆ age  ┆ team_abbre ┆ college    ┆ … ┆ draft_roun ┆ draft_num ┆ season_st ┆ current_s │\n",
       "│ e          ┆ ---  ┆ viation    ┆ ---        ┆   ┆ d          ┆ ber       ┆ ats       ┆ eason     │\n",
       "│ ---        ┆ f64  ┆ ---        ┆ str        ┆   ┆ ---        ┆ ---       ┆ ---       ┆ ---       │\n",
       "│ str        ┆      ┆ str        ┆            ┆   ┆ str        ┆ str       ┆ list\u001b[1m[\u001b[0mstru ┆ i32       │\n",
       "│            ┆      ┆            ┆            ┆   ┆            ┆           ┆ ct\u001b[1m[\u001b[0m\u001b[1;36m5\u001b[0m\u001b[1m]\u001b[0m\u001b[1m]\u001b[0m    ┆           │\n",
       "╞════════════╪══════╪════════════╪════════════╪═══╪════════════╪═══════════╪═══════════╪═══════════╡\n",
       "│ Anfernee   ┆ \u001b[1;36m25.0\u001b[0m ┆ ORL        ┆ Memphis    ┆ … ┆ \u001b[1;36m1\u001b[0m          ┆ \u001b[1;36m3\u001b[0m         ┆ \u001b[1m[\u001b[0m\u001b[1m{\u001b[0m\u001b[1;36m1996\u001b[0m,\u001b[1;36m59\u001b[0m ┆ \u001b[1;36m1996\u001b[0m      │\n",
       "│ Hardaway   ┆      ┆            ┆            ┆   ┆            ┆           ┆ ,\u001b[1;36m20.5\u001b[0m,\u001b[1;36m4.5\u001b[0m ┆           │\n",
       "│            ┆      ┆            ┆            ┆   ┆            ┆           ┆ ,\u001b[1;36m5.6\u001b[0m\u001b[1m}\u001b[0m\u001b[1m]\u001b[0m    ┆           │\n",
       "│ Clyde      ┆ \u001b[1;36m35.0\u001b[0m ┆ HOU        ┆ Houston    ┆ … ┆ \u001b[1;36m1\u001b[0m          ┆ \u001b[1;36m14\u001b[0m        ┆ \u001b[1m[\u001b[0m\u001b[1m{\u001b[0m\u001b[1;36m1996\u001b[0m,\u001b[1;36m62\u001b[0m ┆ \u001b[1;36m1996\u001b[0m      │\n",
       "│ Drexler    ┆      ┆            ┆            ┆   ┆            ┆           ┆ ,\u001b[1;36m18.0\u001b[0m,\u001b[1;36m6.0\u001b[0m ┆           │\n",
       "│            ┆      ┆            ┆            ┆   ┆            ┆           ┆ ,\u001b[1;36m5.7\u001b[0m\u001b[1m}\u001b[0m\u001b[1m]\u001b[0m    ┆           │\n",
       "│ Robert     ┆ \u001b[1;36m28.0\u001b[0m ┆ DAL        ┆ Southern   ┆ … ┆ Undrafted  ┆ Undrafted ┆ \u001b[1m[\u001b[0m\u001b[1m{\u001b[0m\u001b[1;36m1996\u001b[0m,\u001b[1;36m54\u001b[0m ┆ \u001b[1;36m1996\u001b[0m      │\n",
       "│ Pack       ┆      ┆            ┆ California ┆   ┆            ┆           ┆ ,\u001b[1;36m14.3\u001b[0m,\u001b[1;36m2.7\u001b[0m ┆           │\n",
       "│            ┆      ┆            ┆            ┆   ┆            ┆           ┆ ,\u001b[1;36m8.4\u001b[0m\u001b[1m}\u001b[0m\u001b[1m]\u001b[0m    ┆           │\n",
       "│ Stanley    ┆ \u001b[1;36m27.0\u001b[0m ┆ LAC        ┆ Louisiana  ┆ … ┆ \u001b[1;36m1\u001b[0m          ┆ \u001b[1;36m23\u001b[0m        ┆ \u001b[1m[\u001b[0m\u001b[1m{\u001b[0m\u001b[1;36m1996\u001b[0m,\u001b[1;36m18\u001b[0m ┆ \u001b[1;36m1996\u001b[0m      │\n",
       "│ Roberts    ┆      ┆            ┆ State      ┆   ┆            ┆           ┆ ,\u001b[1;36m9.5\u001b[0m,\u001b[1;36m5.1\u001b[0m, ┆           │\n",
       "│            ┆      ┆            ┆            ┆   ┆            ┆           ┆ \u001b[1;36m0.5\u001b[0m\u001b[1m}\u001b[0m\u001b[1m]\u001b[0m     ┆           │\n",
       "│ Mike Brown ┆ \u001b[1;36m33.0\u001b[0m ┆ PHX        ┆ George     ┆ … ┆ \u001b[1;36m3\u001b[0m          ┆ \u001b[1;36m69\u001b[0m        ┆ \u001b[1m[\u001b[0m\u001b[1m{\u001b[0m\u001b[1;36m1996\u001b[0m,\u001b[1;36m6\u001b[0m, ┆ \u001b[1;36m1996\u001b[0m      │\n",
       "│            ┆      ┆            ┆ Washington ┆   ┆            ┆           ┆ \u001b[1;36m2.7\u001b[0m,\u001b[1;36m4.2\u001b[0m,\u001b[1;36m0\u001b[0m ┆           │\n",
       "│            ┆      ┆            ┆            ┆   ┆            ┆           ┆ .\u001b[1;36m8\u001b[0m\u001b[1m}\u001b[0m\u001b[1m]\u001b[0m      ┆           │\n",
       "└────────────┴──────┴────────────┴────────────┴───┴────────────┴───────────┴───────────┴───────────┘"
      ]
     },
     "metadata": {},
     "output_type": "display_data"
    }
   ],
   "source": [
    "qr = \"\"\"\n",
    "WITH yesterday AS (\n",
    "    SELECT * FROM players\n",
    "    WHERE current_season={current_season}\n",
    "), today AS (\n",
    "    SELECT * FROM df\n",
    "    WHERE season='{season}'\n",
    ")\n",
    "SELECT\n",
    "    COALESCE(t.player_name, y.player_name) AS player_name,\n",
    "    COALESCE(t.age, y.age) AS age,\n",
    "    COALESCE(t.team_abbreviation, y.team_abbreviation) AS team_abbreviation,\n",
    "    COALESCE(t.college, y.college) AS college,\n",
    "    COALESCE(t.player_height, y.player_height) AS player_height,\n",
    "    COALESCE(t.player_weight, y.player_weight) AS player_weight,\n",
    "    COALESCE(t.draft_year, y.draft_year) AS draft_year,\n",
    "    COALESCE(t.draft_round, y.draft_round) AS draft_round,\n",
    "    COALESCE(t.draft_number, y.draft_number) AS draft_number,\n",
    "    -- Update for season_stats\n",
    "    CASE WHEN y.season_stats IS NULL\n",
    "        THEN ARRAY[ROW(\n",
    "            t.season[:4]::INTEGER,\n",
    "            t.gp,\n",
    "            t.pts,\n",
    "            t.reb,\n",
    "            t.ast\n",
    "        )::season_stats]\n",
    "    WHEN t.season IS NOT NULL\n",
    "        THEN y.season_stats || ARRAY[ROW(\n",
    "            t.season[:4]::INTEGER,\n",
    "            t.gp,\n",
    "            t.pts,\n",
    "            t.reb,\n",
    "            t.ast\n",
    "        )::season_stats]\n",
    "    ELSE y.season_stats\n",
    "    END AS season_stats,\n",
    "    -- Update for current_season,\n",
    "    COALESCE(t.season[:4]::INTEGER, y.current_season+1) AS current_season\n",
    "FROM today t\n",
    "FULL OUTER JOIN yesterday y\n",
    "ON t.player_name = y.player_name;\n",
    "\"\"\"\n",
    "query = qr.format(current_season=1995, season='1996-97')\n",
    "print(query)\n",
    "dfr = con.sql(query).pl()\n",
    "display(dfr.head())"
   ]
  },
  {
   "cell_type": "code",
   "execution_count": 8,
   "metadata": {},
   "outputs": [],
   "source": [
    "query_insert = \"\"\"INSERT INTO players\"\"\" + query\n",
    "con.sql(query_insert)"
   ]
  },
  {
   "cell_type": "code",
   "execution_count": 9,
   "metadata": {},
   "outputs": [],
   "source": [
    "for year in range(1997,2022):\n",
    "    season = '-'.join([str(year+1),str(year+2)[2:]])\n",
    "    query = qr.format(current_season=year, season=season)\n",
    "    # print(query)\n",
    "    query_insert = \"\"\"INSERT INTO players\"\"\" + query\n",
    "    # print(f\"Inserted: {season}\")\n",
    "    con.sql(query_insert)"
   ]
  },
  {
   "cell_type": "code",
   "execution_count": 10,
   "metadata": {},
   "outputs": [
    {
     "data": {
      "text/html": [
       "<pre style=\"white-space:pre;overflow-x:auto;line-height:normal;font-family:Menlo,'DejaVu Sans Mono',consolas,'Courier New',monospace\"></pre>\n"
      ],
      "text/plain": []
     },
     "metadata": {},
     "output_type": "display_data"
    },
    {
     "data": {
      "text/plain": [
       "\n",
       "┌─────────────┬───────┬───────────────────┬─────────┬───────────────┬───────────────┬────────────┬─────────────┬──────────────┬───────────────────────────────────────────────────────────────────────────────────────────────────────────────────────────────────────────────────────────────────────────────────────────────────────────────────────────────────────────────────────────────────────────────────────────────────────────────────────────────────────────────────────────────────────────────────────────────────────────────────────────────────────────────────────────────────────────────────────────────────────────────────────────────────────────────────────────────────────────────────────────────────────────────────────────────────────────────────────────────────────────────────────────────────────────────────────────────────────────────────────────────────────────────────────────────────────────────────────────────────────────────────────────────────────────────────────────────────────────────────────────────────────────────────────────────────────────────────────────────────────────────────────────────────────────────────────────────────────────────────────────────────────────────────────────────────────────────────────────────────────────────────────────────────────────────────┬────────────────┐\n",
       "│ player_name │  age  │ team_abbreviation │ college │ player_height │ player_weight │ draft_year │ draft_round │ draft_number │                                                                                                                                                                                                                                                                                                                                                                                                                                                                                                                                                                                                   season_stats                                                                                                                                                                                                                                                                                                                                                                                                                                                                                                                                                                                                    │ current_season │\n",
       "│   varchar   │ int32 │      varchar      │ varchar │     float     │     float     │  varchar   │   varchar   │   varchar    │                                                                                                                                                                                                                                                                                                                                                                                                                                                                                                                                                                       \u001b[1;35mstruct\u001b[0m\u001b[1m(\u001b[0mseason integer, gp integer, pts float, reb float, ast float\u001b[1m)\u001b[0m\u001b[1m[\u001b[0m\u001b[1m]\u001b[0m                                                                                                                                                                                                                                                                                                                                                                                                                                                                                                                                                                       │     int32      │\n",
       "├─────────────┼───────┼───────────────────┼─────────┼───────────────┼───────────────┼────────────┼─────────────┼──────────────┼───────────────────────────────────────────────────────────────────────────────────────────────────────────────────────────────────────────────────────────────────────────────────────────────────────────────────────────────────────────────────────────────────────────────────────────────────────────────────────────────────────────────────────────────────────────────────────────────────────────────────────────────────────────────────────────────────────────────────────────────────────────────────────────────────────────────────────────────────────────────────────────────────────────────────────────────────────────────────────────────────────────────────────────────────────────────────────────────────────────────────────────────────────────────────────────────────────────────────────────────────────────────────────────────────────────────────────────────────────────────────────────────────────────────────────────────────────────────────────────────────────────────────────────────────────────────────────────────────────────────────────────────────────────────────────────────────────────────────────────────────────────────────────────────────────────────────┼────────────────┤\n",
       "│ Kobe Bryant │    \u001b[1;36m37\u001b[0m │ LAL               │ \u001b[3;35mNone\u001b[0m    │        \u001b[1;36m198.12\u001b[0m │      \u001b[1;36m96.16151\u001b[0m │ \u001b[1;36m1996\u001b[0m       │ \u001b[1;36m1\u001b[0m           │ \u001b[1;36m13\u001b[0m           │ \u001b[1m[\u001b[0m\u001b[1m{\u001b[0m\u001b[32m'season'\u001b[0m: \u001b[1;36m1998\u001b[0m, \u001b[32m'gp'\u001b[0m: \u001b[1;36m50\u001b[0m, \u001b[32m'pts'\u001b[0m: \u001b[1;36m19.9\u001b[0m, \u001b[32m'reb'\u001b[0m: \u001b[1;36m5.3\u001b[0m, \u001b[32m'ast'\u001b[0m: \u001b[1;36m3.8\u001b[0m\u001b[1m}\u001b[0m, \u001b[1m{\u001b[0m\u001b[32m'season'\u001b[0m: \u001b[1;36m1999\u001b[0m, \u001b[32m'gp'\u001b[0m: \u001b[1;36m66\u001b[0m, \u001b[32m'pts'\u001b[0m: \u001b[1;36m22.5\u001b[0m, \u001b[32m'reb'\u001b[0m: \u001b[1;36m6.3\u001b[0m, \u001b[32m'ast'\u001b[0m: \u001b[1;36m4.9\u001b[0m\u001b[1m}\u001b[0m, \u001b[1m{\u001b[0m\u001b[32m'season'\u001b[0m: \u001b[1;36m2000\u001b[0m, \u001b[32m'gp'\u001b[0m: \u001b[1;36m68\u001b[0m, \u001b[32m'pts'\u001b[0m: \u001b[1;36m28.5\u001b[0m, \u001b[32m'reb'\u001b[0m: \u001b[1;36m5.9\u001b[0m, \u001b[32m'ast'\u001b[0m: \u001b[1;36m5.0\u001b[0m\u001b[1m}\u001b[0m, \u001b[1m{\u001b[0m\u001b[32m'season'\u001b[0m: \u001b[1;36m2001\u001b[0m, \u001b[32m'gp'\u001b[0m: \u001b[1;36m80\u001b[0m, \u001b[32m'pts'\u001b[0m: \u001b[1;36m25.2\u001b[0m, \u001b[32m'reb'\u001b[0m: \u001b[1;36m5.5\u001b[0m, \u001b[32m'ast'\u001b[0m: \u001b[1;36m5.5\u001b[0m\u001b[1m}\u001b[0m, \u001b[1m{\u001b[0m\u001b[32m'season'\u001b[0m: \u001b[1;36m2002\u001b[0m, \u001b[32m'gp'\u001b[0m: \u001b[1;36m82\u001b[0m, \u001b[32m'pts'\u001b[0m: \u001b[1;36m30.0\u001b[0m, \u001b[32m'reb'\u001b[0m: \u001b[1;36m6.9\u001b[0m, \u001b[32m'ast'\u001b[0m: \u001b[1;36m5.9\u001b[0m\u001b[1m}\u001b[0m, \u001b[1m{\u001b[0m\u001b[32m'season'\u001b[0m: \u001b[1;36m2003\u001b[0m, \u001b[32m'gp'\u001b[0m: \u001b[1;36m65\u001b[0m, \u001b[32m'pts'\u001b[0m: \u001b[1;36m24.0\u001b[0m, \u001b[32m'reb'\u001b[0m: \u001b[1;36m5.5\u001b[0m, \u001b[32m'ast'\u001b[0m: \u001b[1;36m5.1\u001b[0m\u001b[1m}\u001b[0m, \u001b[1m{\u001b[0m\u001b[32m'season'\u001b[0m: \u001b[1;36m2004\u001b[0m, \u001b[32m'gp'\u001b[0m: \u001b[1;36m66\u001b[0m, \u001b[32m'pts'\u001b[0m: \u001b[1;36m27.6\u001b[0m, \u001b[32m'reb'\u001b[0m: \u001b[1;36m5.9\u001b[0m, \u001b[32m'ast'\u001b[0m: \u001b[1;36m6.0\u001b[0m\u001b[1m}\u001b[0m, \u001b[1m{\u001b[0m\u001b[32m'season'\u001b[0m: \u001b[1;36m2005\u001b[0m, \u001b[32m'gp'\u001b[0m: \u001b[1;36m80\u001b[0m, \u001b[32m'pts'\u001b[0m: \u001b[1;36m35.4\u001b[0m, \u001b[32m'reb'\u001b[0m: \u001b[1;36m5.3\u001b[0m, \u001b[32m'ast'\u001b[0m: \u001b[1;36m4.5\u001b[0m\u001b[1m}\u001b[0m, \u001b[1m{\u001b[0m\u001b[32m'season'\u001b[0m: \u001b[1;36m2006\u001b[0m, \u001b[32m'gp'\u001b[0m: \u001b[1;36m77\u001b[0m, \u001b[32m'pts'\u001b[0m: \u001b[1;36m31.6\u001b[0m, \u001b[32m'reb'\u001b[0m: \u001b[1;36m5.7\u001b[0m, \u001b[32m'ast'\u001b[0m: \u001b[1;36m5.4\u001b[0m\u001b[1m}\u001b[0m, \u001b[1m{\u001b[0m\u001b[32m'season'\u001b[0m: \u001b[1;36m2007\u001b[0m, \u001b[32m'gp'\u001b[0m: \u001b[1;36m82\u001b[0m, \u001b[32m'pts'\u001b[0m: \u001b[1;36m28.3\u001b[0m, \u001b[32m'reb'\u001b[0m: \u001b[1;36m6.3\u001b[0m, \u001b[32m'ast'\u001b[0m: \u001b[1;36m5.4\u001b[0m\u001b[1m}\u001b[0m, \u001b[1m{\u001b[0m\u001b[32m'season'\u001b[0m: \u001b[1;36m2008\u001b[0m, \u001b[32m'gp'\u001b[0m: \u001b[1;36m82\u001b[0m, \u001b[32m'pts'\u001b[0m: \u001b[1;36m26.8\u001b[0m, \u001b[32m'reb'\u001b[0m: \u001b[1;36m5.2\u001b[0m, \u001b[32m'ast'\u001b[0m: \u001b[1;36m4.9\u001b[0m\u001b[1m}\u001b[0m, \u001b[1m{\u001b[0m\u001b[32m'season'\u001b[0m: \u001b[1;36m2009\u001b[0m, \u001b[32m'gp'\u001b[0m: \u001b[1;36m73\u001b[0m, \u001b[32m'pts'\u001b[0m: \u001b[1;36m27.0\u001b[0m, \u001b[32m'reb'\u001b[0m: \u001b[1;36m5.4\u001b[0m, \u001b[32m'ast'\u001b[0m: \u001b[1;36m5.0\u001b[0m\u001b[1m}\u001b[0m, \u001b[1m{\u001b[0m\u001b[32m'season'\u001b[0m: \u001b[1;36m2010\u001b[0m, \u001b[32m'gp'\u001b[0m: \u001b[1;36m82\u001b[0m, \u001b[32m'pts'\u001b[0m: \u001b[1;36m25.3\u001b[0m, \u001b[32m'reb'\u001b[0m: \u001b[1;36m5.1\u001b[0m, \u001b[32m'ast'\u001b[0m: \u001b[1;36m4.7\u001b[0m\u001b[1m}\u001b[0m, \u001b[1m{\u001b[0m\u001b[32m'season'\u001b[0m: \u001b[1;36m2011\u001b[0m, \u001b[32m'gp'\u001b[0m: \u001b[1;36m58\u001b[0m, \u001b[32m'pts'\u001b[0m: \u001b[1;36m27.9\u001b[0m, \u001b[32m'reb'\u001b[0m: \u001b[1;36m5.4\u001b[0m, \u001b[32m'ast'\u001b[0m: \u001b[1;36m4.6\u001b[0m\u001b[1m}\u001b[0m, \u001b[1m{\u001b[0m\u001b[32m'season'\u001b[0m: \u001b[1;36m2012\u001b[0m, \u001b[32m'gp'\u001b[0m: \u001b[1;36m78\u001b[0m, \u001b[32m'pts'\u001b[0m: \u001b[1;36m27.3\u001b[0m, \u001b[32m'reb'\u001b[0m: \u001b[1;36m5.6\u001b[0m, \u001b[32m'ast'\u001b[0m: \u001b[1;36m6.0\u001b[0m\u001b[1m}\u001b[0m, \u001b[1m{\u001b[0m\u001b[32m'season'\u001b[0m: \u001b[1;36m2013\u001b[0m, \u001b[32m'gp'\u001b[0m: \u001b[1;36m6\u001b[0m, \u001b[32m'pts'\u001b[0m: \u001b[1;36m13.8\u001b[0m, \u001b[32m'reb'\u001b[0m: \u001b[1;36m4.3\u001b[0m, \u001b[32m'ast'\u001b[0m: \u001b[1;36m6.3\u001b[0m\u001b[1m}\u001b[0m, \u001b[1m{\u001b[0m\u001b[32m'season'\u001b[0m: \u001b[1;36m2014\u001b[0m, \u001b[32m'gp'\u001b[0m: \u001b[1;36m35\u001b[0m, \u001b[32m'pts'\u001b[0m: \u001b[1;36m22.3\u001b[0m, \u001b[32m'reb'\u001b[0m: \u001b[1;36m5.7\u001b[0m, \u001b[32m'ast'\u001b[0m: \u001b[1;36m5.6\u001b[0m\u001b[1m}\u001b[0m, \u001b[1m{\u001b[0m\u001b[32m'season'\u001b[0m: \u001b[1;36m2015\u001b[0m, \u001b[32m'gp'\u001b[0m: \u001b[1;36m66\u001b[0m, \u001b[32m'pts'\u001b[0m: \u001b[1;36m17.6\u001b[0m, \u001b[32m'reb'\u001b[0m: \u001b[1;36m3.7\u001b[0m, \u001b[32m'ast'\u001b[0m: \u001b[1;36m2.8\u001b[0m\u001b[1m}\u001b[0m\u001b[1m]\u001b[0m │           \u001b[1;36m2021\u001b[0m │\n",
       "└─────────────┴───────┴───────────────────┴─────────┴───────────────┴───────────────┴────────────┴─────────────┴──────────────┴───────────────────────────────────────────────────────────────────────────────────────────────────────────────────────────────────────────────────────────────────────────────────────────────────────────────────────────────────────────────────────────────────────────────────────────────────────────────────────────────────────────────────────────────────────────────────────────────────────────────────────────────────────────────────────────────────────────────────────────────────────────────────────────────────────────────────────────────────────────────────────────────────────────────────────────────────────────────────────────────────────────────────────────────────────────────────────────────────────────────────────────────────────────────────────────────────────────────────────────────────────────────────────────────────────────────────────────────────────────────────────────────────────────────────────────────────────────────────────────────────────────────────────────────────────────────────────────────────────────────────────────────────────────────────────────────────────────────────────────────────────────────────────────────────────────────────┴────────────────┘"
      ]
     },
     "execution_count": 10,
     "metadata": {},
     "output_type": "execute_result"
    }
   ],
   "source": [
    "qr = \"\"\"\n",
    "SELECT * FROM players\n",
    "WHERE current_season=2021\n",
    "AND player_name='Kobe Bryant'\n",
    "\"\"\"\n",
    "con.sql(qr)\n"
   ]
  },
  {
   "cell_type": "code",
   "execution_count": 11,
   "metadata": {},
   "outputs": [
    {
     "data": {
      "text/html": [
       "<pre style=\"white-space:pre;overflow-x:auto;line-height:normal;font-family:Menlo,'DejaVu Sans Mono',consolas,'Courier New',monospace\"></pre>\n"
      ],
      "text/plain": []
     },
     "metadata": {},
     "output_type": "display_data"
    },
    {
     "data": {
      "text/plain": [
       "\n",
       "┌─────────────┬─────────────────────────────────────────────────────────────────────┐\n",
       "│ player_name │                        \u001b[1;35munnest\u001b[0m\u001b[1m(\u001b[0mseason_stats\u001b[1m)\u001b[0m                         │\n",
       "│   varchar   │ \u001b[1;35mstruct\u001b[0m\u001b[1m(\u001b[0mseason integer, gp integer, pts float, reb float, ast float\u001b[1m)\u001b[0m │\n",
       "├─────────────┼─────────────────────────────────────────────────────────────────────┤\n",
       "│ Kobe Bryant │ \u001b[1m{\u001b[0m\u001b[32m'season'\u001b[0m: \u001b[1;36m1998\u001b[0m, \u001b[32m'gp'\u001b[0m: \u001b[1;36m50\u001b[0m, \u001b[32m'pts'\u001b[0m: \u001b[1;36m19.9\u001b[0m, \u001b[32m'reb'\u001b[0m: \u001b[1;36m5.3\u001b[0m, \u001b[32m'ast'\u001b[0m: \u001b[1;36m3.8\u001b[0m\u001b[1m}\u001b[0m     │\n",
       "│ Kobe Bryant │ \u001b[1m{\u001b[0m\u001b[32m'season'\u001b[0m: \u001b[1;36m1999\u001b[0m, \u001b[32m'gp'\u001b[0m: \u001b[1;36m66\u001b[0m, \u001b[32m'pts'\u001b[0m: \u001b[1;36m22.5\u001b[0m, \u001b[32m'reb'\u001b[0m: \u001b[1;36m6.3\u001b[0m, \u001b[32m'ast'\u001b[0m: \u001b[1;36m4.9\u001b[0m\u001b[1m}\u001b[0m     │\n",
       "│ Kobe Bryant │ \u001b[1m{\u001b[0m\u001b[32m'season'\u001b[0m: \u001b[1;36m2000\u001b[0m, \u001b[32m'gp'\u001b[0m: \u001b[1;36m68\u001b[0m, \u001b[32m'pts'\u001b[0m: \u001b[1;36m28.5\u001b[0m, \u001b[32m'reb'\u001b[0m: \u001b[1;36m5.9\u001b[0m, \u001b[32m'ast'\u001b[0m: \u001b[1;36m5.0\u001b[0m\u001b[1m}\u001b[0m     │\n",
       "│ Kobe Bryant │ \u001b[1m{\u001b[0m\u001b[32m'season'\u001b[0m: \u001b[1;36m2001\u001b[0m, \u001b[32m'gp'\u001b[0m: \u001b[1;36m80\u001b[0m, \u001b[32m'pts'\u001b[0m: \u001b[1;36m25.2\u001b[0m, \u001b[32m'reb'\u001b[0m: \u001b[1;36m5.5\u001b[0m, \u001b[32m'ast'\u001b[0m: \u001b[1;36m5.5\u001b[0m\u001b[1m}\u001b[0m     │\n",
       "│ Kobe Bryant │ \u001b[1m{\u001b[0m\u001b[32m'season'\u001b[0m: \u001b[1;36m2002\u001b[0m, \u001b[32m'gp'\u001b[0m: \u001b[1;36m82\u001b[0m, \u001b[32m'pts'\u001b[0m: \u001b[1;36m30.0\u001b[0m, \u001b[32m'reb'\u001b[0m: \u001b[1;36m6.9\u001b[0m, \u001b[32m'ast'\u001b[0m: \u001b[1;36m5.9\u001b[0m\u001b[1m}\u001b[0m     │\n",
       "│ Kobe Bryant │ \u001b[1m{\u001b[0m\u001b[32m'season'\u001b[0m: \u001b[1;36m2003\u001b[0m, \u001b[32m'gp'\u001b[0m: \u001b[1;36m65\u001b[0m, \u001b[32m'pts'\u001b[0m: \u001b[1;36m24.0\u001b[0m, \u001b[32m'reb'\u001b[0m: \u001b[1;36m5.5\u001b[0m, \u001b[32m'ast'\u001b[0m: \u001b[1;36m5.1\u001b[0m\u001b[1m}\u001b[0m     │\n",
       "│ Kobe Bryant │ \u001b[1m{\u001b[0m\u001b[32m'season'\u001b[0m: \u001b[1;36m2004\u001b[0m, \u001b[32m'gp'\u001b[0m: \u001b[1;36m66\u001b[0m, \u001b[32m'pts'\u001b[0m: \u001b[1;36m27.6\u001b[0m, \u001b[32m'reb'\u001b[0m: \u001b[1;36m5.9\u001b[0m, \u001b[32m'ast'\u001b[0m: \u001b[1;36m6.0\u001b[0m\u001b[1m}\u001b[0m     │\n",
       "│ Kobe Bryant │ \u001b[1m{\u001b[0m\u001b[32m'season'\u001b[0m: \u001b[1;36m2005\u001b[0m, \u001b[32m'gp'\u001b[0m: \u001b[1;36m80\u001b[0m, \u001b[32m'pts'\u001b[0m: \u001b[1;36m35.4\u001b[0m, \u001b[32m'reb'\u001b[0m: \u001b[1;36m5.3\u001b[0m, \u001b[32m'ast'\u001b[0m: \u001b[1;36m4.5\u001b[0m\u001b[1m}\u001b[0m     │\n",
       "│ Kobe Bryant │ \u001b[1m{\u001b[0m\u001b[32m'season'\u001b[0m: \u001b[1;36m2006\u001b[0m, \u001b[32m'gp'\u001b[0m: \u001b[1;36m77\u001b[0m, \u001b[32m'pts'\u001b[0m: \u001b[1;36m31.6\u001b[0m, \u001b[32m'reb'\u001b[0m: \u001b[1;36m5.7\u001b[0m, \u001b[32m'ast'\u001b[0m: \u001b[1;36m5.4\u001b[0m\u001b[1m}\u001b[0m     │\n",
       "│ Kobe Bryant │ \u001b[1m{\u001b[0m\u001b[32m'season'\u001b[0m: \u001b[1;36m2007\u001b[0m, \u001b[32m'gp'\u001b[0m: \u001b[1;36m82\u001b[0m, \u001b[32m'pts'\u001b[0m: \u001b[1;36m28.3\u001b[0m, \u001b[32m'reb'\u001b[0m: \u001b[1;36m6.3\u001b[0m, \u001b[32m'ast'\u001b[0m: \u001b[1;36m5.4\u001b[0m\u001b[1m}\u001b[0m     │\n",
       "│ Kobe Bryant │ \u001b[1m{\u001b[0m\u001b[32m'season'\u001b[0m: \u001b[1;36m2008\u001b[0m, \u001b[32m'gp'\u001b[0m: \u001b[1;36m82\u001b[0m, \u001b[32m'pts'\u001b[0m: \u001b[1;36m26.8\u001b[0m, \u001b[32m'reb'\u001b[0m: \u001b[1;36m5.2\u001b[0m, \u001b[32m'ast'\u001b[0m: \u001b[1;36m4.9\u001b[0m\u001b[1m}\u001b[0m     │\n",
       "│ Kobe Bryant │ \u001b[1m{\u001b[0m\u001b[32m'season'\u001b[0m: \u001b[1;36m2009\u001b[0m, \u001b[32m'gp'\u001b[0m: \u001b[1;36m73\u001b[0m, \u001b[32m'pts'\u001b[0m: \u001b[1;36m27.0\u001b[0m, \u001b[32m'reb'\u001b[0m: \u001b[1;36m5.4\u001b[0m, \u001b[32m'ast'\u001b[0m: \u001b[1;36m5.0\u001b[0m\u001b[1m}\u001b[0m     │\n",
       "│ Kobe Bryant │ \u001b[1m{\u001b[0m\u001b[32m'season'\u001b[0m: \u001b[1;36m2010\u001b[0m, \u001b[32m'gp'\u001b[0m: \u001b[1;36m82\u001b[0m, \u001b[32m'pts'\u001b[0m: \u001b[1;36m25.3\u001b[0m, \u001b[32m'reb'\u001b[0m: \u001b[1;36m5.1\u001b[0m, \u001b[32m'ast'\u001b[0m: \u001b[1;36m4.7\u001b[0m\u001b[1m}\u001b[0m     │\n",
       "│ Kobe Bryant │ \u001b[1m{\u001b[0m\u001b[32m'season'\u001b[0m: \u001b[1;36m2011\u001b[0m, \u001b[32m'gp'\u001b[0m: \u001b[1;36m58\u001b[0m, \u001b[32m'pts'\u001b[0m: \u001b[1;36m27.9\u001b[0m, \u001b[32m'reb'\u001b[0m: \u001b[1;36m5.4\u001b[0m, \u001b[32m'ast'\u001b[0m: \u001b[1;36m4.6\u001b[0m\u001b[1m}\u001b[0m     │\n",
       "│ Kobe Bryant │ \u001b[1m{\u001b[0m\u001b[32m'season'\u001b[0m: \u001b[1;36m2012\u001b[0m, \u001b[32m'gp'\u001b[0m: \u001b[1;36m78\u001b[0m, \u001b[32m'pts'\u001b[0m: \u001b[1;36m27.3\u001b[0m, \u001b[32m'reb'\u001b[0m: \u001b[1;36m5.6\u001b[0m, \u001b[32m'ast'\u001b[0m: \u001b[1;36m6.0\u001b[0m\u001b[1m}\u001b[0m     │\n",
       "│ Kobe Bryant │ \u001b[1m{\u001b[0m\u001b[32m'season'\u001b[0m: \u001b[1;36m2013\u001b[0m, \u001b[32m'gp'\u001b[0m: \u001b[1;36m6\u001b[0m, \u001b[32m'pts'\u001b[0m: \u001b[1;36m13.8\u001b[0m, \u001b[32m'reb'\u001b[0m: \u001b[1;36m4.3\u001b[0m, \u001b[32m'ast'\u001b[0m: \u001b[1;36m6.3\u001b[0m\u001b[1m}\u001b[0m      │\n",
       "│ Kobe Bryant │ \u001b[1m{\u001b[0m\u001b[32m'season'\u001b[0m: \u001b[1;36m2014\u001b[0m, \u001b[32m'gp'\u001b[0m: \u001b[1;36m35\u001b[0m, \u001b[32m'pts'\u001b[0m: \u001b[1;36m22.3\u001b[0m, \u001b[32m'reb'\u001b[0m: \u001b[1;36m5.7\u001b[0m, \u001b[32m'ast'\u001b[0m: \u001b[1;36m5.6\u001b[0m\u001b[1m}\u001b[0m     │\n",
       "│ Kobe Bryant │ \u001b[1m{\u001b[0m\u001b[32m'season'\u001b[0m: \u001b[1;36m2015\u001b[0m, \u001b[32m'gp'\u001b[0m: \u001b[1;36m66\u001b[0m, \u001b[32m'pts'\u001b[0m: \u001b[1;36m17.6\u001b[0m, \u001b[32m'reb'\u001b[0m: \u001b[1;36m3.7\u001b[0m, \u001b[32m'ast'\u001b[0m: \u001b[1;36m2.8\u001b[0m\u001b[1m}\u001b[0m     │\n",
       "├─────────────┴─────────────────────────────────────────────────────────────────────┤\n",
       "│ \u001b[1;36m18\u001b[0m rows                                                                 \u001b[1;36m2\u001b[0m columns │\n",
       "└───────────────────────────────────────────────────────────────────────────────────┘"
      ]
     },
     "execution_count": 11,
     "metadata": {},
     "output_type": "execute_result"
    }
   ],
   "source": [
    "qr = \"\"\"\n",
    "SELECT\n",
    "    player_name,\n",
    "    UNNEST(season_stats) FROM players\n",
    "WHERE current_season=2021\n",
    "AND player_name='Kobe Bryant'\n",
    "\"\"\"\n",
    "con.sql(qr)"
   ]
  },
  {
   "cell_type": "code",
   "execution_count": 12,
   "metadata": {},
   "outputs": [
    {
     "data": {
      "text/html": [
       "<pre style=\"white-space:pre;overflow-x:auto;line-height:normal;font-family:Menlo,'DejaVu Sans Mono',consolas,'Courier New',monospace\"></pre>\n"
      ],
      "text/plain": []
     },
     "metadata": {},
     "output_type": "display_data"
    },
    {
     "data": {
      "text/plain": [
       "\n",
       "┌─────────────┬────────┬───────┬───────┬───────┬───────┐\n",
       "│ player_name │ season │  gp   │  pts  │  reb  │  ast  │\n",
       "│   varchar   │ int32  │ int32 │ float │ float │ float │\n",
       "├─────────────┼────────┼───────┼───────┼───────┼───────┤\n",
       "│ Kobe Bryant │   \u001b[1;36m1998\u001b[0m │    \u001b[1;36m50\u001b[0m │  \u001b[1;36m19.9\u001b[0m │   \u001b[1;36m5.3\u001b[0m │   \u001b[1;36m3.8\u001b[0m │\n",
       "│ Kobe Bryant │   \u001b[1;36m1999\u001b[0m │    \u001b[1;36m66\u001b[0m │  \u001b[1;36m22.5\u001b[0m │   \u001b[1;36m6.3\u001b[0m │   \u001b[1;36m4.9\u001b[0m │\n",
       "│ Kobe Bryant │   \u001b[1;36m2000\u001b[0m │    \u001b[1;36m68\u001b[0m │  \u001b[1;36m28.5\u001b[0m │   \u001b[1;36m5.9\u001b[0m │   \u001b[1;36m5.0\u001b[0m │\n",
       "│ Kobe Bryant │   \u001b[1;36m2001\u001b[0m │    \u001b[1;36m80\u001b[0m │  \u001b[1;36m25.2\u001b[0m │   \u001b[1;36m5.5\u001b[0m │   \u001b[1;36m5.5\u001b[0m │\n",
       "│ Kobe Bryant │   \u001b[1;36m2002\u001b[0m │    \u001b[1;36m82\u001b[0m │  \u001b[1;36m30.0\u001b[0m │   \u001b[1;36m6.9\u001b[0m │   \u001b[1;36m5.9\u001b[0m │\n",
       "│ Kobe Bryant │   \u001b[1;36m2003\u001b[0m │    \u001b[1;36m65\u001b[0m │  \u001b[1;36m24.0\u001b[0m │   \u001b[1;36m5.5\u001b[0m │   \u001b[1;36m5.1\u001b[0m │\n",
       "│ Kobe Bryant │   \u001b[1;36m2004\u001b[0m │    \u001b[1;36m66\u001b[0m │  \u001b[1;36m27.6\u001b[0m │   \u001b[1;36m5.9\u001b[0m │   \u001b[1;36m6.0\u001b[0m │\n",
       "│ Kobe Bryant │   \u001b[1;36m2005\u001b[0m │    \u001b[1;36m80\u001b[0m │  \u001b[1;36m35.4\u001b[0m │   \u001b[1;36m5.3\u001b[0m │   \u001b[1;36m4.5\u001b[0m │\n",
       "│ Kobe Bryant │   \u001b[1;36m2006\u001b[0m │    \u001b[1;36m77\u001b[0m │  \u001b[1;36m31.6\u001b[0m │   \u001b[1;36m5.7\u001b[0m │   \u001b[1;36m5.4\u001b[0m │\n",
       "│ Kobe Bryant │   \u001b[1;36m2007\u001b[0m │    \u001b[1;36m82\u001b[0m │  \u001b[1;36m28.3\u001b[0m │   \u001b[1;36m6.3\u001b[0m │   \u001b[1;36m5.4\u001b[0m │\n",
       "│ Kobe Bryant │   \u001b[1;36m2008\u001b[0m │    \u001b[1;36m82\u001b[0m │  \u001b[1;36m26.8\u001b[0m │   \u001b[1;36m5.2\u001b[0m │   \u001b[1;36m4.9\u001b[0m │\n",
       "│ Kobe Bryant │   \u001b[1;36m2009\u001b[0m │    \u001b[1;36m73\u001b[0m │  \u001b[1;36m27.0\u001b[0m │   \u001b[1;36m5.4\u001b[0m │   \u001b[1;36m5.0\u001b[0m │\n",
       "│ Kobe Bryant │   \u001b[1;36m2010\u001b[0m │    \u001b[1;36m82\u001b[0m │  \u001b[1;36m25.3\u001b[0m │   \u001b[1;36m5.1\u001b[0m │   \u001b[1;36m4.7\u001b[0m │\n",
       "│ Kobe Bryant │   \u001b[1;36m2011\u001b[0m │    \u001b[1;36m58\u001b[0m │  \u001b[1;36m27.9\u001b[0m │   \u001b[1;36m5.4\u001b[0m │   \u001b[1;36m4.6\u001b[0m │\n",
       "│ Kobe Bryant │   \u001b[1;36m2012\u001b[0m │    \u001b[1;36m78\u001b[0m │  \u001b[1;36m27.3\u001b[0m │   \u001b[1;36m5.6\u001b[0m │   \u001b[1;36m6.0\u001b[0m │\n",
       "│ Kobe Bryant │   \u001b[1;36m2013\u001b[0m │     \u001b[1;36m6\u001b[0m │  \u001b[1;36m13.8\u001b[0m │   \u001b[1;36m4.3\u001b[0m │   \u001b[1;36m6.3\u001b[0m │\n",
       "│ Kobe Bryant │   \u001b[1;36m2014\u001b[0m │    \u001b[1;36m35\u001b[0m │  \u001b[1;36m22.3\u001b[0m │   \u001b[1;36m5.7\u001b[0m │   \u001b[1;36m5.6\u001b[0m │\n",
       "│ Kobe Bryant │   \u001b[1;36m2015\u001b[0m │    \u001b[1;36m66\u001b[0m │  \u001b[1;36m17.6\u001b[0m │   \u001b[1;36m3.7\u001b[0m │   \u001b[1;36m2.8\u001b[0m │\n",
       "├─────────────┴────────┴───────┴───────┴───────┴───────┤\n",
       "│ \u001b[1;36m18\u001b[0m rows                                    \u001b[1;36m6\u001b[0m columns │\n",
       "└──────────────────────────────────────────────────────┘"
      ]
     },
     "execution_count": 12,
     "metadata": {},
     "output_type": "execute_result"
    }
   ],
   "source": [
    "\n",
    "qr = \"\"\"\n",
    "WITH expansion AS (\n",
    "    SELECT\n",
    "        player_name,\n",
    "        UNNEST(season_stats)::season_stats AS season_stats\n",
    "    FROM players\n",
    "    WHERE current_season=2021\n",
    "    AND player_name='Kobe Bryant'\n",
    ")\n",
    "SELECT\n",
    "    player_name,\n",
    "    season_stats.*\n",
    "FROM expansion\n",
    "\"\"\"\n",
    "con.sql(qr)"
   ]
  },
  {
   "cell_type": "code",
   "execution_count": 13,
   "metadata": {},
   "outputs": [],
   "source": [
    "qr = \"\"\"\n",
    "DROP TYPE IF EXISTS scoring_class;\n",
    "CREATE TYPE scoring_class AS ENUM ('star', 'good', 'average', 'bad');\n",
    "\"\"\"\n",
    "con.sql(qr)\n",
    "qr = \"\"\"\n",
    "DROP TABLE IF EXISTS players;\n",
    "CREATE TABLE players (\n",
    "    player_name TEXT,\n",
    "    age INTEGER,\n",
    "    team_abbreviation TEXT,\n",
    "    college TEXT,\n",
    "    player_height FLOAT,\n",
    "    player_weight FLOAT,\n",
    "    draft_year TEXT,\n",
    "    draft_round TEXT,\n",
    "    draft_number TEXT,\n",
    "    season_stats season_stats[],\n",
    "    scoring_class scoring_class,\n",
    "    years_since_last_season INTEGER,\n",
    "    current_season INTEGER,\n",
    "    PRIMARY KEY(player_name, current_season, team_abbreviation, college)\n",
    ")\n",
    "\"\"\"\n",
    "con.sql(qr)"
   ]
  },
  {
   "cell_type": "code",
   "execution_count": 14,
   "metadata": {},
   "outputs": [
    {
     "data": {
      "text/html": [
       "<pre style=\"white-space:pre;overflow-x:auto;line-height:normal;font-family:Menlo,'DejaVu Sans Mono',consolas,'Courier New',monospace\">\n",
       "WITH yesterday AS <span style=\"font-weight: bold\">(</span>\n",
       "    SELECT * FROM players\n",
       "    WHERE <span style=\"color: #808000; text-decoration-color: #808000\">current_season</span>=<span style=\"color: #008080; text-decoration-color: #008080; font-weight: bold\">1995</span>\n",
       "<span style=\"font-weight: bold\">)</span>, today AS <span style=\"font-weight: bold\">(</span>\n",
       "    SELECT * FROM df\n",
       "    WHERE <span style=\"color: #808000; text-decoration-color: #808000\">season</span>=<span style=\"color: #008000; text-decoration-color: #008000\">'1996-97'</span>\n",
       "<span style=\"font-weight: bold\">)</span>\n",
       "SELECT\n",
       "    <span style=\"color: #800080; text-decoration-color: #800080; font-weight: bold\">COALESCE</span><span style=\"font-weight: bold\">(</span>t.player_name, y.player_name<span style=\"font-weight: bold\">)</span> AS player_name,\n",
       "    <span style=\"color: #800080; text-decoration-color: #800080; font-weight: bold\">COALESCE</span><span style=\"font-weight: bold\">(</span>t.age, y.age<span style=\"font-weight: bold\">)</span> AS age,\n",
       "    <span style=\"color: #800080; text-decoration-color: #800080; font-weight: bold\">COALESCE</span><span style=\"font-weight: bold\">(</span>t.team_abbreviation, y.team_abbreviation<span style=\"font-weight: bold\">)</span> AS team_abbreviation,\n",
       "    <span style=\"color: #800080; text-decoration-color: #800080; font-weight: bold\">COALESCE</span><span style=\"font-weight: bold\">(</span>t.college, y.college<span style=\"font-weight: bold\">)</span> AS college,\n",
       "    <span style=\"color: #800080; text-decoration-color: #800080; font-weight: bold\">COALESCE</span><span style=\"font-weight: bold\">(</span>t.player_height, y.player_height<span style=\"font-weight: bold\">)</span> AS player_height,\n",
       "    <span style=\"color: #800080; text-decoration-color: #800080; font-weight: bold\">COALESCE</span><span style=\"font-weight: bold\">(</span>t.player_weight, y.player_weight<span style=\"font-weight: bold\">)</span> AS player_weight,\n",
       "    <span style=\"color: #800080; text-decoration-color: #800080; font-weight: bold\">COALESCE</span><span style=\"font-weight: bold\">(</span>t.draft_year, y.draft_year<span style=\"font-weight: bold\">)</span> AS draft_year,\n",
       "    <span style=\"color: #800080; text-decoration-color: #800080; font-weight: bold\">COALESCE</span><span style=\"font-weight: bold\">(</span>t.draft_round, y.draft_round<span style=\"font-weight: bold\">)</span> AS draft_round,\n",
       "    <span style=\"color: #800080; text-decoration-color: #800080; font-weight: bold\">COALESCE</span><span style=\"font-weight: bold\">(</span>t.draft_number, y.draft_number<span style=\"font-weight: bold\">)</span> AS draft_number,\n",
       "    -- Update for season_stats\n",
       "    CASE WHEN y.season_stats IS NULL\n",
       "        THEN ARRAY<span style=\"font-weight: bold\">[</span><span style=\"color: #800080; text-decoration-color: #800080; font-weight: bold\">ROW</span><span style=\"font-weight: bold\">(</span>\n",
       "            t.season<span style=\"font-weight: bold\">[</span>:<span style=\"color: #008080; text-decoration-color: #008080; font-weight: bold\">4</span><span style=\"font-weight: bold\">]</span>::INTEGER,\n",
       "            t.gp,\n",
       "            t.pts,\n",
       "            t.reb,\n",
       "            t.ast\n",
       "        <span style=\"font-weight: bold\">)</span>::season_stats<span style=\"font-weight: bold\">]</span>\n",
       "    WHEN t.season IS NOT NULL\n",
       "        THEN y.season_stats || ARRAY<span style=\"font-weight: bold\">[</span><span style=\"color: #800080; text-decoration-color: #800080; font-weight: bold\">ROW</span><span style=\"font-weight: bold\">(</span>\n",
       "            t.season<span style=\"font-weight: bold\">[</span>:<span style=\"color: #008080; text-decoration-color: #008080; font-weight: bold\">4</span><span style=\"font-weight: bold\">]</span>::INTEGER,\n",
       "            t.gp,\n",
       "            t.pts,\n",
       "            t.reb,\n",
       "            t.ast\n",
       "        <span style=\"font-weight: bold\">)</span>::season_stats<span style=\"font-weight: bold\">]</span>\n",
       "    ELSE y.season_stats\n",
       "    END AS season_stats,\n",
       "    -- Scoring\n",
       "    CASE\n",
       "        WHEN t.season IS NOT NULL THEN\n",
       "            CASE\n",
       "                WHEN t.pts &gt; <span style=\"color: #008080; text-decoration-color: #008080; font-weight: bold\">20</span> THEN <span style=\"color: #008000; text-decoration-color: #008000\">'star'</span>\n",
       "                WHEN t.pts &gt; <span style=\"color: #008080; text-decoration-color: #008080; font-weight: bold\">15</span> THEN <span style=\"color: #008000; text-decoration-color: #008000\">'good'</span>\n",
       "                WHEN t.pts &gt; <span style=\"color: #008080; text-decoration-color: #008080; font-weight: bold\">10</span> THEN <span style=\"color: #008000; text-decoration-color: #008000\">'average'</span>\n",
       "                ELSE <span style=\"color: #008000; text-decoration-color: #008000\">'bad'</span>\n",
       "            END::scoring_class\n",
       "        ELSE y.scoring_class\n",
       "    END AS scoring_class,\n",
       "    -- Years active\n",
       "    CASE WHEN t.season IS NOT NULL THEN <span style=\"color: #008080; text-decoration-color: #008080; font-weight: bold\">0</span>\n",
       "        ELSE y.years_since_last_season + <span style=\"color: #008080; text-decoration-color: #008080; font-weight: bold\">1</span>\n",
       "    END AS years_since_last_season,\n",
       "    -- Update for current_season,\n",
       "    <span style=\"color: #800080; text-decoration-color: #800080; font-weight: bold\">COALESCE</span><span style=\"font-weight: bold\">(</span>t.season<span style=\"font-weight: bold\">[</span>:<span style=\"color: #008080; text-decoration-color: #008080; font-weight: bold\">4</span><span style=\"font-weight: bold\">]</span>::INTEGER, y.current_season+<span style=\"color: #008080; text-decoration-color: #008080; font-weight: bold\">1</span><span style=\"font-weight: bold\">)</span> AS current_season\n",
       "FROM today t\n",
       "FULL OUTER JOIN yesterday y\n",
       "ON t.player_name = y.player_name;\n",
       "\n",
       "</pre>\n"
      ],
      "text/plain": [
       "\n",
       "WITH yesterday AS \u001b[1m(\u001b[0m\n",
       "    SELECT * FROM players\n",
       "    WHERE \u001b[33mcurrent_season\u001b[0m=\u001b[1;36m1995\u001b[0m\n",
       "\u001b[1m)\u001b[0m, today AS \u001b[1m(\u001b[0m\n",
       "    SELECT * FROM df\n",
       "    WHERE \u001b[33mseason\u001b[0m=\u001b[32m'1996-97'\u001b[0m\n",
       "\u001b[1m)\u001b[0m\n",
       "SELECT\n",
       "    \u001b[1;35mCOALESCE\u001b[0m\u001b[1m(\u001b[0mt.player_name, y.player_name\u001b[1m)\u001b[0m AS player_name,\n",
       "    \u001b[1;35mCOALESCE\u001b[0m\u001b[1m(\u001b[0mt.age, y.age\u001b[1m)\u001b[0m AS age,\n",
       "    \u001b[1;35mCOALESCE\u001b[0m\u001b[1m(\u001b[0mt.team_abbreviation, y.team_abbreviation\u001b[1m)\u001b[0m AS team_abbreviation,\n",
       "    \u001b[1;35mCOALESCE\u001b[0m\u001b[1m(\u001b[0mt.college, y.college\u001b[1m)\u001b[0m AS college,\n",
       "    \u001b[1;35mCOALESCE\u001b[0m\u001b[1m(\u001b[0mt.player_height, y.player_height\u001b[1m)\u001b[0m AS player_height,\n",
       "    \u001b[1;35mCOALESCE\u001b[0m\u001b[1m(\u001b[0mt.player_weight, y.player_weight\u001b[1m)\u001b[0m AS player_weight,\n",
       "    \u001b[1;35mCOALESCE\u001b[0m\u001b[1m(\u001b[0mt.draft_year, y.draft_year\u001b[1m)\u001b[0m AS draft_year,\n",
       "    \u001b[1;35mCOALESCE\u001b[0m\u001b[1m(\u001b[0mt.draft_round, y.draft_round\u001b[1m)\u001b[0m AS draft_round,\n",
       "    \u001b[1;35mCOALESCE\u001b[0m\u001b[1m(\u001b[0mt.draft_number, y.draft_number\u001b[1m)\u001b[0m AS draft_number,\n",
       "    -- Update for season_stats\n",
       "    CASE WHEN y.season_stats IS NULL\n",
       "        THEN ARRAY\u001b[1m[\u001b[0m\u001b[1;35mROW\u001b[0m\u001b[1m(\u001b[0m\n",
       "            t.season\u001b[1m[\u001b[0m:\u001b[1;36m4\u001b[0m\u001b[1m]\u001b[0m::INTEGER,\n",
       "            t.gp,\n",
       "            t.pts,\n",
       "            t.reb,\n",
       "            t.ast\n",
       "        \u001b[1m)\u001b[0m::season_stats\u001b[1m]\u001b[0m\n",
       "    WHEN t.season IS NOT NULL\n",
       "        THEN y.season_stats || ARRAY\u001b[1m[\u001b[0m\u001b[1;35mROW\u001b[0m\u001b[1m(\u001b[0m\n",
       "            t.season\u001b[1m[\u001b[0m:\u001b[1;36m4\u001b[0m\u001b[1m]\u001b[0m::INTEGER,\n",
       "            t.gp,\n",
       "            t.pts,\n",
       "            t.reb,\n",
       "            t.ast\n",
       "        \u001b[1m)\u001b[0m::season_stats\u001b[1m]\u001b[0m\n",
       "    ELSE y.season_stats\n",
       "    END AS season_stats,\n",
       "    -- Scoring\n",
       "    CASE\n",
       "        WHEN t.season IS NOT NULL THEN\n",
       "            CASE\n",
       "                WHEN t.pts > \u001b[1;36m20\u001b[0m THEN \u001b[32m'star'\u001b[0m\n",
       "                WHEN t.pts > \u001b[1;36m15\u001b[0m THEN \u001b[32m'good'\u001b[0m\n",
       "                WHEN t.pts > \u001b[1;36m10\u001b[0m THEN \u001b[32m'average'\u001b[0m\n",
       "                ELSE \u001b[32m'bad'\u001b[0m\n",
       "            END::scoring_class\n",
       "        ELSE y.scoring_class\n",
       "    END AS scoring_class,\n",
       "    -- Years active\n",
       "    CASE WHEN t.season IS NOT NULL THEN \u001b[1;36m0\u001b[0m\n",
       "        ELSE y.years_since_last_season + \u001b[1;36m1\u001b[0m\n",
       "    END AS years_since_last_season,\n",
       "    -- Update for current_season,\n",
       "    \u001b[1;35mCOALESCE\u001b[0m\u001b[1m(\u001b[0mt.season\u001b[1m[\u001b[0m:\u001b[1;36m4\u001b[0m\u001b[1m]\u001b[0m::INTEGER, y.current_season+\u001b[1;36m1\u001b[0m\u001b[1m)\u001b[0m AS current_season\n",
       "FROM today t\n",
       "FULL OUTER JOIN yesterday y\n",
       "ON t.player_name = y.player_name;\n",
       "\n"
      ]
     },
     "metadata": {},
     "output_type": "display_data"
    },
    {
     "data": {
      "text/html": [
       "<pre style=\"white-space:pre;overflow-x:auto;line-height:normal;font-family:Menlo,'DejaVu Sans Mono',consolas,'Courier New',monospace\"></pre>\n"
      ],
      "text/plain": []
     },
     "metadata": {},
     "output_type": "display_data"
    },
    {
     "data": {
      "text/html": [
       "<div><style>\n",
       ".dataframe > thead > tr,\n",
       ".dataframe > tbody > tr {\n",
       "  text-align: right;\n",
       "  white-space: pre-wrap;\n",
       "}\n",
       "</style>\n",
       "<small>shape: (5, 13)</small><table border=\"1\" class=\"dataframe\"><thead><tr><th>player_name</th><th>age</th><th>team_abbreviation</th><th>college</th><th>player_height</th><th>player_weight</th><th>draft_year</th><th>draft_round</th><th>draft_number</th><th>season_stats</th><th>scoring_class</th><th>years_since_last_season</th><th>current_season</th></tr><tr><td>str</td><td>f64</td><td>str</td><td>str</td><td>f64</td><td>f64</td><td>str</td><td>str</td><td>str</td><td>list[struct[5]]</td><td>cat</td><td>i32</td><td>i32</td></tr></thead><tbody><tr><td>&quot;Anfernee Hardaway&quot;</td><td>25.0</td><td>&quot;ORL&quot;</td><td>&quot;Memphis&quot;</td><td>200.66</td><td>97.52228</td><td>&quot;1993&quot;</td><td>&quot;1&quot;</td><td>&quot;3&quot;</td><td>[{1996,59,20.5,4.5,5.6}]</td><td>&quot;star&quot;</td><td>0</td><td>1996</td></tr><tr><td>&quot;Clyde Drexler&quot;</td><td>35.0</td><td>&quot;HOU&quot;</td><td>&quot;Houston&quot;</td><td>200.66</td><td>100.697424</td><td>&quot;1983&quot;</td><td>&quot;1&quot;</td><td>&quot;14&quot;</td><td>[{1996,62,18.0,6.0,5.7}]</td><td>&quot;good&quot;</td><td>0</td><td>1996</td></tr><tr><td>&quot;Robert Pack&quot;</td><td>28.0</td><td>&quot;DAL&quot;</td><td>&quot;Southern California&quot;</td><td>187.96</td><td>86.18248</td><td>&quot;Undrafted&quot;</td><td>&quot;Undrafted&quot;</td><td>&quot;Undrafted&quot;</td><td>[{1996,54,14.3,2.7,8.4}]</td><td>&quot;average&quot;</td><td>0</td><td>1996</td></tr><tr><td>&quot;Stanley Roberts&quot;</td><td>27.0</td><td>&quot;LAC&quot;</td><td>&quot;Louisiana State&quot;</td><td>213.36</td><td>131.54168</td><td>&quot;1991&quot;</td><td>&quot;1&quot;</td><td>&quot;23&quot;</td><td>[{1996,18,9.5,5.1,0.5}]</td><td>&quot;bad&quot;</td><td>0</td><td>1996</td></tr><tr><td>&quot;Mike Brown&quot;</td><td>33.0</td><td>&quot;PHX&quot;</td><td>&quot;George Washington&quot;</td><td>208.28</td><td>117.93392</td><td>&quot;1985&quot;</td><td>&quot;3&quot;</td><td>&quot;69&quot;</td><td>[{1996,6,2.7,4.2,0.8}]</td><td>&quot;bad&quot;</td><td>0</td><td>1996</td></tr></tbody></table></div>"
      ],
      "text/plain": [
       "\n",
       "shape: \u001b[1m(\u001b[0m\u001b[1;36m5\u001b[0m, \u001b[1;36m13\u001b[0m\u001b[1m)\u001b[0m\n",
       "┌────────────┬──────┬────────────┬────────────┬───┬────────────┬───────────┬───────────┬───────────┐\n",
       "│ player_nam ┆ age  ┆ team_abbre ┆ college    ┆ … ┆ season_sta ┆ scoring_c ┆ years_sin ┆ current_s │\n",
       "│ e          ┆ ---  ┆ viation    ┆ ---        ┆   ┆ ts         ┆ lass      ┆ ce_last_s ┆ eason     │\n",
       "│ ---        ┆ f64  ┆ ---        ┆ str        ┆   ┆ ---        ┆ ---       ┆ eason     ┆ ---       │\n",
       "│ str        ┆      ┆ str        ┆            ┆   ┆ list\u001b[1m[\u001b[0mstruc ┆ cat       ┆ ---       ┆ i32       │\n",
       "│            ┆      ┆            ┆            ┆   ┆ t\u001b[1m[\u001b[0m\u001b[1;36m5\u001b[0m\u001b[1m]\u001b[0m\u001b[1m]\u001b[0m      ┆           ┆ i32       ┆           │\n",
       "╞════════════╪══════╪════════════╪════════════╪═══╪════════════╪═══════════╪═══════════╪═══════════╡\n",
       "│ Anfernee   ┆ \u001b[1;36m25.0\u001b[0m ┆ ORL        ┆ Memphis    ┆ … ┆ \u001b[1m[\u001b[0m\u001b[1m{\u001b[0m\u001b[1;36m1996\u001b[0m,\u001b[1;36m59\u001b[0m, ┆ star      ┆ \u001b[1;36m0\u001b[0m         ┆ \u001b[1;36m1996\u001b[0m      │\n",
       "│ Hardaway   ┆      ┆            ┆            ┆   ┆ \u001b[1;36m20.5\u001b[0m,\u001b[1;36m4.5\u001b[0m,\u001b[1;36m5\u001b[0m ┆           ┆           ┆           │\n",
       "│            ┆      ┆            ┆            ┆   ┆ .\u001b[1;36m6\u001b[0m\u001b[1m}\u001b[0m\u001b[1m]\u001b[0m       ┆           ┆           ┆           │\n",
       "│ Clyde      ┆ \u001b[1;36m35.0\u001b[0m ┆ HOU        ┆ Houston    ┆ … ┆ \u001b[1m[\u001b[0m\u001b[1m{\u001b[0m\u001b[1;36m1996\u001b[0m,\u001b[1;36m62\u001b[0m, ┆ good      ┆ \u001b[1;36m0\u001b[0m         ┆ \u001b[1;36m1996\u001b[0m      │\n",
       "│ Drexler    ┆      ┆            ┆            ┆   ┆ \u001b[1;36m18.0\u001b[0m,\u001b[1;36m6.0\u001b[0m,\u001b[1;36m5\u001b[0m ┆           ┆           ┆           │\n",
       "│            ┆      ┆            ┆            ┆   ┆ .\u001b[1;36m7\u001b[0m\u001b[1m}\u001b[0m\u001b[1m]\u001b[0m       ┆           ┆           ┆           │\n",
       "│ Robert     ┆ \u001b[1;36m28.0\u001b[0m ┆ DAL        ┆ Southern   ┆ … ┆ \u001b[1m[\u001b[0m\u001b[1m{\u001b[0m\u001b[1;36m1996\u001b[0m,\u001b[1;36m54\u001b[0m, ┆ average   ┆ \u001b[1;36m0\u001b[0m         ┆ \u001b[1;36m1996\u001b[0m      │\n",
       "│ Pack       ┆      ┆            ┆ California ┆   ┆ \u001b[1;36m14.3\u001b[0m,\u001b[1;36m2.7\u001b[0m,\u001b[1;36m8\u001b[0m ┆           ┆           ┆           │\n",
       "│            ┆      ┆            ┆            ┆   ┆ .\u001b[1;36m4\u001b[0m\u001b[1m}\u001b[0m\u001b[1m]\u001b[0m       ┆           ┆           ┆           │\n",
       "│ Stanley    ┆ \u001b[1;36m27.0\u001b[0m ┆ LAC        ┆ Louisiana  ┆ … ┆ \u001b[1m[\u001b[0m\u001b[1m{\u001b[0m\u001b[1;36m1996\u001b[0m,\u001b[1;36m18\u001b[0m, ┆ bad       ┆ \u001b[1;36m0\u001b[0m         ┆ \u001b[1;36m1996\u001b[0m      │\n",
       "│ Roberts    ┆      ┆            ┆ State      ┆   ┆ \u001b[1;36m9.5\u001b[0m,\u001b[1;36m5.1\u001b[0m,\u001b[1;36m0\u001b[0m. ┆           ┆           ┆           │\n",
       "│            ┆      ┆            ┆            ┆   ┆ \u001b[1;36m5\u001b[0m\u001b[1m}\u001b[0m\u001b[1m]\u001b[0m        ┆           ┆           ┆           │\n",
       "│ Mike Brown ┆ \u001b[1;36m33.0\u001b[0m ┆ PHX        ┆ George     ┆ … ┆ \u001b[1m[\u001b[0m\u001b[1m{\u001b[0m\u001b[1;36m1996\u001b[0m,\u001b[1;36m6\u001b[0m,\u001b[1;36m2\u001b[0m ┆ bad       ┆ \u001b[1;36m0\u001b[0m         ┆ \u001b[1;36m1996\u001b[0m      │\n",
       "│            ┆      ┆            ┆ Washington ┆   ┆ .\u001b[1;36m7\u001b[0m,\u001b[1;36m4.2\u001b[0m,\u001b[1;36m0.8\u001b[0m ┆           ┆           ┆           │\n",
       "│            ┆      ┆            ┆            ┆   ┆ \u001b[1m}\u001b[0m\u001b[1m]\u001b[0m         ┆           ┆           ┆           │\n",
       "└────────────┴──────┴────────────┴────────────┴───┴────────────┴───────────┴───────────┴───────────┘"
      ]
     },
     "metadata": {},
     "output_type": "display_data"
    }
   ],
   "source": [
    "qr = \"\"\"\n",
    "WITH yesterday AS (\n",
    "    SELECT * FROM players\n",
    "    WHERE current_season={current_season}\n",
    "), today AS (\n",
    "    SELECT * FROM df\n",
    "    WHERE season='{season}'\n",
    ")\n",
    "SELECT\n",
    "    COALESCE(t.player_name, y.player_name) AS player_name,\n",
    "    COALESCE(t.age, y.age) AS age,\n",
    "    COALESCE(t.team_abbreviation, y.team_abbreviation) AS team_abbreviation,\n",
    "    COALESCE(t.college, y.college) AS college,\n",
    "    COALESCE(t.player_height, y.player_height) AS player_height,\n",
    "    COALESCE(t.player_weight, y.player_weight) AS player_weight,\n",
    "    COALESCE(t.draft_year, y.draft_year) AS draft_year,\n",
    "    COALESCE(t.draft_round, y.draft_round) AS draft_round,\n",
    "    COALESCE(t.draft_number, y.draft_number) AS draft_number,\n",
    "    -- Update for season_stats\n",
    "    CASE WHEN y.season_stats IS NULL\n",
    "        THEN ARRAY[ROW(\n",
    "            t.season[:4]::INTEGER,\n",
    "            t.gp,\n",
    "            t.pts,\n",
    "            t.reb,\n",
    "            t.ast\n",
    "        )::season_stats]\n",
    "    WHEN t.season IS NOT NULL\n",
    "        THEN y.season_stats || ARRAY[ROW(\n",
    "            t.season[:4]::INTEGER,\n",
    "            t.gp,\n",
    "            t.pts,\n",
    "            t.reb,\n",
    "            t.ast\n",
    "        )::season_stats]\n",
    "    ELSE y.season_stats\n",
    "    END AS season_stats,\n",
    "    -- Scoring\n",
    "    CASE\n",
    "        WHEN t.season IS NOT NULL THEN\n",
    "            CASE\n",
    "                WHEN t.pts > 20 THEN 'star'\n",
    "                WHEN t.pts > 15 THEN 'good'\n",
    "                WHEN t.pts > 10 THEN 'average'\n",
    "                ELSE 'bad'\n",
    "            END::scoring_class\n",
    "        ELSE y.scoring_class\n",
    "    END AS scoring_class,\n",
    "    -- Years active\n",
    "    CASE WHEN t.season IS NOT NULL THEN 0\n",
    "        ELSE y.years_since_last_season + 1\n",
    "    END AS years_since_last_season,\n",
    "    -- Update for current_season,\n",
    "    COALESCE(t.season[:4]::INTEGER, y.current_season+1) AS current_season\n",
    "FROM today t\n",
    "FULL OUTER JOIN yesterday y\n",
    "ON t.player_name = y.player_name;\n",
    "\"\"\"\n",
    "query = qr.format(current_season=1995, season='1996-97')\n",
    "print(query)\n",
    "dfr = con.sql(query).pl()\n",
    "display(dfr.head())"
   ]
  },
  {
   "cell_type": "code",
   "execution_count": 15,
   "metadata": {},
   "outputs": [
    {
     "data": {
      "text/html": [
       "<pre style=\"white-space:pre;overflow-x:auto;line-height:normal;font-family:Menlo,'DejaVu Sans Mono',consolas,'Courier New',monospace\">\n",
       "WITH yesterday AS <span style=\"font-weight: bold\">(</span>\n",
       "    SELECT * FROM players\n",
       "    WHERE <span style=\"color: #808000; text-decoration-color: #808000\">current_season</span>=<span style=\"color: #008080; text-decoration-color: #008080; font-weight: bold\">1996</span>\n",
       "<span style=\"font-weight: bold\">)</span>, today AS <span style=\"font-weight: bold\">(</span>\n",
       "    SELECT * FROM df\n",
       "    WHERE <span style=\"color: #808000; text-decoration-color: #808000\">season</span>=<span style=\"color: #008000; text-decoration-color: #008000\">'1997-98'</span>\n",
       "<span style=\"font-weight: bold\">)</span>\n",
       "SELECT\n",
       "    <span style=\"color: #800080; text-decoration-color: #800080; font-weight: bold\">COALESCE</span><span style=\"font-weight: bold\">(</span>t.player_name, y.player_name<span style=\"font-weight: bold\">)</span> AS player_name,\n",
       "    <span style=\"color: #800080; text-decoration-color: #800080; font-weight: bold\">COALESCE</span><span style=\"font-weight: bold\">(</span>t.age, y.age<span style=\"font-weight: bold\">)</span> AS age,\n",
       "    <span style=\"color: #800080; text-decoration-color: #800080; font-weight: bold\">COALESCE</span><span style=\"font-weight: bold\">(</span>t.team_abbreviation, y.team_abbreviation<span style=\"font-weight: bold\">)</span> AS team_abbreviation,\n",
       "    <span style=\"color: #800080; text-decoration-color: #800080; font-weight: bold\">COALESCE</span><span style=\"font-weight: bold\">(</span>t.college, y.college<span style=\"font-weight: bold\">)</span> AS college,\n",
       "    <span style=\"color: #800080; text-decoration-color: #800080; font-weight: bold\">COALESCE</span><span style=\"font-weight: bold\">(</span>t.player_height, y.player_height<span style=\"font-weight: bold\">)</span> AS player_height,\n",
       "    <span style=\"color: #800080; text-decoration-color: #800080; font-weight: bold\">COALESCE</span><span style=\"font-weight: bold\">(</span>t.player_weight, y.player_weight<span style=\"font-weight: bold\">)</span> AS player_weight,\n",
       "    <span style=\"color: #800080; text-decoration-color: #800080; font-weight: bold\">COALESCE</span><span style=\"font-weight: bold\">(</span>t.draft_year, y.draft_year<span style=\"font-weight: bold\">)</span> AS draft_year,\n",
       "    <span style=\"color: #800080; text-decoration-color: #800080; font-weight: bold\">COALESCE</span><span style=\"font-weight: bold\">(</span>t.draft_round, y.draft_round<span style=\"font-weight: bold\">)</span> AS draft_round,\n",
       "    <span style=\"color: #800080; text-decoration-color: #800080; font-weight: bold\">COALESCE</span><span style=\"font-weight: bold\">(</span>t.draft_number, y.draft_number<span style=\"font-weight: bold\">)</span> AS draft_number,\n",
       "    -- Update for season_stats\n",
       "    CASE WHEN y.season_stats IS NULL\n",
       "        THEN ARRAY<span style=\"font-weight: bold\">[</span><span style=\"color: #800080; text-decoration-color: #800080; font-weight: bold\">ROW</span><span style=\"font-weight: bold\">(</span>\n",
       "            t.season<span style=\"font-weight: bold\">[</span>:<span style=\"color: #008080; text-decoration-color: #008080; font-weight: bold\">4</span><span style=\"font-weight: bold\">]</span>::INTEGER,\n",
       "            t.gp,\n",
       "            t.pts,\n",
       "            t.reb,\n",
       "            t.ast\n",
       "        <span style=\"font-weight: bold\">)</span>::season_stats<span style=\"font-weight: bold\">]</span>\n",
       "    WHEN t.season IS NOT NULL\n",
       "        THEN y.season_stats || ARRAY<span style=\"font-weight: bold\">[</span><span style=\"color: #800080; text-decoration-color: #800080; font-weight: bold\">ROW</span><span style=\"font-weight: bold\">(</span>\n",
       "            t.season<span style=\"font-weight: bold\">[</span>:<span style=\"color: #008080; text-decoration-color: #008080; font-weight: bold\">4</span><span style=\"font-weight: bold\">]</span>::INTEGER,\n",
       "            t.gp,\n",
       "            t.pts,\n",
       "            t.reb,\n",
       "            t.ast\n",
       "        <span style=\"font-weight: bold\">)</span>::season_stats<span style=\"font-weight: bold\">]</span>\n",
       "    ELSE y.season_stats\n",
       "    END AS season_stats,\n",
       "    -- Scoring\n",
       "    CASE\n",
       "        WHEN t.season IS NOT NULL THEN\n",
       "            CASE\n",
       "                WHEN t.pts &gt; <span style=\"color: #008080; text-decoration-color: #008080; font-weight: bold\">20</span> THEN <span style=\"color: #008000; text-decoration-color: #008000\">'star'</span>\n",
       "                WHEN t.pts &gt; <span style=\"color: #008080; text-decoration-color: #008080; font-weight: bold\">15</span> THEN <span style=\"color: #008000; text-decoration-color: #008000\">'good'</span>\n",
       "                WHEN t.pts &gt; <span style=\"color: #008080; text-decoration-color: #008080; font-weight: bold\">10</span> THEN <span style=\"color: #008000; text-decoration-color: #008000\">'average'</span>\n",
       "                ELSE <span style=\"color: #008000; text-decoration-color: #008000\">'bad'</span>\n",
       "            END::scoring_class\n",
       "        ELSE y.scoring_class\n",
       "    END AS scoring_class,\n",
       "    -- Years active\n",
       "    CASE WHEN t.season IS NOT NULL THEN <span style=\"color: #008080; text-decoration-color: #008080; font-weight: bold\">0</span>\n",
       "        ELSE y.years_since_last_season + <span style=\"color: #008080; text-decoration-color: #008080; font-weight: bold\">1</span>\n",
       "    END AS years_since_last_season,\n",
       "    -- Update for current_season,\n",
       "    <span style=\"color: #800080; text-decoration-color: #800080; font-weight: bold\">COALESCE</span><span style=\"font-weight: bold\">(</span>t.season<span style=\"font-weight: bold\">[</span>:<span style=\"color: #008080; text-decoration-color: #008080; font-weight: bold\">4</span><span style=\"font-weight: bold\">]</span>::INTEGER, y.current_season+<span style=\"color: #008080; text-decoration-color: #008080; font-weight: bold\">1</span><span style=\"font-weight: bold\">)</span> AS current_season\n",
       "FROM today t\n",
       "FULL OUTER JOIN yesterday y\n",
       "ON t.player_name = y.player_name;\n",
       "\n",
       "</pre>\n"
      ],
      "text/plain": [
       "\n",
       "WITH yesterday AS \u001b[1m(\u001b[0m\n",
       "    SELECT * FROM players\n",
       "    WHERE \u001b[33mcurrent_season\u001b[0m=\u001b[1;36m1996\u001b[0m\n",
       "\u001b[1m)\u001b[0m, today AS \u001b[1m(\u001b[0m\n",
       "    SELECT * FROM df\n",
       "    WHERE \u001b[33mseason\u001b[0m=\u001b[32m'1997-98'\u001b[0m\n",
       "\u001b[1m)\u001b[0m\n",
       "SELECT\n",
       "    \u001b[1;35mCOALESCE\u001b[0m\u001b[1m(\u001b[0mt.player_name, y.player_name\u001b[1m)\u001b[0m AS player_name,\n",
       "    \u001b[1;35mCOALESCE\u001b[0m\u001b[1m(\u001b[0mt.age, y.age\u001b[1m)\u001b[0m AS age,\n",
       "    \u001b[1;35mCOALESCE\u001b[0m\u001b[1m(\u001b[0mt.team_abbreviation, y.team_abbreviation\u001b[1m)\u001b[0m AS team_abbreviation,\n",
       "    \u001b[1;35mCOALESCE\u001b[0m\u001b[1m(\u001b[0mt.college, y.college\u001b[1m)\u001b[0m AS college,\n",
       "    \u001b[1;35mCOALESCE\u001b[0m\u001b[1m(\u001b[0mt.player_height, y.player_height\u001b[1m)\u001b[0m AS player_height,\n",
       "    \u001b[1;35mCOALESCE\u001b[0m\u001b[1m(\u001b[0mt.player_weight, y.player_weight\u001b[1m)\u001b[0m AS player_weight,\n",
       "    \u001b[1;35mCOALESCE\u001b[0m\u001b[1m(\u001b[0mt.draft_year, y.draft_year\u001b[1m)\u001b[0m AS draft_year,\n",
       "    \u001b[1;35mCOALESCE\u001b[0m\u001b[1m(\u001b[0mt.draft_round, y.draft_round\u001b[1m)\u001b[0m AS draft_round,\n",
       "    \u001b[1;35mCOALESCE\u001b[0m\u001b[1m(\u001b[0mt.draft_number, y.draft_number\u001b[1m)\u001b[0m AS draft_number,\n",
       "    -- Update for season_stats\n",
       "    CASE WHEN y.season_stats IS NULL\n",
       "        THEN ARRAY\u001b[1m[\u001b[0m\u001b[1;35mROW\u001b[0m\u001b[1m(\u001b[0m\n",
       "            t.season\u001b[1m[\u001b[0m:\u001b[1;36m4\u001b[0m\u001b[1m]\u001b[0m::INTEGER,\n",
       "            t.gp,\n",
       "            t.pts,\n",
       "            t.reb,\n",
       "            t.ast\n",
       "        \u001b[1m)\u001b[0m::season_stats\u001b[1m]\u001b[0m\n",
       "    WHEN t.season IS NOT NULL\n",
       "        THEN y.season_stats || ARRAY\u001b[1m[\u001b[0m\u001b[1;35mROW\u001b[0m\u001b[1m(\u001b[0m\n",
       "            t.season\u001b[1m[\u001b[0m:\u001b[1;36m4\u001b[0m\u001b[1m]\u001b[0m::INTEGER,\n",
       "            t.gp,\n",
       "            t.pts,\n",
       "            t.reb,\n",
       "            t.ast\n",
       "        \u001b[1m)\u001b[0m::season_stats\u001b[1m]\u001b[0m\n",
       "    ELSE y.season_stats\n",
       "    END AS season_stats,\n",
       "    -- Scoring\n",
       "    CASE\n",
       "        WHEN t.season IS NOT NULL THEN\n",
       "            CASE\n",
       "                WHEN t.pts > \u001b[1;36m20\u001b[0m THEN \u001b[32m'star'\u001b[0m\n",
       "                WHEN t.pts > \u001b[1;36m15\u001b[0m THEN \u001b[32m'good'\u001b[0m\n",
       "                WHEN t.pts > \u001b[1;36m10\u001b[0m THEN \u001b[32m'average'\u001b[0m\n",
       "                ELSE \u001b[32m'bad'\u001b[0m\n",
       "            END::scoring_class\n",
       "        ELSE y.scoring_class\n",
       "    END AS scoring_class,\n",
       "    -- Years active\n",
       "    CASE WHEN t.season IS NOT NULL THEN \u001b[1;36m0\u001b[0m\n",
       "        ELSE y.years_since_last_season + \u001b[1;36m1\u001b[0m\n",
       "    END AS years_since_last_season,\n",
       "    -- Update for current_season,\n",
       "    \u001b[1;35mCOALESCE\u001b[0m\u001b[1m(\u001b[0mt.season\u001b[1m[\u001b[0m:\u001b[1;36m4\u001b[0m\u001b[1m]\u001b[0m::INTEGER, y.current_season+\u001b[1;36m1\u001b[0m\u001b[1m)\u001b[0m AS current_season\n",
       "FROM today t\n",
       "FULL OUTER JOIN yesterday y\n",
       "ON t.player_name = y.player_name;\n",
       "\n"
      ]
     },
     "metadata": {},
     "output_type": "display_data"
    },
    {
     "data": {
      "text/html": [
       "<pre style=\"white-space:pre;overflow-x:auto;line-height:normal;font-family:Menlo,'DejaVu Sans Mono',consolas,'Courier New',monospace\"></pre>\n"
      ],
      "text/plain": []
     },
     "metadata": {},
     "output_type": "display_data"
    },
    {
     "data": {
      "text/html": [
       "<div><style>\n",
       ".dataframe > thead > tr,\n",
       ".dataframe > tbody > tr {\n",
       "  text-align: right;\n",
       "  white-space: pre-wrap;\n",
       "}\n",
       "</style>\n",
       "<small>shape: (5, 13)</small><table border=\"1\" class=\"dataframe\"><thead><tr><th>player_name</th><th>age</th><th>team_abbreviation</th><th>college</th><th>player_height</th><th>player_weight</th><th>draft_year</th><th>draft_round</th><th>draft_number</th><th>season_stats</th><th>scoring_class</th><th>years_since_last_season</th><th>current_season</th></tr><tr><td>str</td><td>f64</td><td>str</td><td>str</td><td>f64</td><td>f64</td><td>str</td><td>str</td><td>str</td><td>list[struct[5]]</td><td>cat</td><td>i32</td><td>i32</td></tr></thead><tbody><tr><td>&quot;Stephon Marbury&quot;</td><td>21.0</td><td>&quot;MIN&quot;</td><td>&quot;Georgia Tech&quot;</td><td>187.96</td><td>81.64656</td><td>&quot;1996&quot;</td><td>&quot;1&quot;</td><td>&quot;4&quot;</td><td>[{1997,82,17.700001,2.8,8.6}]</td><td>&quot;good&quot;</td><td>0</td><td>1997</td></tr><tr><td>&quot;Dee Brown&quot;</td><td>29.0</td><td>&quot;TOR&quot;</td><td>&quot;Jacksonville&quot;</td><td>187.96</td><td>83.91452</td><td>&quot;1990&quot;</td><td>&quot;1&quot;</td><td>&quot;19&quot;</td><td>[{1997,72,9.1,2.1,2.1}]</td><td>&quot;bad&quot;</td><td>0</td><td>1997</td></tr><tr><td>&quot;Rex Chapman&quot;</td><td>30.0</td><td>&quot;PHX&quot;</td><td>&quot;Kentucky&quot;</td><td>193.04</td><td>88.45044</td><td>&quot;1988&quot;</td><td>&quot;1&quot;</td><td>&quot;8&quot;</td><td>[{1997,68,15.9,2.5,3.0}]</td><td>&quot;good&quot;</td><td>0</td><td>1997</td></tr><tr><td>&quot;Robert Pack&quot;</td><td>29.0</td><td>&quot;DAL&quot;</td><td>&quot;Southern California&quot;</td><td>187.96</td><td>86.18248</td><td>&quot;Undrafted&quot;</td><td>&quot;Undrafted&quot;</td><td>&quot;Undrafted&quot;</td><td>[{1997,12,7.8,2.8,3.5}]</td><td>&quot;bad&quot;</td><td>0</td><td>1997</td></tr><tr><td>&quot;Billy Owens&quot;</td><td>29.0</td><td>&quot;SAC&quot;</td><td>&quot;Syracuse&quot;</td><td>205.74</td><td>102.0582</td><td>&quot;1991&quot;</td><td>&quot;1&quot;</td><td>&quot;3&quot;</td><td>[{1997,78,10.5,7.5,2.8}]</td><td>&quot;average&quot;</td><td>0</td><td>1997</td></tr></tbody></table></div>"
      ],
      "text/plain": [
       "\n",
       "shape: \u001b[1m(\u001b[0m\u001b[1;36m5\u001b[0m, \u001b[1;36m13\u001b[0m\u001b[1m)\u001b[0m\n",
       "┌────────────┬──────┬────────────┬────────────┬───┬────────────┬───────────┬───────────┬───────────┐\n",
       "│ player_nam ┆ age  ┆ team_abbre ┆ college    ┆ … ┆ season_sta ┆ scoring_c ┆ years_sin ┆ current_s │\n",
       "│ e          ┆ ---  ┆ viation    ┆ ---        ┆   ┆ ts         ┆ lass      ┆ ce_last_s ┆ eason     │\n",
       "│ ---        ┆ f64  ┆ ---        ┆ str        ┆   ┆ ---        ┆ ---       ┆ eason     ┆ ---       │\n",
       "│ str        ┆      ┆ str        ┆            ┆   ┆ list\u001b[1m[\u001b[0mstruc ┆ cat       ┆ ---       ┆ i32       │\n",
       "│            ┆      ┆            ┆            ┆   ┆ t\u001b[1m[\u001b[0m\u001b[1;36m5\u001b[0m\u001b[1m]\u001b[0m\u001b[1m]\u001b[0m      ┆           ┆ i32       ┆           │\n",
       "╞════════════╪══════╪════════════╪════════════╪═══╪════════════╪═══════════╪═══════════╪═══════════╡\n",
       "│ Stephon    ┆ \u001b[1;36m21.0\u001b[0m ┆ MIN        ┆ Georgia    ┆ … ┆ \u001b[1m[\u001b[0m\u001b[1m{\u001b[0m\u001b[1;36m1997\u001b[0m,\u001b[1;36m82\u001b[0m, ┆ good      ┆ \u001b[1;36m0\u001b[0m         ┆ \u001b[1;36m1997\u001b[0m      │\n",
       "│ Marbury    ┆      ┆            ┆ Tech       ┆   ┆ \u001b[1;36m17.700001\u001b[0m, ┆           ┆           ┆           │\n",
       "│            ┆      ┆            ┆            ┆   ┆ \u001b[1;36m2.8\u001b[0m,\u001b[1;36m8.6\u001b[0m\u001b[1m}\u001b[0m\u001b[1m]\u001b[0m  ┆           ┆           ┆           │\n",
       "│ Dee Brown  ┆ \u001b[1;36m29.0\u001b[0m ┆ TOR        ┆ Jacksonvil ┆ … ┆ \u001b[1m[\u001b[0m\u001b[1m{\u001b[0m\u001b[1;36m1997\u001b[0m,\u001b[1;36m72\u001b[0m, ┆ bad       ┆ \u001b[1;36m0\u001b[0m         ┆ \u001b[1;36m1997\u001b[0m      │\n",
       "│            ┆      ┆            ┆ le         ┆   ┆ \u001b[1;36m9.1\u001b[0m,\u001b[1;36m2.1\u001b[0m,\u001b[1;36m2\u001b[0m. ┆           ┆           ┆           │\n",
       "│            ┆      ┆            ┆            ┆   ┆ \u001b[1;36m1\u001b[0m\u001b[1m}\u001b[0m\u001b[1m]\u001b[0m        ┆           ┆           ┆           │\n",
       "│ Rex        ┆ \u001b[1;36m30.0\u001b[0m ┆ PHX        ┆ Kentucky   ┆ … ┆ \u001b[1m[\u001b[0m\u001b[1m{\u001b[0m\u001b[1;36m1997\u001b[0m,\u001b[1;36m68\u001b[0m, ┆ good      ┆ \u001b[1;36m0\u001b[0m         ┆ \u001b[1;36m1997\u001b[0m      │\n",
       "│ Chapman    ┆      ┆            ┆            ┆   ┆ \u001b[1;36m15.9\u001b[0m,\u001b[1;36m2.5\u001b[0m,\u001b[1;36m3\u001b[0m ┆           ┆           ┆           │\n",
       "│            ┆      ┆            ┆            ┆   ┆ .\u001b[1;36m0\u001b[0m\u001b[1m}\u001b[0m\u001b[1m]\u001b[0m       ┆           ┆           ┆           │\n",
       "│ Robert     ┆ \u001b[1;36m29.0\u001b[0m ┆ DAL        ┆ Southern   ┆ … ┆ \u001b[1m[\u001b[0m\u001b[1m{\u001b[0m\u001b[1;36m1997\u001b[0m,\u001b[1;36m12\u001b[0m, ┆ bad       ┆ \u001b[1;36m0\u001b[0m         ┆ \u001b[1;36m1997\u001b[0m      │\n",
       "│ Pack       ┆      ┆            ┆ California ┆   ┆ \u001b[1;36m7.8\u001b[0m,\u001b[1;36m2.8\u001b[0m,\u001b[1;36m3\u001b[0m. ┆           ┆           ┆           │\n",
       "│            ┆      ┆            ┆            ┆   ┆ \u001b[1;36m5\u001b[0m\u001b[1m}\u001b[0m\u001b[1m]\u001b[0m        ┆           ┆           ┆           │\n",
       "│ Billy      ┆ \u001b[1;36m29.0\u001b[0m ┆ SAC        ┆ Syracuse   ┆ … ┆ \u001b[1m[\u001b[0m\u001b[1m{\u001b[0m\u001b[1;36m1997\u001b[0m,\u001b[1;36m78\u001b[0m, ┆ average   ┆ \u001b[1;36m0\u001b[0m         ┆ \u001b[1;36m1997\u001b[0m      │\n",
       "│ Owens      ┆      ┆            ┆            ┆   ┆ \u001b[1;36m10.5\u001b[0m,\u001b[1;36m7.5\u001b[0m,\u001b[1;36m2\u001b[0m ┆           ┆           ┆           │\n",
       "│            ┆      ┆            ┆            ┆   ┆ .\u001b[1;36m8\u001b[0m\u001b[1m}\u001b[0m\u001b[1m]\u001b[0m       ┆           ┆           ┆           │\n",
       "└────────────┴──────┴────────────┴────────────┴───┴────────────┴───────────┴───────────┴───────────┘"
      ]
     },
     "metadata": {},
     "output_type": "display_data"
    }
   ],
   "source": [
    "query = qr.format(current_season=1996, season='1997-98')\n",
    "print(query)\n",
    "dfr = con.sql(query).pl()\n",
    "display(dfr.head())"
   ]
  },
  {
   "cell_type": "code",
   "execution_count": 16,
   "metadata": {},
   "outputs": [],
   "source": [
    "for year in range(1998,2022):\n",
    "    season = '-'.join([str(year+1),str(year+2)[2:]])\n",
    "    query = qr.format(current_season=year, season=season)\n",
    "    # print(query)\n",
    "    query_insert = \"\"\"INSERT INTO players\"\"\" + query\n",
    "    # print(f\"Inserted: {season}\")\n",
    "    con.sql(query_insert)"
   ]
  },
  {
   "cell_type": "code",
   "execution_count": 17,
   "metadata": {},
   "outputs": [
    {
     "data": {
      "text/html": [
       "<pre style=\"white-space:pre;overflow-x:auto;line-height:normal;font-family:Menlo,'DejaVu Sans Mono',consolas,'Courier New',monospace\">shape: <span style=\"font-weight: bold\">(</span><span style=\"color: #008080; text-decoration-color: #008080; font-weight: bold\">5</span>, <span style=\"color: #008080; text-decoration-color: #008080; font-weight: bold\">2</span><span style=\"font-weight: bold\">)</span>\n",
       "┌──────────────┬────────────────┐\n",
       "│ <span style=\"color: #800080; text-decoration-color: #800080; font-weight: bold\">count_star</span><span style=\"font-weight: bold\">()</span> ┆ player_name    │\n",
       "│ ---          ┆ ---            │\n",
       "│ i64          ┆ str            │\n",
       "╞══════════════╪════════════════╡\n",
       "│ <span style=\"color: #008080; text-decoration-color: #008080; font-weight: bold\">24</span>           ┆ Troy Hudson    │\n",
       "│ <span style=\"color: #008080; text-decoration-color: #008080; font-weight: bold\">24</span>           ┆ Harold Jamison │\n",
       "│ <span style=\"color: #008080; text-decoration-color: #008080; font-weight: bold\">24</span>           ┆ Joe Kleine     │\n",
       "│ <span style=\"color: #008080; text-decoration-color: #008080; font-weight: bold\">24</span>           ┆ Bimbo Coles    │\n",
       "│ <span style=\"color: #008080; text-decoration-color: #008080; font-weight: bold\">24</span>           ┆ Tracy Murray   │\n",
       "└──────────────┴────────────────┘\n",
       "</pre>\n"
      ],
      "text/plain": [
       "shape: \u001b[1m(\u001b[0m\u001b[1;36m5\u001b[0m, \u001b[1;36m2\u001b[0m\u001b[1m)\u001b[0m\n",
       "┌──────────────┬────────────────┐\n",
       "│ \u001b[1;35mcount_star\u001b[0m\u001b[1m(\u001b[0m\u001b[1m)\u001b[0m ┆ player_name    │\n",
       "│ ---          ┆ ---            │\n",
       "│ i64          ┆ str            │\n",
       "╞══════════════╪════════════════╡\n",
       "│ \u001b[1;36m24\u001b[0m           ┆ Troy Hudson    │\n",
       "│ \u001b[1;36m24\u001b[0m           ┆ Harold Jamison │\n",
       "│ \u001b[1;36m24\u001b[0m           ┆ Joe Kleine     │\n",
       "│ \u001b[1;36m24\u001b[0m           ┆ Bimbo Coles    │\n",
       "│ \u001b[1;36m24\u001b[0m           ┆ Tracy Murray   │\n",
       "└──────────────┴────────────────┘\n"
      ]
     },
     "metadata": {},
     "output_type": "display_data"
    }
   ],
   "source": [
    "qr=\"\"\"\n",
    "SELECT COUNT(*), player_name FROM players\n",
    "GROUP BY player_name\n",
    "HAVING COUNT(*)>1\n",
    "LIMIT 5;\n",
    "\"\"\"\n",
    "print(\n",
    "    con.sql(qr).pl()\n",
    ")"
   ]
  },
  {
   "cell_type": "code",
   "execution_count": 18,
   "metadata": {},
   "outputs": [
    {
     "data": {
      "text/html": [
       "<pre style=\"white-space:pre;overflow-x:auto;line-height:normal;font-family:Menlo,'DejaVu Sans Mono',consolas,'Courier New',monospace\">shape: <span style=\"font-weight: bold\">(</span><span style=\"color: #008080; text-decoration-color: #008080; font-weight: bold\">1</span>, <span style=\"color: #008080; text-decoration-color: #008080; font-weight: bold\">13</span><span style=\"font-weight: bold\">)</span>\n",
       "┌────────────┬─────┬────────────┬────────────┬───┬────────────┬────────────┬───────────┬───────────┐\n",
       "│ player_nam ┆ age ┆ team_abbre ┆ college    ┆ … ┆ season_sta ┆ scoring_cl ┆ years_sin ┆ current_s │\n",
       "│ e          ┆ --- ┆ viation    ┆ ---        ┆   ┆ ts         ┆ ass        ┆ ce_last_s ┆ eason     │\n",
       "│ ---        ┆ i32 ┆ ---        ┆ str        ┆   ┆ ---        ┆ ---        ┆ eason     ┆ ---       │\n",
       "│ str        ┆     ┆ str        ┆            ┆   ┆ list<span style=\"font-weight: bold\">[</span>struc ┆ cat        ┆ ---       ┆ i32       │\n",
       "│            ┆     ┆            ┆            ┆   ┆ t<span style=\"font-weight: bold\">[</span><span style=\"color: #008080; text-decoration-color: #008080; font-weight: bold\">5</span><span style=\"font-weight: bold\">]]</span>      ┆            ┆ i32       ┆           │\n",
       "╞════════════╪═════╪════════════╪════════════╪═══╪════════════╪════════════╪═══════════╪═══════════╡\n",
       "│ Michael    ┆ <span style=\"color: #008080; text-decoration-color: #008080; font-weight: bold\">36</span>  ┆ IND        ┆ Georgia    ┆ … ┆ <span style=\"font-weight: bold\">[{</span><span style=\"color: #008080; text-decoration-color: #008080; font-weight: bold\">1999</span>,<span style=\"color: #008080; text-decoration-color: #008080; font-weight: bold\">82</span>, ┆ bad        ┆ <span style=\"color: #008080; text-decoration-color: #008080; font-weight: bold\">18</span>        ┆ <span style=\"color: #008080; text-decoration-color: #008080; font-weight: bold\">2022</span>      │\n",
       "│ Curry      ┆     ┆            ┆ Southern   ┆   ┆ <span style=\"color: #008080; text-decoration-color: #008080; font-weight: bold\">6.2</span>,<span style=\"color: #008080; text-decoration-color: #008080; font-weight: bold\">1.3</span>,<span style=\"color: #008080; text-decoration-color: #008080; font-weight: bold\">1</span>. ┆            ┆           ┆           │\n",
       "│            ┆     ┆            ┆            ┆   ┆ <span style=\"color: #008080; text-decoration-color: #008080; font-weight: bold\">1</span><span style=\"font-weight: bold\">}</span>,        ┆            ┆           ┆           │\n",
       "│            ┆     ┆            ┆            ┆   ┆ <span style=\"font-weight: bold\">{</span><span style=\"color: #008080; text-decoration-color: #008080; font-weight: bold\">2000</span>,…    ┆            ┆           ┆           │\n",
       "└────────────┴─────┴────────────┴────────────┴───┴────────────┴────────────┴───────────┴───────────┘\n",
       "</pre>\n"
      ],
      "text/plain": [
       "shape: \u001b[1m(\u001b[0m\u001b[1;36m1\u001b[0m, \u001b[1;36m13\u001b[0m\u001b[1m)\u001b[0m\n",
       "┌────────────┬─────┬────────────┬────────────┬───┬────────────┬────────────┬───────────┬───────────┐\n",
       "│ player_nam ┆ age ┆ team_abbre ┆ college    ┆ … ┆ season_sta ┆ scoring_cl ┆ years_sin ┆ current_s │\n",
       "│ e          ┆ --- ┆ viation    ┆ ---        ┆   ┆ ts         ┆ ass        ┆ ce_last_s ┆ eason     │\n",
       "│ ---        ┆ i32 ┆ ---        ┆ str        ┆   ┆ ---        ┆ ---        ┆ eason     ┆ ---       │\n",
       "│ str        ┆     ┆ str        ┆            ┆   ┆ list\u001b[1m[\u001b[0mstruc ┆ cat        ┆ ---       ┆ i32       │\n",
       "│            ┆     ┆            ┆            ┆   ┆ t\u001b[1m[\u001b[0m\u001b[1;36m5\u001b[0m\u001b[1m]\u001b[0m\u001b[1m]\u001b[0m      ┆            ┆ i32       ┆           │\n",
       "╞════════════╪═════╪════════════╪════════════╪═══╪════════════╪════════════╪═══════════╪═══════════╡\n",
       "│ Michael    ┆ \u001b[1;36m36\u001b[0m  ┆ IND        ┆ Georgia    ┆ … ┆ \u001b[1m[\u001b[0m\u001b[1m{\u001b[0m\u001b[1;36m1999\u001b[0m,\u001b[1;36m82\u001b[0m, ┆ bad        ┆ \u001b[1;36m18\u001b[0m        ┆ \u001b[1;36m2022\u001b[0m      │\n",
       "│ Curry      ┆     ┆            ┆ Southern   ┆   ┆ \u001b[1;36m6.2\u001b[0m,\u001b[1;36m1.3\u001b[0m,\u001b[1;36m1\u001b[0m. ┆            ┆           ┆           │\n",
       "│            ┆     ┆            ┆            ┆   ┆ \u001b[1;36m1\u001b[0m\u001b[1m}\u001b[0m,        ┆            ┆           ┆           │\n",
       "│            ┆     ┆            ┆            ┆   ┆ \u001b[1m{\u001b[0m\u001b[1;36m2000\u001b[0m,…    ┆            ┆           ┆           │\n",
       "└────────────┴─────┴────────────┴────────────┴───┴────────────┴────────────┴───────────┴───────────┘\n"
      ]
     },
     "metadata": {},
     "output_type": "display_data"
    }
   ],
   "source": [
    "qr = \"\"\"\n",
    "SELECT * FROM players\n",
    "WHERE player_name='Michael Curry'\n",
    "AND current_season=2022\n",
    "\"\"\"\n",
    "dfr=con.sql(qr).pl()\n",
    "print(dfr)"
   ]
  },
  {
   "cell_type": "code",
   "execution_count": 19,
   "metadata": {},
   "outputs": [
    {
     "data": {
      "text/html": [
       "<pre style=\"white-space:pre;overflow-x:auto;line-height:normal;font-family:Menlo,'DejaVu Sans Mono',consolas,'Courier New',monospace\">shape: <span style=\"font-weight: bold\">(</span><span style=\"color: #008080; text-decoration-color: #008080; font-weight: bold\">1</span>, <span style=\"color: #008080; text-decoration-color: #008080; font-weight: bold\">4</span><span style=\"font-weight: bold\">)</span>\n",
       "┌───────────────┬───────────────┬──────────────┬─────────────┐\n",
       "│ player_name   ┆ total_seasons ┆ first_season ┆ last_season │\n",
       "│ ---           ┆ ---           ┆ ---          ┆ ---         │\n",
       "│ str           ┆ i64           ┆ f32          ┆ f32         │\n",
       "╞═══════════════╪═══════════════╪══════════════╪═════════════╡\n",
       "│ Michael Curry ┆ <span style=\"color: #008080; text-decoration-color: #008080; font-weight: bold\">6</span>             ┆ <span style=\"color: #008080; text-decoration-color: #008080; font-weight: bold\">6.2</span>          ┆ <span style=\"color: #008080; text-decoration-color: #008080; font-weight: bold\">1.7</span>         │\n",
       "└───────────────┴───────────────┴──────────────┴─────────────┘\n",
       "</pre>\n"
      ],
      "text/plain": [
       "shape: \u001b[1m(\u001b[0m\u001b[1;36m1\u001b[0m, \u001b[1;36m4\u001b[0m\u001b[1m)\u001b[0m\n",
       "┌───────────────┬───────────────┬──────────────┬─────────────┐\n",
       "│ player_name   ┆ total_seasons ┆ first_season ┆ last_season │\n",
       "│ ---           ┆ ---           ┆ ---          ┆ ---         │\n",
       "│ str           ┆ i64           ┆ f32          ┆ f32         │\n",
       "╞═══════════════╪═══════════════╪══════════════╪═════════════╡\n",
       "│ Michael Curry ┆ \u001b[1;36m6\u001b[0m             ┆ \u001b[1;36m6.2\u001b[0m          ┆ \u001b[1;36m1.7\u001b[0m         │\n",
       "└───────────────┴───────────────┴──────────────┴─────────────┘\n"
      ]
     },
     "metadata": {},
     "output_type": "display_data"
    }
   ],
   "source": [
    "qr = \"\"\"\n",
    "SELECT\n",
    "    player_name,\n",
    "    array_length(season_stats) AS total_seasons,\n",
    "    (season_stats[1]::season_stats).pts AS first_season,\n",
    "    (season_stats[array_length(season_stats)]::season_stats).pts AS last_season,\n",
    "FROM players\n",
    "WHERE player_name='Michael Curry'\n",
    "AND current_season=2022\n",
    "\"\"\"\n",
    "dfr=con.sql(qr).pl()\n",
    "print(dfr)"
   ]
  },
  {
   "cell_type": "code",
   "execution_count": 20,
   "metadata": {},
   "outputs": [
    {
     "data": {
      "text/html": [
       "<pre style=\"white-space:pre;overflow-x:auto;line-height:normal;font-family:Menlo,'DejaVu Sans Mono',consolas,'Courier New',monospace\">shape: <span style=\"font-weight: bold\">(</span><span style=\"color: #008080; text-decoration-color: #008080; font-weight: bold\">10</span>, <span style=\"color: #008080; text-decoration-color: #008080; font-weight: bold\">4</span><span style=\"font-weight: bold\">)</span>\n",
       "┌──────────────────┬───────────────┬───────────┬────────────────┐\n",
       "│ player_name      ┆ total_seasons ┆ ratio     ┆ current_season │\n",
       "│ ---              ┆ ---           ┆ ---       ┆ ---            │\n",
       "│ str              ┆ i64           ┆ f32       ┆ i32            │\n",
       "╞══════════════════╪═══════════════╪═══════════╪════════════════╡\n",
       "│ Brandon Williams ┆ <span style=\"color: #008080; text-decoration-color: #008080; font-weight: bold\">2</span>             ┆ <span style=\"color: #008080; text-decoration-color: #008080; font-weight: bold\">42.999996</span> ┆ <span style=\"color: #008080; text-decoration-color: #008080; font-weight: bold\">2022</span>           │\n",
       "│ David Wingate    ┆ <span style=\"color: #008080; text-decoration-color: #008080; font-weight: bold\">2</span>             ┆ <span style=\"color: #008080; text-decoration-color: #008080; font-weight: bold\">20.0</span>      ┆ <span style=\"color: #008080; text-decoration-color: #008080; font-weight: bold\">2022</span>           │\n",
       "│ Ndudi Ebi        ┆ <span style=\"color: #008080; text-decoration-color: #008080; font-weight: bold\">2</span>             ┆ <span style=\"color: #008080; text-decoration-color: #008080; font-weight: bold\">16.875</span>    ┆ <span style=\"color: #008080; text-decoration-color: #008080; font-weight: bold\">2022</span>           │\n",
       "│ Pavel Podkolzin  ┆ <span style=\"color: #008080; text-decoration-color: #008080; font-weight: bold\">2</span>             ┆ <span style=\"color: #008080; text-decoration-color: #008080; font-weight: bold\">15.0</span>      ┆ <span style=\"color: #008080; text-decoration-color: #008080; font-weight: bold\">2022</span>           │\n",
       "│ Julius Randle    ┆ <span style=\"color: #008080; text-decoration-color: #008080; font-weight: bold\">9</span>             ┆ <span style=\"color: #008080; text-decoration-color: #008080; font-weight: bold\">12.55</span>     ┆ <span style=\"color: #008080; text-decoration-color: #008080; font-weight: bold\">2022</span>           │\n",
       "│ Terry Rozier     ┆ <span style=\"color: #008080; text-decoration-color: #008080; font-weight: bold\">8</span>             ┆ <span style=\"color: #008080; text-decoration-color: #008080; font-weight: bold\">11.722222</span> ┆ <span style=\"color: #008080; text-decoration-color: #008080; font-weight: bold\">2022</span>           │\n",
       "│ Nathan Jawai     ┆ <span style=\"color: #008080; text-decoration-color: #008080; font-weight: bold\">2</span>             ┆ <span style=\"color: #008080; text-decoration-color: #008080; font-weight: bold\">10.666666</span> ┆ <span style=\"color: #008080; text-decoration-color: #008080; font-weight: bold\">2022</span>           │\n",
       "│ Jared Harper     ┆ <span style=\"color: #008080; text-decoration-color: #008080; font-weight: bold\">3</span>             ┆ <span style=\"color: #008080; text-decoration-color: #008080; font-weight: bold\">10.571429</span> ┆ <span style=\"color: #008080; text-decoration-color: #008080; font-weight: bold\">2022</span>           │\n",
       "│ Nick Richards    ┆ <span style=\"color: #008080; text-decoration-color: #008080; font-weight: bold\">3</span>             ┆ <span style=\"color: #008080; text-decoration-color: #008080; font-weight: bold\">10.25</span>     ┆ <span style=\"color: #008080; text-decoration-color: #008080; font-weight: bold\">2022</span>           │\n",
       "│ Louis King       ┆ <span style=\"color: #008080; text-decoration-color: #008080; font-weight: bold\">4</span>             ┆ <span style=\"color: #008080; text-decoration-color: #008080; font-weight: bold\">10.0</span>      ┆ <span style=\"color: #008080; text-decoration-color: #008080; font-weight: bold\">2022</span>           │\n",
       "└──────────────────┴───────────────┴───────────┴────────────────┘\n",
       "</pre>\n"
      ],
      "text/plain": [
       "shape: \u001b[1m(\u001b[0m\u001b[1;36m10\u001b[0m, \u001b[1;36m4\u001b[0m\u001b[1m)\u001b[0m\n",
       "┌──────────────────┬───────────────┬───────────┬────────────────┐\n",
       "│ player_name      ┆ total_seasons ┆ ratio     ┆ current_season │\n",
       "│ ---              ┆ ---           ┆ ---       ┆ ---            │\n",
       "│ str              ┆ i64           ┆ f32       ┆ i32            │\n",
       "╞══════════════════╪═══════════════╪═══════════╪════════════════╡\n",
       "│ Brandon Williams ┆ \u001b[1;36m2\u001b[0m             ┆ \u001b[1;36m42.999996\u001b[0m ┆ \u001b[1;36m2022\u001b[0m           │\n",
       "│ David Wingate    ┆ \u001b[1;36m2\u001b[0m             ┆ \u001b[1;36m20.0\u001b[0m      ┆ \u001b[1;36m2022\u001b[0m           │\n",
       "│ Ndudi Ebi        ┆ \u001b[1;36m2\u001b[0m             ┆ \u001b[1;36m16.875\u001b[0m    ┆ \u001b[1;36m2022\u001b[0m           │\n",
       "│ Pavel Podkolzin  ┆ \u001b[1;36m2\u001b[0m             ┆ \u001b[1;36m15.0\u001b[0m      ┆ \u001b[1;36m2022\u001b[0m           │\n",
       "│ Julius Randle    ┆ \u001b[1;36m9\u001b[0m             ┆ \u001b[1;36m12.55\u001b[0m     ┆ \u001b[1;36m2022\u001b[0m           │\n",
       "│ Terry Rozier     ┆ \u001b[1;36m8\u001b[0m             ┆ \u001b[1;36m11.722222\u001b[0m ┆ \u001b[1;36m2022\u001b[0m           │\n",
       "│ Nathan Jawai     ┆ \u001b[1;36m2\u001b[0m             ┆ \u001b[1;36m10.666666\u001b[0m ┆ \u001b[1;36m2022\u001b[0m           │\n",
       "│ Jared Harper     ┆ \u001b[1;36m3\u001b[0m             ┆ \u001b[1;36m10.571429\u001b[0m ┆ \u001b[1;36m2022\u001b[0m           │\n",
       "│ Nick Richards    ┆ \u001b[1;36m3\u001b[0m             ┆ \u001b[1;36m10.25\u001b[0m     ┆ \u001b[1;36m2022\u001b[0m           │\n",
       "│ Louis King       ┆ \u001b[1;36m4\u001b[0m             ┆ \u001b[1;36m10.0\u001b[0m      ┆ \u001b[1;36m2022\u001b[0m           │\n",
       "└──────────────────┴───────────────┴───────────┴────────────────┘\n"
      ]
     },
     "metadata": {},
     "output_type": "display_data"
    }
   ],
   "source": [
    "qr = \"\"\"\n",
    "WITH points_fl AS (\n",
    "SELECT\n",
    "    player_name,\n",
    "    array_length(season_stats) AS total_seasons,\n",
    "    (season_stats[1]::season_stats).pts AS first_season,\n",
    "    (season_stats[array_length(season_stats)]::season_stats).pts AS last_season,\n",
    "    current_season\n",
    "FROM players\n",
    ")\n",
    "SELECT\n",
    "    player_name,\n",
    "    total_seasons,\n",
    "    last_season /\n",
    "        CASE\n",
    "            WHEN first_season=0 THEN 1 ELSE first_season\n",
    "        END\n",
    "    AS ratio,\n",
    "    current_season\n",
    "FROM points_fl\n",
    "WHERE current_season=2022\n",
    "ORDER BY ratio DESC\n",
    "LIMIT 10\n",
    "\"\"\"\n",
    "dfr=con.sql(qr).pl()\n",
    "print(dfr)"
   ]
  }
 ],
 "metadata": {
  "kernelspec": {
   "display_name": ".venv",
   "language": "python",
   "name": "python3"
  },
  "language_info": {
   "codemirror_mode": {
    "name": "ipython",
    "version": 3
   },
   "file_extension": ".py",
   "mimetype": "text/x-python",
   "name": "python",
   "nbconvert_exporter": "python",
   "pygments_lexer": "ipython3",
   "version": "3.12.7"
  }
 },
 "nbformat": 4,
 "nbformat_minor": 2
}
