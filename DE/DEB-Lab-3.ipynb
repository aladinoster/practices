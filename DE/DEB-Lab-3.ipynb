{
 "cells": [
  {
   "cell_type": "code",
   "execution_count": 1,
   "metadata": {},
   "outputs": [],
   "source": [
    "import duckdb\n",
    "import polars as pl\n",
    "from rich import print\n",
    "from IPython.display import display\n",
    "%load_ext rich\n",
    "con = duckdb.connect()"
   ]
  },
  {
   "cell_type": "code",
   "execution_count": null,
   "metadata": {},
   "outputs": [],
   "source": [
    "qr = \"\"\"\n",
    "DROP TYPE IF EXISTS vertex_type;\n",
    "\n",
    "CREATE TYPE vertex_type AS ENUM (\n",
    "    'player', 'team', 'game'\n",
    ");\n",
    "\n",
    "DROP TABLE IF EXISTS vertices;\n",
    "\n",
    "CREATE TABLE vertices (\n",
    "    identifier TEXT,\n",
    "    type vertex_type,\n",
    "    properties MAP(TEXT, TEXT)\n",
    ");\n",
    "\"\"\"\n",
    "con.sql(qr)"
   ]
  }
 ],
 "metadata": {
  "kernelspec": {
   "display_name": ".venv",
   "language": "python",
   "name": "python3"
  },
  "language_info": {
   "codemirror_mode": {
    "name": "ipython",
    "version": 3
   },
   "file_extension": ".py",
   "mimetype": "text/x-python",
   "name": "python",
   "nbconvert_exporter": "python",
   "pygments_lexer": "ipython3",
   "version": "3.12.7"
  }
 },
 "nbformat": 4,
 "nbformat_minor": 2
}
