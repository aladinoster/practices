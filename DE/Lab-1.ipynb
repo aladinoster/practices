{
 "cells": [
  {
   "cell_type": "code",
   "execution_count": 1,
   "metadata": {},
   "outputs": [],
   "source": [
    "import duckdb\n",
    "import polars as pl\n",
    "from rich import print\n",
    "from IPython.display import display\n",
    "%load_ext rich\n",
    "con = duckdb.connect()"
   ]
  },
  {
   "cell_type": "markdown",
   "metadata": {},
   "source": [
    "For the sake of simplicty, we clean out certain aspects of the data before:"
   ]
  },
  {
   "cell_type": "code",
   "execution_count": 2,
   "metadata": {},
   "outputs": [
    {
     "data": {
      "text/html": [
       "<pre style=\"white-space:pre;overflow-x:auto;line-height:normal;font-family:Menlo,'DejaVu Sans Mono',consolas,'Courier New',monospace\">shape: <span style=\"font-weight: bold\">(</span><span style=\"color: #008080; text-decoration-color: #008080; font-weight: bold\">5</span>, <span style=\"color: #008080; text-decoration-color: #008080; font-weight: bold\">10</span><span style=\"font-weight: bold\">)</span>\n",
       "┌────────────┬──────┬────────────┬────────────┬───┬────────────┬────────────┬────────────┬─────────┐\n",
       "│ player_nam ┆ age  ┆ team_abbre ┆ college    ┆ … ┆ draft_year ┆ draft_roun ┆ draft_numb ┆ season  │\n",
       "│ e          ┆ ---  ┆ viation    ┆ ---        ┆   ┆ ---        ┆ d          ┆ er         ┆ ---     │\n",
       "│ ---        ┆ f64  ┆ ---        ┆ str        ┆   ┆ str        ┆ ---        ┆ ---        ┆ str     │\n",
       "│ str        ┆      ┆ str        ┆            ┆   ┆            ┆ str        ┆ str        ┆         │\n",
       "╞════════════╪══════╪════════════╪════════════╪═══╪════════════╪════════════╪════════════╪═════════╡\n",
       "│ Grant Hill ┆ <span style=\"color: #008080; text-decoration-color: #008080; font-weight: bold\">25.0</span> ┆ DET        ┆ Duke       ┆ … ┆ <span style=\"color: #008080; text-decoration-color: #008080; font-weight: bold\">1994</span>       ┆ <span style=\"color: #008080; text-decoration-color: #008080; font-weight: bold\">1</span>          ┆ <span style=\"color: #008080; text-decoration-color: #008080; font-weight: bold\">3</span>          ┆ <span style=\"color: #008080; text-decoration-color: #008080; font-weight: bold\">1997</span>-<span style=\"color: #008080; text-decoration-color: #008080; font-weight: bold\">98</span> │\n",
       "│ Antawn     ┆ <span style=\"color: #008080; text-decoration-color: #008080; font-weight: bold\">24.0</span> ┆ GSW        ┆ North      ┆ … ┆ <span style=\"color: #008080; text-decoration-color: #008080; font-weight: bold\">1998</span>       ┆ <span style=\"color: #008080; text-decoration-color: #008080; font-weight: bold\">1</span>          ┆ <span style=\"color: #008080; text-decoration-color: #008080; font-weight: bold\">4</span>          ┆ <span style=\"color: #008080; text-decoration-color: #008080; font-weight: bold\">1999</span>-<span style=\"color: #008080; text-decoration-color: #008080; font-weight: bold\">00</span> │\n",
       "│ Jamison    ┆      ┆            ┆ Carolina   ┆   ┆            ┆            ┆            ┆         │\n",
       "│ Jermaine   ┆ <span style=\"color: #008080; text-decoration-color: #008080; font-weight: bold\">28.0</span> ┆ IND        ┆ <span style=\"color: #800080; text-decoration-color: #800080; font-style: italic\">None</span>       ┆ … ┆ <span style=\"color: #008080; text-decoration-color: #008080; font-weight: bold\">1996</span>       ┆ <span style=\"color: #008080; text-decoration-color: #008080; font-weight: bold\">1</span>          ┆ <span style=\"color: #008080; text-decoration-color: #008080; font-weight: bold\">17</span>         ┆ <span style=\"color: #008080; text-decoration-color: #008080; font-weight: bold\">2006</span>-<span style=\"color: #008080; text-decoration-color: #008080; font-weight: bold\">07</span> │\n",
       "│ O'Neal     ┆      ┆            ┆            ┆   ┆            ┆            ┆            ┆         │\n",
       "│ Otto       ┆ <span style=\"color: #008080; text-decoration-color: #008080; font-weight: bold\">22.0</span> ┆ WAS        ┆ Georgetown ┆ … ┆ <span style=\"color: #008080; text-decoration-color: #008080; font-weight: bold\">2013</span>       ┆ <span style=\"color: #008080; text-decoration-color: #008080; font-weight: bold\">1</span>          ┆ <span style=\"color: #008080; text-decoration-color: #008080; font-weight: bold\">3</span>          ┆ <span style=\"color: #008080; text-decoration-color: #008080; font-weight: bold\">2014</span>-<span style=\"color: #008080; text-decoration-color: #008080; font-weight: bold\">15</span> │\n",
       "│ Porter Jr. ┆      ┆            ┆            ┆   ┆            ┆            ┆            ┆         │\n",
       "│ Kelenna    ┆ <span style=\"color: #008080; text-decoration-color: #008080; font-weight: bold\">26.0</span> ┆ GSW        ┆ Kentucky   ┆ … ┆ Undrafted  ┆ Undrafted  ┆ Undrafted  ┆ <span style=\"color: #008080; text-decoration-color: #008080; font-weight: bold\">2009</span>-<span style=\"color: #008080; text-decoration-color: #008080; font-weight: bold\">10</span> │\n",
       "│ Azubuike   ┆      ┆            ┆            ┆   ┆            ┆            ┆            ┆         │\n",
       "└────────────┴──────┴────────────┴────────────┴───┴────────────┴────────────┴────────────┴─────────┘\n",
       "</pre>\n"
      ],
      "text/plain": [
       "shape: \u001b[1m(\u001b[0m\u001b[1;36m5\u001b[0m, \u001b[1;36m10\u001b[0m\u001b[1m)\u001b[0m\n",
       "┌────────────┬──────┬────────────┬────────────┬───┬────────────┬────────────┬────────────┬─────────┐\n",
       "│ player_nam ┆ age  ┆ team_abbre ┆ college    ┆ … ┆ draft_year ┆ draft_roun ┆ draft_numb ┆ season  │\n",
       "│ e          ┆ ---  ┆ viation    ┆ ---        ┆   ┆ ---        ┆ d          ┆ er         ┆ ---     │\n",
       "│ ---        ┆ f64  ┆ ---        ┆ str        ┆   ┆ str        ┆ ---        ┆ ---        ┆ str     │\n",
       "│ str        ┆      ┆ str        ┆            ┆   ┆            ┆ str        ┆ str        ┆         │\n",
       "╞════════════╪══════╪════════════╪════════════╪═══╪════════════╪════════════╪════════════╪═════════╡\n",
       "│ Grant Hill ┆ \u001b[1;36m25.0\u001b[0m ┆ DET        ┆ Duke       ┆ … ┆ \u001b[1;36m1994\u001b[0m       ┆ \u001b[1;36m1\u001b[0m          ┆ \u001b[1;36m3\u001b[0m          ┆ \u001b[1;36m1997\u001b[0m-\u001b[1;36m98\u001b[0m │\n",
       "│ Antawn     ┆ \u001b[1;36m24.0\u001b[0m ┆ GSW        ┆ North      ┆ … ┆ \u001b[1;36m1998\u001b[0m       ┆ \u001b[1;36m1\u001b[0m          ┆ \u001b[1;36m4\u001b[0m          ┆ \u001b[1;36m1999\u001b[0m-\u001b[1;36m00\u001b[0m │\n",
       "│ Jamison    ┆      ┆            ┆ Carolina   ┆   ┆            ┆            ┆            ┆         │\n",
       "│ Jermaine   ┆ \u001b[1;36m28.0\u001b[0m ┆ IND        ┆ \u001b[3;35mNone\u001b[0m       ┆ … ┆ \u001b[1;36m1996\u001b[0m       ┆ \u001b[1;36m1\u001b[0m          ┆ \u001b[1;36m17\u001b[0m         ┆ \u001b[1;36m2006\u001b[0m-\u001b[1;36m07\u001b[0m │\n",
       "│ O'Neal     ┆      ┆            ┆            ┆   ┆            ┆            ┆            ┆         │\n",
       "│ Otto       ┆ \u001b[1;36m22.0\u001b[0m ┆ WAS        ┆ Georgetown ┆ … ┆ \u001b[1;36m2013\u001b[0m       ┆ \u001b[1;36m1\u001b[0m          ┆ \u001b[1;36m3\u001b[0m          ┆ \u001b[1;36m2014\u001b[0m-\u001b[1;36m15\u001b[0m │\n",
       "│ Porter Jr. ┆      ┆            ┆            ┆   ┆            ┆            ┆            ┆         │\n",
       "│ Kelenna    ┆ \u001b[1;36m26.0\u001b[0m ┆ GSW        ┆ Kentucky   ┆ … ┆ Undrafted  ┆ Undrafted  ┆ Undrafted  ┆ \u001b[1;36m2009\u001b[0m-\u001b[1;36m10\u001b[0m │\n",
       "│ Azubuike   ┆      ┆            ┆            ┆   ┆            ┆            ┆            ┆         │\n",
       "└────────────┴──────┴────────────┴────────────┴───┴────────────┴────────────┴────────────┴─────────┘\n"
      ]
     },
     "metadata": {},
     "output_type": "display_data"
    }
   ],
   "source": [
    "df = pl.read_csv('data/all_seasons.csv')\n",
    "df = df.unique(subset= [\"player_name\",\"season\"])\n",
    "qr = \"\"\"\n",
    "SELECT\n",
    "    player_name,\n",
    "    age,\n",
    "    team_abbreviation,\n",
    "    college,\n",
    "    player_height,\n",
    "    player_weight,\n",
    "    draft_year,\n",
    "    draft_round,\n",
    "    draft_number,\n",
    "    season\n",
    "    FROM df,\n",
    "    LIMIT 5;\n",
    "\"\"\"\n",
    "print(\n",
    "    con.sql(qr).pl()\n",
    ")"
   ]
  },
  {
   "cell_type": "code",
   "execution_count": 3,
   "metadata": {},
   "outputs": [],
   "source": [
    "qr = \"\"\"\n",
    "DROP TABLE IF EXISTS players_seasons;\n",
    "\n",
    "DROP TYPE IF EXISTS season_stats;\n",
    "CREATE TYPE season_stats AS STRUCT(\n",
    "    season INTEGER,\n",
    "    gp INTEGER,\n",
    "    pts FLOAT,\n",
    "    reb FLOAT,\n",
    "    ast FLOAT\n",
    ");\n",
    "\n",
    "CREATE TABLE players (\n",
    "    player_name TEXT,\n",
    "    age INTEGER,\n",
    "    team_abbreviation TEXT,\n",
    "    college TEXT,\n",
    "    player_height FLOAT,\n",
    "    player_weight FLOAT,\n",
    "    draft_year TEXT,\n",
    "    draft_round TEXT,\n",
    "    draft_number TEXT,\n",
    "    season_stats season_stats[],\n",
    "    current_season INTEGER,\n",
    "    PRIMARY KEY(player_name, current_season, team_abbreviation, college)\n",
    ")\n",
    "\"\"\"\n",
    "con.sql(qr)"
   ]
  },
  {
   "cell_type": "code",
   "execution_count": 4,
   "metadata": {},
   "outputs": [
    {
     "data": {
      "text/html": [
       "<pre style=\"white-space:pre;overflow-x:auto;line-height:normal;font-family:Menlo,'DejaVu Sans Mono',consolas,'Courier New',monospace\"></pre>\n"
      ],
      "text/plain": []
     },
     "metadata": {},
     "output_type": "display_data"
    },
    {
     "data": {
      "text/html": [
       "<div><style>\n",
       ".dataframe > thead > tr,\n",
       ".dataframe > tbody > tr {\n",
       "  text-align: right;\n",
       "  white-space: pre-wrap;\n",
       "}\n",
       "</style>\n",
       "<small>shape: (1, 4)</small><table border=\"1\" class=\"dataframe\"><thead><tr><th>min_year</th><th>max_year</th><th>min_year_text</th><th>max_year_text</th></tr><tr><td>i32</td><td>i32</td><td>str</td><td>str</td></tr></thead><tbody><tr><td>1996</td><td>2022</td><td>&quot;1996-97&quot;</td><td>&quot;2022-23&quot;</td></tr></tbody></table></div>"
      ],
      "text/plain": [
       "\n",
       "shape: \u001b[1m(\u001b[0m\u001b[1;36m1\u001b[0m, \u001b[1;36m4\u001b[0m\u001b[1m)\u001b[0m\n",
       "┌──────────┬──────────┬───────────────┬───────────────┐\n",
       "│ min_year ┆ max_year ┆ min_year_text ┆ max_year_text │\n",
       "│ ---      ┆ ---      ┆ ---           ┆ ---           │\n",
       "│ i32      ┆ i32      ┆ str           ┆ str           │\n",
       "╞══════════╪══════════╪═══════════════╪═══════════════╡\n",
       "│ \u001b[1;36m1996\u001b[0m     ┆ \u001b[1;36m2022\u001b[0m     ┆ \u001b[1;36m1996\u001b[0m-\u001b[1;36m97\u001b[0m       ┆ \u001b[1;36m2022\u001b[0m-\u001b[1;36m23\u001b[0m       │\n",
       "└──────────┴──────────┴───────────────┴───────────────┘"
      ]
     },
     "metadata": {},
     "output_type": "display_data"
    }
   ],
   "source": [
    "qr=\"\"\"\n",
    "SELECT\n",
    "    MIN(season[:4]::INTEGER) AS min_year,\n",
    "    MAX(season[:4]::INTEGER) AS max_year,\n",
    "    MIN(season) AS min_year_text,\n",
    "    MAX(season) AS max_year_text,\n",
    "FROM read_csv('data/all_seasons.csv')\n",
    "\"\"\"\n",
    "dfr = con.sql(qr).pl()\n",
    "display(dfr)\n"
   ]
  },
  {
   "cell_type": "code",
   "execution_count": 5,
   "metadata": {},
   "outputs": [
    {
     "data": {
      "text/html": [
       "<pre style=\"white-space:pre;overflow-x:auto;line-height:normal;font-family:Menlo,'DejaVu Sans Mono',consolas,'Courier New',monospace\"></pre>\n"
      ],
      "text/plain": []
     },
     "metadata": {},
     "output_type": "display_data"
    },
    {
     "data": {
      "text/html": [
       "<div><style>\n",
       ".dataframe > thead > tr,\n",
       ".dataframe > tbody > tr {\n",
       "  text-align: right;\n",
       "  white-space: pre-wrap;\n",
       "}\n",
       "</style>\n",
       "<small>shape: (0, 11)</small><table border=\"1\" class=\"dataframe\"><thead><tr><th>player_name</th><th>age</th><th>team_abbreviation</th><th>college</th><th>player_height</th><th>player_weight</th><th>draft_year</th><th>draft_round</th><th>draft_number</th><th>season_stats</th><th>current_season</th></tr><tr><td>str</td><td>i32</td><td>str</td><td>str</td><td>f32</td><td>f32</td><td>str</td><td>str</td><td>str</td><td>list[struct[5]]</td><td>i32</td></tr></thead><tbody></tbody></table></div>"
      ],
      "text/plain": [
       "\n",
       "shape: \u001b[1m(\u001b[0m\u001b[1;36m0\u001b[0m, \u001b[1;36m11\u001b[0m\u001b[1m)\u001b[0m\n",
       "┌─────────────┬─────┬────────────┬─────────┬───┬────────────┬────────────┬────────────┬────────────┐\n",
       "│ player_name ┆ age ┆ team_abbre ┆ college ┆ … ┆ draft_roun ┆ draft_numb ┆ season_sta ┆ current_se │\n",
       "│ ---         ┆ --- ┆ viation    ┆ ---     ┆   ┆ d          ┆ er         ┆ ts         ┆ ason       │\n",
       "│ str         ┆ i32 ┆ ---        ┆ str     ┆   ┆ ---        ┆ ---        ┆ ---        ┆ ---        │\n",
       "│             ┆     ┆ str        ┆         ┆   ┆ str        ┆ str        ┆ list\u001b[1m[\u001b[0mstruc ┆ i32        │\n",
       "│             ┆     ┆            ┆         ┆   ┆            ┆            ┆ t\u001b[1m[\u001b[0m\u001b[1;36m5\u001b[0m\u001b[1m]\u001b[0m\u001b[1m]\u001b[0m      ┆            │\n",
       "╞═════════════╪═════╪════════════╪═════════╪═══╪════════════╪════════════╪════════════╪════════════╡\n",
       "└─────────────┴─────┴────────────┴─────────┴───┴────────────┴────────────┴────────────┴────────────┘"
      ]
     },
     "metadata": {},
     "output_type": "display_data"
    }
   ],
   "source": [
    "qr = \"\"\"\n",
    "FROM players\n",
    "LIMIT 5\n",
    "\"\"\"\n",
    "display(\n",
    "    con.sql(qr).pl()\n",
    ")"
   ]
  },
  {
   "cell_type": "code",
   "execution_count": 6,
   "metadata": {},
   "outputs": [
    {
     "data": {
      "text/html": [
       "<pre style=\"white-space:pre;overflow-x:auto;line-height:normal;font-family:Menlo,'DejaVu Sans Mono',consolas,'Courier New',monospace\"></pre>\n"
      ],
      "text/plain": []
     },
     "metadata": {},
     "output_type": "display_data"
    },
    {
     "data": {
      "text/html": [
       "<div><style>\n",
       ".dataframe > thead > tr,\n",
       ".dataframe > tbody > tr {\n",
       "  text-align: right;\n",
       "  white-space: pre-wrap;\n",
       "}\n",
       "</style>\n",
       "<small>shape: (5, 22)</small><table border=\"1\" class=\"dataframe\"><thead><tr><th>v0</th><th>player_name</th><th>team_abbreviation</th><th>age</th><th>player_height</th><th>player_weight</th><th>college</th><th>country</th><th>draft_year</th><th>draft_round</th><th>draft_number</th><th>gp</th><th>pts</th><th>reb</th><th>ast</th><th>net_rating</th><th>oreb_pct</th><th>dreb_pct</th><th>usg_pct</th><th>ts_pct</th><th>ast_pct</th><th>season</th></tr><tr><td>i64</td><td>str</td><td>str</td><td>f64</td><td>f64</td><td>f64</td><td>str</td><td>str</td><td>str</td><td>str</td><td>str</td><td>i64</td><td>f64</td><td>f64</td><td>f64</td><td>f64</td><td>f64</td><td>f64</td><td>f64</td><td>f64</td><td>f64</td><td>str</td></tr></thead><tbody><tr><td>404</td><td>&quot;Antonio Lang&quot;</td><td>&quot;CLE&quot;</td><td>25.0</td><td>203.2</td><td>104.32616</td><td>&quot;Duke&quot;</td><td>&quot;USA&quot;</td><td>&quot;1994&quot;</td><td>&quot;2&quot;</td><td>&quot;29&quot;</td><td>64</td><td>2.7</td><td>2.0</td><td>0.5</td><td>0.7</td><td>0.081</td><td>0.118</td><td>0.136</td><td>0.467</td><td>0.068</td><td>&quot;1996-97&quot;</td></tr><tr><td>426</td><td>&quot;Aleksandar Djordjevic&quot;</td><td>&quot;POR&quot;</td><td>29.0</td><td>187.96</td><td>89.811216</td><td>&quot;None&quot;</td><td>&quot;USA&quot;</td><td>&quot;Undrafted&quot;</td><td>&quot;Undrafted&quot;</td><td>&quot;Undrafted&quot;</td><td>8</td><td>3.1</td><td>0.6</td><td>0.6</td><td>4.8</td><td>0.021</td><td>0.07</td><td>0.179</td><td>0.687</td><td>0.135</td><td>&quot;1996-97&quot;</td></tr><tr><td>195</td><td>&quot;Brett Szabo&quot;</td><td>&quot;BOS&quot;</td><td>29.0</td><td>210.82</td><td>104.32616</td><td>&quot;Augustana (SD)&quot;</td><td>&quot;USA&quot;</td><td>&quot;Undrafted&quot;</td><td>&quot;Undrafted&quot;</td><td>&quot;Undrafted&quot;</td><td>70</td><td>2.2</td><td>2.4</td><td>0.2</td><td>-11.1</td><td>0.089</td><td>0.196</td><td>0.119</td><td>0.517</td><td>0.039</td><td>&quot;1996-97&quot;</td></tr><tr><td>409</td><td>&quot;Bo Outlaw&quot;</td><td>&quot;LAC&quot;</td><td>26.0</td><td>203.2</td><td>95.25432</td><td>&quot;Houston&quot;</td><td>&quot;USA&quot;</td><td>&quot;Undrafted&quot;</td><td>&quot;Undrafted&quot;</td><td>&quot;Undrafted&quot;</td><td>82</td><td>7.6</td><td>5.5</td><td>1.9</td><td>4.0</td><td>0.092</td><td>0.152</td><td>0.129</td><td>0.602</td><td>0.113</td><td>&quot;1996-97&quot;</td></tr><tr><td>207</td><td>&quot;Scott Brooks&quot;</td><td>&quot;NYK&quot;</td><td>31.0</td><td>180.34</td><td>74.84268</td><td>&quot;California-Irvine&quot;</td><td>&quot;USA&quot;</td><td>&quot;Undrafted&quot;</td><td>&quot;Undrafted&quot;</td><td>&quot;Undrafted&quot;</td><td>38</td><td>1.5</td><td>0.5</td><td>0.8</td><td>3.8</td><td>0.032</td><td>0.058</td><td>0.116</td><td>0.625</td><td>0.191</td><td>&quot;1996-97&quot;</td></tr></tbody></table></div>"
      ],
      "text/plain": [
       "\n",
       "shape: \u001b[1m(\u001b[0m\u001b[1;36m5\u001b[0m, \u001b[1;36m22\u001b[0m\u001b[1m)\u001b[0m\n",
       "┌─────┬──────────────┬───────────────────┬──────┬───┬─────────┬────────┬─────────┬─────────┐\n",
       "│ v0  ┆ player_name  ┆ team_abbreviation ┆ age  ┆ … ┆ usg_pct ┆ ts_pct ┆ ast_pct ┆ season  │\n",
       "│ --- ┆ ---          ┆ ---               ┆ ---  ┆   ┆ ---     ┆ ---    ┆ ---     ┆ ---     │\n",
       "│ i64 ┆ str          ┆ str               ┆ f64  ┆   ┆ f64     ┆ f64    ┆ f64     ┆ str     │\n",
       "╞═════╪══════════════╪═══════════════════╪══════╪═══╪═════════╪════════╪═════════╪═════════╡\n",
       "│ \u001b[1;36m404\u001b[0m ┆ Antonio Lang ┆ CLE               ┆ \u001b[1;36m25.0\u001b[0m ┆ … ┆ \u001b[1;36m0.136\u001b[0m   ┆ \u001b[1;36m0.467\u001b[0m  ┆ \u001b[1;36m0.068\u001b[0m   ┆ \u001b[1;36m1996\u001b[0m-\u001b[1;36m97\u001b[0m │\n",
       "│ \u001b[1;36m426\u001b[0m ┆ Aleksandar   ┆ POR               ┆ \u001b[1;36m29.0\u001b[0m ┆ … ┆ \u001b[1;36m0.179\u001b[0m   ┆ \u001b[1;36m0.687\u001b[0m  ┆ \u001b[1;36m0.135\u001b[0m   ┆ \u001b[1;36m1996\u001b[0m-\u001b[1;36m97\u001b[0m │\n",
       "│     ┆ Djordjevic   ┆                   ┆      ┆   ┆         ┆        ┆         ┆         │\n",
       "│ \u001b[1;36m195\u001b[0m ┆ Brett Szabo  ┆ BOS               ┆ \u001b[1;36m29.0\u001b[0m ┆ … ┆ \u001b[1;36m0.119\u001b[0m   ┆ \u001b[1;36m0.517\u001b[0m  ┆ \u001b[1;36m0.039\u001b[0m   ┆ \u001b[1;36m1996\u001b[0m-\u001b[1;36m97\u001b[0m │\n",
       "│ \u001b[1;36m409\u001b[0m ┆ Bo Outlaw    ┆ LAC               ┆ \u001b[1;36m26.0\u001b[0m ┆ … ┆ \u001b[1;36m0.129\u001b[0m   ┆ \u001b[1;36m0.602\u001b[0m  ┆ \u001b[1;36m0.113\u001b[0m   ┆ \u001b[1;36m1996\u001b[0m-\u001b[1;36m97\u001b[0m │\n",
       "│ \u001b[1;36m207\u001b[0m ┆ Scott Brooks ┆ NYK               ┆ \u001b[1;36m31.0\u001b[0m ┆ … ┆ \u001b[1;36m0.116\u001b[0m   ┆ \u001b[1;36m0.625\u001b[0m  ┆ \u001b[1;36m0.191\u001b[0m   ┆ \u001b[1;36m1996\u001b[0m-\u001b[1;36m97\u001b[0m │\n",
       "└─────┴──────────────┴───────────────────┴──────┴───┴─────────┴────────┴─────────┴─────────┘"
      ]
     },
     "metadata": {},
     "output_type": "display_data"
    }
   ],
   "source": [
    "qr=\"\"\"\n",
    "WITH today AS (\n",
    "    SELECT * FROM df\n",
    "    WHERE season='1996-97'\n",
    ")\n",
    "FROM today\n",
    "LIMIT 5\n",
    "\"\"\"\n",
    "display(\n",
    "    con.sql(qr).pl()\n",
    ")"
   ]
  },
  {
   "cell_type": "code",
   "execution_count": 7,
   "metadata": {},
   "outputs": [
    {
     "data": {
      "text/html": [
       "<pre style=\"white-space:pre;overflow-x:auto;line-height:normal;font-family:Menlo,'DejaVu Sans Mono',consolas,'Courier New',monospace\">\n",
       "WITH yesterday AS <span style=\"font-weight: bold\">(</span>\n",
       "    SELECT * FROM players\n",
       "    WHERE <span style=\"color: #808000; text-decoration-color: #808000\">current_season</span>=<span style=\"color: #008080; text-decoration-color: #008080; font-weight: bold\">1995</span>\n",
       "<span style=\"font-weight: bold\">)</span>, today AS <span style=\"font-weight: bold\">(</span>\n",
       "    SELECT * FROM df\n",
       "    WHERE <span style=\"color: #808000; text-decoration-color: #808000\">season</span>=<span style=\"color: #008000; text-decoration-color: #008000\">'1996-97'</span>\n",
       "<span style=\"font-weight: bold\">)</span>\n",
       "SELECT\n",
       "    <span style=\"color: #800080; text-decoration-color: #800080; font-weight: bold\">COALESCE</span><span style=\"font-weight: bold\">(</span>t.player_name, y.player_name<span style=\"font-weight: bold\">)</span> AS player_name,\n",
       "    <span style=\"color: #800080; text-decoration-color: #800080; font-weight: bold\">COALESCE</span><span style=\"font-weight: bold\">(</span>t.age, y.age<span style=\"font-weight: bold\">)</span> AS age,\n",
       "    <span style=\"color: #800080; text-decoration-color: #800080; font-weight: bold\">COALESCE</span><span style=\"font-weight: bold\">(</span>t.team_abbreviation, y.team_abbreviation<span style=\"font-weight: bold\">)</span> AS team_abbreviation,\n",
       "    <span style=\"color: #800080; text-decoration-color: #800080; font-weight: bold\">COALESCE</span><span style=\"font-weight: bold\">(</span>t.college, y.college<span style=\"font-weight: bold\">)</span> AS college,\n",
       "    <span style=\"color: #800080; text-decoration-color: #800080; font-weight: bold\">COALESCE</span><span style=\"font-weight: bold\">(</span>t.player_height, y.player_height<span style=\"font-weight: bold\">)</span> AS player_height,\n",
       "    <span style=\"color: #800080; text-decoration-color: #800080; font-weight: bold\">COALESCE</span><span style=\"font-weight: bold\">(</span>t.player_weight, y.player_weight<span style=\"font-weight: bold\">)</span> AS player_weight,\n",
       "    <span style=\"color: #800080; text-decoration-color: #800080; font-weight: bold\">COALESCE</span><span style=\"font-weight: bold\">(</span>t.draft_year, y.draft_year<span style=\"font-weight: bold\">)</span> AS draft_year,\n",
       "    <span style=\"color: #800080; text-decoration-color: #800080; font-weight: bold\">COALESCE</span><span style=\"font-weight: bold\">(</span>t.draft_round, y.draft_round<span style=\"font-weight: bold\">)</span> AS draft_round,\n",
       "    <span style=\"color: #800080; text-decoration-color: #800080; font-weight: bold\">COALESCE</span><span style=\"font-weight: bold\">(</span>t.draft_number, y.draft_number<span style=\"font-weight: bold\">)</span> AS draft_number,\n",
       "    -- Update for season_stats\n",
       "    CASE WHEN y.season_stats IS NULL\n",
       "        THEN ARRAY<span style=\"font-weight: bold\">[</span><span style=\"color: #800080; text-decoration-color: #800080; font-weight: bold\">ROW</span><span style=\"font-weight: bold\">(</span>\n",
       "            t.season<span style=\"font-weight: bold\">[</span>:<span style=\"color: #008080; text-decoration-color: #008080; font-weight: bold\">4</span><span style=\"font-weight: bold\">]</span>::INTEGER,\n",
       "            t.gp,\n",
       "            t.pts,\n",
       "            t.reb,\n",
       "            t.ast\n",
       "        <span style=\"font-weight: bold\">)</span>::season_stats<span style=\"font-weight: bold\">]</span>\n",
       "    WHEN t.season IS NOT NULL\n",
       "        THEN y.season_stats || ARRAY<span style=\"font-weight: bold\">[</span><span style=\"color: #800080; text-decoration-color: #800080; font-weight: bold\">ROW</span><span style=\"font-weight: bold\">(</span>\n",
       "            t.season<span style=\"font-weight: bold\">[</span>:<span style=\"color: #008080; text-decoration-color: #008080; font-weight: bold\">4</span><span style=\"font-weight: bold\">]</span>::INTEGER,\n",
       "            t.gp,\n",
       "            t.pts,\n",
       "            t.reb,\n",
       "            t.ast\n",
       "        <span style=\"font-weight: bold\">)</span>::season_stats<span style=\"font-weight: bold\">]</span>\n",
       "    ELSE y.season_stats\n",
       "    END AS season_stats,\n",
       "    -- Update for current_season,\n",
       "    <span style=\"color: #800080; text-decoration-color: #800080; font-weight: bold\">COALESCE</span><span style=\"font-weight: bold\">(</span>t.season<span style=\"font-weight: bold\">[</span>:<span style=\"color: #008080; text-decoration-color: #008080; font-weight: bold\">4</span><span style=\"font-weight: bold\">]</span>::INTEGER, y.current_season+<span style=\"color: #008080; text-decoration-color: #008080; font-weight: bold\">1</span><span style=\"font-weight: bold\">)</span> AS current_season\n",
       "FROM today t\n",
       "FULL OUTER JOIN yesterday y\n",
       "ON t.player_name = y.player_name;\n",
       "\n",
       "</pre>\n"
      ],
      "text/plain": [
       "\n",
       "WITH yesterday AS \u001b[1m(\u001b[0m\n",
       "    SELECT * FROM players\n",
       "    WHERE \u001b[33mcurrent_season\u001b[0m=\u001b[1;36m1995\u001b[0m\n",
       "\u001b[1m)\u001b[0m, today AS \u001b[1m(\u001b[0m\n",
       "    SELECT * FROM df\n",
       "    WHERE \u001b[33mseason\u001b[0m=\u001b[32m'1996-97'\u001b[0m\n",
       "\u001b[1m)\u001b[0m\n",
       "SELECT\n",
       "    \u001b[1;35mCOALESCE\u001b[0m\u001b[1m(\u001b[0mt.player_name, y.player_name\u001b[1m)\u001b[0m AS player_name,\n",
       "    \u001b[1;35mCOALESCE\u001b[0m\u001b[1m(\u001b[0mt.age, y.age\u001b[1m)\u001b[0m AS age,\n",
       "    \u001b[1;35mCOALESCE\u001b[0m\u001b[1m(\u001b[0mt.team_abbreviation, y.team_abbreviation\u001b[1m)\u001b[0m AS team_abbreviation,\n",
       "    \u001b[1;35mCOALESCE\u001b[0m\u001b[1m(\u001b[0mt.college, y.college\u001b[1m)\u001b[0m AS college,\n",
       "    \u001b[1;35mCOALESCE\u001b[0m\u001b[1m(\u001b[0mt.player_height, y.player_height\u001b[1m)\u001b[0m AS player_height,\n",
       "    \u001b[1;35mCOALESCE\u001b[0m\u001b[1m(\u001b[0mt.player_weight, y.player_weight\u001b[1m)\u001b[0m AS player_weight,\n",
       "    \u001b[1;35mCOALESCE\u001b[0m\u001b[1m(\u001b[0mt.draft_year, y.draft_year\u001b[1m)\u001b[0m AS draft_year,\n",
       "    \u001b[1;35mCOALESCE\u001b[0m\u001b[1m(\u001b[0mt.draft_round, y.draft_round\u001b[1m)\u001b[0m AS draft_round,\n",
       "    \u001b[1;35mCOALESCE\u001b[0m\u001b[1m(\u001b[0mt.draft_number, y.draft_number\u001b[1m)\u001b[0m AS draft_number,\n",
       "    -- Update for season_stats\n",
       "    CASE WHEN y.season_stats IS NULL\n",
       "        THEN ARRAY\u001b[1m[\u001b[0m\u001b[1;35mROW\u001b[0m\u001b[1m(\u001b[0m\n",
       "            t.season\u001b[1m[\u001b[0m:\u001b[1;36m4\u001b[0m\u001b[1m]\u001b[0m::INTEGER,\n",
       "            t.gp,\n",
       "            t.pts,\n",
       "            t.reb,\n",
       "            t.ast\n",
       "        \u001b[1m)\u001b[0m::season_stats\u001b[1m]\u001b[0m\n",
       "    WHEN t.season IS NOT NULL\n",
       "        THEN y.season_stats || ARRAY\u001b[1m[\u001b[0m\u001b[1;35mROW\u001b[0m\u001b[1m(\u001b[0m\n",
       "            t.season\u001b[1m[\u001b[0m:\u001b[1;36m4\u001b[0m\u001b[1m]\u001b[0m::INTEGER,\n",
       "            t.gp,\n",
       "            t.pts,\n",
       "            t.reb,\n",
       "            t.ast\n",
       "        \u001b[1m)\u001b[0m::season_stats\u001b[1m]\u001b[0m\n",
       "    ELSE y.season_stats\n",
       "    END AS season_stats,\n",
       "    -- Update for current_season,\n",
       "    \u001b[1;35mCOALESCE\u001b[0m\u001b[1m(\u001b[0mt.season\u001b[1m[\u001b[0m:\u001b[1;36m4\u001b[0m\u001b[1m]\u001b[0m::INTEGER, y.current_season+\u001b[1;36m1\u001b[0m\u001b[1m)\u001b[0m AS current_season\n",
       "FROM today t\n",
       "FULL OUTER JOIN yesterday y\n",
       "ON t.player_name = y.player_name;\n",
       "\n"
      ]
     },
     "metadata": {},
     "output_type": "display_data"
    },
    {
     "data": {
      "text/html": [
       "<pre style=\"white-space:pre;overflow-x:auto;line-height:normal;font-family:Menlo,'DejaVu Sans Mono',consolas,'Courier New',monospace\"></pre>\n"
      ],
      "text/plain": []
     },
     "metadata": {},
     "output_type": "display_data"
    },
    {
     "data": {
      "text/html": [
       "<div><style>\n",
       ".dataframe > thead > tr,\n",
       ".dataframe > tbody > tr {\n",
       "  text-align: right;\n",
       "  white-space: pre-wrap;\n",
       "}\n",
       "</style>\n",
       "<small>shape: (5, 11)</small><table border=\"1\" class=\"dataframe\"><thead><tr><th>player_name</th><th>age</th><th>team_abbreviation</th><th>college</th><th>player_height</th><th>player_weight</th><th>draft_year</th><th>draft_round</th><th>draft_number</th><th>season_stats</th><th>current_season</th></tr><tr><td>str</td><td>f64</td><td>str</td><td>str</td><td>f64</td><td>f64</td><td>str</td><td>str</td><td>str</td><td>list[struct[5]]</td><td>i32</td></tr></thead><tbody><tr><td>&quot;Antonio Lang&quot;</td><td>25.0</td><td>&quot;CLE&quot;</td><td>&quot;Duke&quot;</td><td>203.2</td><td>104.32616</td><td>&quot;1994&quot;</td><td>&quot;2&quot;</td><td>&quot;29&quot;</td><td>[{1996,64,2.7,2.0,0.5}]</td><td>1996</td></tr><tr><td>&quot;Aleksandar Djordjevic&quot;</td><td>29.0</td><td>&quot;POR&quot;</td><td>&quot;None&quot;</td><td>187.96</td><td>89.811216</td><td>&quot;Undrafted&quot;</td><td>&quot;Undrafted&quot;</td><td>&quot;Undrafted&quot;</td><td>[{1996,8,3.1,0.6,0.6}]</td><td>1996</td></tr><tr><td>&quot;Brett Szabo&quot;</td><td>29.0</td><td>&quot;BOS&quot;</td><td>&quot;Augustana (SD)&quot;</td><td>210.82</td><td>104.32616</td><td>&quot;Undrafted&quot;</td><td>&quot;Undrafted&quot;</td><td>&quot;Undrafted&quot;</td><td>[{1996,70,2.2,2.4,0.2}]</td><td>1996</td></tr><tr><td>&quot;Bo Outlaw&quot;</td><td>26.0</td><td>&quot;LAC&quot;</td><td>&quot;Houston&quot;</td><td>203.2</td><td>95.25432</td><td>&quot;Undrafted&quot;</td><td>&quot;Undrafted&quot;</td><td>&quot;Undrafted&quot;</td><td>[{1996,82,7.6,5.5,1.9}]</td><td>1996</td></tr><tr><td>&quot;Scott Brooks&quot;</td><td>31.0</td><td>&quot;NYK&quot;</td><td>&quot;California-Irvine&quot;</td><td>180.34</td><td>74.84268</td><td>&quot;Undrafted&quot;</td><td>&quot;Undrafted&quot;</td><td>&quot;Undrafted&quot;</td><td>[{1996,38,1.5,0.5,0.8}]</td><td>1996</td></tr></tbody></table></div>"
      ],
      "text/plain": [
       "\n",
       "shape: \u001b[1m(\u001b[0m\u001b[1;36m5\u001b[0m, \u001b[1;36m11\u001b[0m\u001b[1m)\u001b[0m\n",
       "┌────────────┬──────┬────────────┬────────────┬───┬────────────┬───────────┬───────────┬───────────┐\n",
       "│ player_nam ┆ age  ┆ team_abbre ┆ college    ┆ … ┆ draft_roun ┆ draft_num ┆ season_st ┆ current_s │\n",
       "│ e          ┆ ---  ┆ viation    ┆ ---        ┆   ┆ d          ┆ ber       ┆ ats       ┆ eason     │\n",
       "│ ---        ┆ f64  ┆ ---        ┆ str        ┆   ┆ ---        ┆ ---       ┆ ---       ┆ ---       │\n",
       "│ str        ┆      ┆ str        ┆            ┆   ┆ str        ┆ str       ┆ list\u001b[1m[\u001b[0mstru ┆ i32       │\n",
       "│            ┆      ┆            ┆            ┆   ┆            ┆           ┆ ct\u001b[1m[\u001b[0m\u001b[1;36m5\u001b[0m\u001b[1m]\u001b[0m\u001b[1m]\u001b[0m    ┆           │\n",
       "╞════════════╪══════╪════════════╪════════════╪═══╪════════════╪═══════════╪═══════════╪═══════════╡\n",
       "│ Antonio    ┆ \u001b[1;36m25.0\u001b[0m ┆ CLE        ┆ Duke       ┆ … ┆ \u001b[1;36m2\u001b[0m          ┆ \u001b[1;36m29\u001b[0m        ┆ \u001b[1m[\u001b[0m\u001b[1m{\u001b[0m\u001b[1;36m1996\u001b[0m,\u001b[1;36m64\u001b[0m ┆ \u001b[1;36m1996\u001b[0m      │\n",
       "│ Lang       ┆      ┆            ┆            ┆   ┆            ┆           ┆ ,\u001b[1;36m2.7\u001b[0m,\u001b[1;36m2.0\u001b[0m, ┆           │\n",
       "│            ┆      ┆            ┆            ┆   ┆            ┆           ┆ \u001b[1;36m0.5\u001b[0m\u001b[1m}\u001b[0m\u001b[1m]\u001b[0m     ┆           │\n",
       "│ Aleksandar ┆ \u001b[1;36m29.0\u001b[0m ┆ POR        ┆ \u001b[3;35mNone\u001b[0m       ┆ … ┆ Undrafted  ┆ Undrafted ┆ \u001b[1m[\u001b[0m\u001b[1m{\u001b[0m\u001b[1;36m1996\u001b[0m,\u001b[1;36m8\u001b[0m, ┆ \u001b[1;36m1996\u001b[0m      │\n",
       "│ Djordjevic ┆      ┆            ┆            ┆   ┆            ┆           ┆ \u001b[1;36m3.1\u001b[0m,\u001b[1;36m0.6\u001b[0m,\u001b[1;36m0\u001b[0m ┆           │\n",
       "│            ┆      ┆            ┆            ┆   ┆            ┆           ┆ .\u001b[1;36m6\u001b[0m\u001b[1m}\u001b[0m\u001b[1m]\u001b[0m      ┆           │\n",
       "│ Brett      ┆ \u001b[1;36m29.0\u001b[0m ┆ BOS        ┆ Augustana  ┆ … ┆ Undrafted  ┆ Undrafted ┆ \u001b[1m[\u001b[0m\u001b[1m{\u001b[0m\u001b[1;36m1996\u001b[0m,\u001b[1;36m70\u001b[0m ┆ \u001b[1;36m1996\u001b[0m      │\n",
       "│ Szabo      ┆      ┆            ┆ \u001b[1m(\u001b[0mSD\u001b[1m)\u001b[0m       ┆   ┆            ┆           ┆ ,\u001b[1;36m2.2\u001b[0m,\u001b[1;36m2.4\u001b[0m, ┆           │\n",
       "│            ┆      ┆            ┆            ┆   ┆            ┆           ┆ \u001b[1;36m0.2\u001b[0m\u001b[1m}\u001b[0m\u001b[1m]\u001b[0m     ┆           │\n",
       "│ Bo Outlaw  ┆ \u001b[1;36m26.0\u001b[0m ┆ LAC        ┆ Houston    ┆ … ┆ Undrafted  ┆ Undrafted ┆ \u001b[1m[\u001b[0m\u001b[1m{\u001b[0m\u001b[1;36m1996\u001b[0m,\u001b[1;36m82\u001b[0m ┆ \u001b[1;36m1996\u001b[0m      │\n",
       "│            ┆      ┆            ┆            ┆   ┆            ┆           ┆ ,\u001b[1;36m7.6\u001b[0m,\u001b[1;36m5.5\u001b[0m, ┆           │\n",
       "│            ┆      ┆            ┆            ┆   ┆            ┆           ┆ \u001b[1;36m1.9\u001b[0m\u001b[1m}\u001b[0m\u001b[1m]\u001b[0m     ┆           │\n",
       "│ Scott      ┆ \u001b[1;36m31.0\u001b[0m ┆ NYK        ┆ California ┆ … ┆ Undrafted  ┆ Undrafted ┆ \u001b[1m[\u001b[0m\u001b[1m{\u001b[0m\u001b[1;36m1996\u001b[0m,\u001b[1;36m38\u001b[0m ┆ \u001b[1;36m1996\u001b[0m      │\n",
       "│ Brooks     ┆      ┆            ┆ -Irvine    ┆   ┆            ┆           ┆ ,\u001b[1;36m1.5\u001b[0m,\u001b[1;36m0.5\u001b[0m, ┆           │\n",
       "│            ┆      ┆            ┆            ┆   ┆            ┆           ┆ \u001b[1;36m0.8\u001b[0m\u001b[1m}\u001b[0m\u001b[1m]\u001b[0m     ┆           │\n",
       "└────────────┴──────┴────────────┴────────────┴───┴────────────┴───────────┴───────────┴───────────┘"
      ]
     },
     "metadata": {},
     "output_type": "display_data"
    }
   ],
   "source": [
    "qr = \"\"\"\n",
    "WITH yesterday AS (\n",
    "    SELECT * FROM players\n",
    "    WHERE current_season={current_season}\n",
    "), today AS (\n",
    "    SELECT * FROM df\n",
    "    WHERE season='{season}'\n",
    ")\n",
    "SELECT\n",
    "    COALESCE(t.player_name, y.player_name) AS player_name,\n",
    "    COALESCE(t.age, y.age) AS age,\n",
    "    COALESCE(t.team_abbreviation, y.team_abbreviation) AS team_abbreviation,\n",
    "    COALESCE(t.college, y.college) AS college,\n",
    "    COALESCE(t.player_height, y.player_height) AS player_height,\n",
    "    COALESCE(t.player_weight, y.player_weight) AS player_weight,\n",
    "    COALESCE(t.draft_year, y.draft_year) AS draft_year,\n",
    "    COALESCE(t.draft_round, y.draft_round) AS draft_round,\n",
    "    COALESCE(t.draft_number, y.draft_number) AS draft_number,\n",
    "    -- Update for season_stats\n",
    "    CASE WHEN y.season_stats IS NULL\n",
    "        THEN ARRAY[ROW(\n",
    "            t.season[:4]::INTEGER,\n",
    "            t.gp,\n",
    "            t.pts,\n",
    "            t.reb,\n",
    "            t.ast\n",
    "        )::season_stats]\n",
    "    WHEN t.season IS NOT NULL\n",
    "        THEN y.season_stats || ARRAY[ROW(\n",
    "            t.season[:4]::INTEGER,\n",
    "            t.gp,\n",
    "            t.pts,\n",
    "            t.reb,\n",
    "            t.ast\n",
    "        )::season_stats]\n",
    "    ELSE y.season_stats\n",
    "    END AS season_stats,\n",
    "    -- Update for current_season,\n",
    "    COALESCE(t.season[:4]::INTEGER, y.current_season+1) AS current_season\n",
    "FROM today t\n",
    "FULL OUTER JOIN yesterday y\n",
    "ON t.player_name = y.player_name;\n",
    "\"\"\"\n",
    "query = qr.format(current_season=1995, season='1996-97')\n",
    "print(query)\n",
    "dfr = con.sql(query).pl()\n",
    "display(dfr.head())"
   ]
  },
  {
   "cell_type": "code",
   "execution_count": 8,
   "metadata": {},
   "outputs": [],
   "source": [
    "query_insert = \"\"\"INSERT INTO players\"\"\" + query\n",
    "con.sql(query_insert)"
   ]
  },
  {
   "cell_type": "code",
   "execution_count": 9,
   "metadata": {},
   "outputs": [],
   "source": [
    "for year in range(1997,2022):\n",
    "    season = '-'.join([str(year+1),str(year+2)[2:]])\n",
    "    query = qr.format(current_season=year, season=season)\n",
    "    # print(query)\n",
    "    query_insert = \"\"\"INSERT INTO players\"\"\" + query\n",
    "    # print(f\"Inserted: {season}\")\n",
    "    con.sql(query_insert)"
   ]
  },
  {
   "cell_type": "code",
   "execution_count": 10,
   "metadata": {},
   "outputs": [
    {
     "data": {
      "text/html": [
       "<pre style=\"white-space:pre;overflow-x:auto;line-height:normal;font-family:Menlo,'DejaVu Sans Mono',consolas,'Courier New',monospace\"></pre>\n"
      ],
      "text/plain": []
     },
     "metadata": {},
     "output_type": "display_data"
    },
    {
     "data": {
      "text/html": [
       "<div><style>\n",
       ".dataframe > thead > tr,\n",
       ".dataframe > tbody > tr {\n",
       "  text-align: right;\n",
       "  white-space: pre-wrap;\n",
       "}\n",
       "</style>\n",
       "<small>shape: (1, 11)</small><table border=\"1\" class=\"dataframe\"><thead><tr><th>player_name</th><th>age</th><th>team_abbreviation</th><th>college</th><th>player_height</th><th>player_weight</th><th>draft_year</th><th>draft_round</th><th>draft_number</th><th>season_stats</th><th>current_season</th></tr><tr><td>str</td><td>i32</td><td>str</td><td>str</td><td>f32</td><td>f32</td><td>str</td><td>str</td><td>str</td><td>list[struct[5]]</td><td>i32</td></tr></thead><tbody><tr><td>&quot;Kobe Bryant&quot;</td><td>37</td><td>&quot;LAL&quot;</td><td>&quot;None&quot;</td><td>198.119995</td><td>96.161507</td><td>&quot;1996&quot;</td><td>&quot;1&quot;</td><td>&quot;13&quot;</td><td>[{1998,50,19.9,5.3,3.8}, {1999,66,22.5,6.3,4.9}, … {2015,66,17.6,3.7,2.8}]</td><td>2021</td></tr></tbody></table></div>"
      ],
      "text/plain": [
       "\n",
       "shape: \u001b[1m(\u001b[0m\u001b[1;36m1\u001b[0m, \u001b[1;36m11\u001b[0m\u001b[1m)\u001b[0m\n",
       "┌─────────────┬─────┬────────────┬─────────┬───┬────────────┬────────────┬────────────┬────────────┐\n",
       "│ player_name ┆ age ┆ team_abbre ┆ college ┆ … ┆ draft_roun ┆ draft_numb ┆ season_sta ┆ current_se │\n",
       "│ ---         ┆ --- ┆ viation    ┆ ---     ┆   ┆ d          ┆ er         ┆ ts         ┆ ason       │\n",
       "│ str         ┆ i32 ┆ ---        ┆ str     ┆   ┆ ---        ┆ ---        ┆ ---        ┆ ---        │\n",
       "│             ┆     ┆ str        ┆         ┆   ┆ str        ┆ str        ┆ list\u001b[1m[\u001b[0mstruc ┆ i32        │\n",
       "│             ┆     ┆            ┆         ┆   ┆            ┆            ┆ t\u001b[1m[\u001b[0m\u001b[1;36m5\u001b[0m\u001b[1m]\u001b[0m\u001b[1m]\u001b[0m      ┆            │\n",
       "╞═════════════╪═════╪════════════╪═════════╪═══╪════════════╪════════════╪════════════╪════════════╡\n",
       "│ Kobe Bryant ┆ \u001b[1;36m37\u001b[0m  ┆ LAL        ┆ \u001b[3;35mNone\u001b[0m    ┆ … ┆ \u001b[1;36m1\u001b[0m          ┆ \u001b[1;36m13\u001b[0m         ┆ \u001b[1m[\u001b[0m\u001b[1m{\u001b[0m\u001b[1;36m1998\u001b[0m,\u001b[1;36m50\u001b[0m, ┆ \u001b[1;36m2021\u001b[0m       │\n",
       "│             ┆     ┆            ┆         ┆   ┆            ┆            ┆ \u001b[1;36m19.9\u001b[0m,\u001b[1;36m5.3\u001b[0m,\u001b[1;36m3\u001b[0m ┆            │\n",
       "│             ┆     ┆            ┆         ┆   ┆            ┆            ┆ .\u001b[1;36m8\u001b[0m\u001b[1m}\u001b[0m,       ┆            │\n",
       "│             ┆     ┆            ┆         ┆   ┆            ┆            ┆ \u001b[1m{\u001b[0m\u001b[1;36m1999\u001b[0m…     ┆            │\n",
       "└─────────────┴─────┴────────────┴─────────┴───┴────────────┴────────────┴────────────┴────────────┘"
      ]
     },
     "metadata": {},
     "output_type": "display_data"
    }
   ],
   "source": [
    "qr = \"\"\"\n",
    "SELECT * FROM players\n",
    "WHERE current_season=2021\n",
    "AND player_name='Kobe Bryant'\n",
    "\"\"\"\n",
    "display(\n",
    "    con.sql(qr).pl()\n",
    ")\n"
   ]
  },
  {
   "cell_type": "code",
   "execution_count": 11,
   "metadata": {},
   "outputs": [
    {
     "data": {
      "text/html": [
       "<pre style=\"white-space:pre;overflow-x:auto;line-height:normal;font-family:Menlo,'DejaVu Sans Mono',consolas,'Courier New',monospace\"></pre>\n"
      ],
      "text/plain": []
     },
     "metadata": {},
     "output_type": "display_data"
    },
    {
     "data": {
      "text/html": [
       "<div><style>\n",
       ".dataframe > thead > tr,\n",
       ".dataframe > tbody > tr {\n",
       "  text-align: right;\n",
       "  white-space: pre-wrap;\n",
       "}\n",
       "</style>\n",
       "<small>shape: (18, 2)</small><table border=\"1\" class=\"dataframe\"><thead><tr><th>player_name</th><th>unnest(season_stats)</th></tr><tr><td>str</td><td>struct[5]</td></tr></thead><tbody><tr><td>&quot;Kobe Bryant&quot;</td><td>{1998,50,19.9,5.3,3.8}</td></tr><tr><td>&quot;Kobe Bryant&quot;</td><td>{1999,66,22.5,6.3,4.9}</td></tr><tr><td>&quot;Kobe Bryant&quot;</td><td>{2000,68,28.5,5.9,5.0}</td></tr><tr><td>&quot;Kobe Bryant&quot;</td><td>{2001,80,25.200001,5.5,5.5}</td></tr><tr><td>&quot;Kobe Bryant&quot;</td><td>{2002,82,30.0,6.9,5.9}</td></tr><tr><td>&hellip;</td><td>&hellip;</td></tr><tr><td>&quot;Kobe Bryant&quot;</td><td>{2011,58,27.9,5.4,4.6}</td></tr><tr><td>&quot;Kobe Bryant&quot;</td><td>{2012,78,27.299999,5.6,6.0}</td></tr><tr><td>&quot;Kobe Bryant&quot;</td><td>{2013,6,13.8,4.3,6.3}</td></tr><tr><td>&quot;Kobe Bryant&quot;</td><td>{2014,35,22.299999,5.7,5.6}</td></tr><tr><td>&quot;Kobe Bryant&quot;</td><td>{2015,66,17.6,3.7,2.8}</td></tr></tbody></table></div>"
      ],
      "text/plain": [
       "\n",
       "shape: \u001b[1m(\u001b[0m\u001b[1;36m18\u001b[0m, \u001b[1;36m2\u001b[0m\u001b[1m)\u001b[0m\n",
       "┌─────────────┬─────────────────────────────┐\n",
       "│ player_name ┆ \u001b[1;35munnest\u001b[0m\u001b[1m(\u001b[0mseason_stats\u001b[1m)\u001b[0m        │\n",
       "│ ---         ┆ ---                         │\n",
       "│ str         ┆ struct\u001b[1m[\u001b[0m\u001b[1;36m5\u001b[0m\u001b[1m]\u001b[0m                   │\n",
       "╞═════════════╪═════════════════════════════╡\n",
       "│ Kobe Bryant ┆ \u001b[1m{\u001b[0m\u001b[1;36m1998\u001b[0m,\u001b[1;36m50\u001b[0m,\u001b[1;36m19.9\u001b[0m,\u001b[1;36m5.3\u001b[0m,\u001b[1;36m3.8\u001b[0m\u001b[1m}\u001b[0m      │\n",
       "│ Kobe Bryant ┆ \u001b[1m{\u001b[0m\u001b[1;36m1999\u001b[0m,\u001b[1;36m66\u001b[0m,\u001b[1;36m22.5\u001b[0m,\u001b[1;36m6.3\u001b[0m,\u001b[1;36m4.9\u001b[0m\u001b[1m}\u001b[0m      │\n",
       "│ Kobe Bryant ┆ \u001b[1m{\u001b[0m\u001b[1;36m2000\u001b[0m,\u001b[1;36m68\u001b[0m,\u001b[1;36m28.5\u001b[0m,\u001b[1;36m5.9\u001b[0m,\u001b[1;36m5.0\u001b[0m\u001b[1m}\u001b[0m      │\n",
       "│ Kobe Bryant ┆ \u001b[1m{\u001b[0m\u001b[1;36m2001\u001b[0m,\u001b[1;36m80\u001b[0m,\u001b[1;36m25.200001\u001b[0m,\u001b[1;36m5.5\u001b[0m,\u001b[1;36m5.5\u001b[0m\u001b[1m}\u001b[0m │\n",
       "│ Kobe Bryant ┆ \u001b[1m{\u001b[0m\u001b[1;36m2002\u001b[0m,\u001b[1;36m82\u001b[0m,\u001b[1;36m30.0\u001b[0m,\u001b[1;36m6.9\u001b[0m,\u001b[1;36m5.9\u001b[0m\u001b[1m}\u001b[0m      │\n",
       "│ …           ┆ …                           │\n",
       "│ Kobe Bryant ┆ \u001b[1m{\u001b[0m\u001b[1;36m2011\u001b[0m,\u001b[1;36m58\u001b[0m,\u001b[1;36m27.9\u001b[0m,\u001b[1;36m5.4\u001b[0m,\u001b[1;36m4.6\u001b[0m\u001b[1m}\u001b[0m      │\n",
       "│ Kobe Bryant ┆ \u001b[1m{\u001b[0m\u001b[1;36m2012\u001b[0m,\u001b[1;36m78\u001b[0m,\u001b[1;36m27.299999\u001b[0m,\u001b[1;36m5.6\u001b[0m,\u001b[1;36m6.0\u001b[0m\u001b[1m}\u001b[0m │\n",
       "│ Kobe Bryant ┆ \u001b[1m{\u001b[0m\u001b[1;36m2013\u001b[0m,\u001b[1;36m6\u001b[0m,\u001b[1;36m13.8\u001b[0m,\u001b[1;36m4.3\u001b[0m,\u001b[1;36m6.3\u001b[0m\u001b[1m}\u001b[0m       │\n",
       "│ Kobe Bryant ┆ \u001b[1m{\u001b[0m\u001b[1;36m2014\u001b[0m,\u001b[1;36m35\u001b[0m,\u001b[1;36m22.299999\u001b[0m,\u001b[1;36m5.7\u001b[0m,\u001b[1;36m5.6\u001b[0m\u001b[1m}\u001b[0m │\n",
       "│ Kobe Bryant ┆ \u001b[1m{\u001b[0m\u001b[1;36m2015\u001b[0m,\u001b[1;36m66\u001b[0m,\u001b[1;36m17.6\u001b[0m,\u001b[1;36m3.7\u001b[0m,\u001b[1;36m2.8\u001b[0m\u001b[1m}\u001b[0m      │\n",
       "└─────────────┴─────────────────────────────┘"
      ]
     },
     "metadata": {},
     "output_type": "display_data"
    }
   ],
   "source": [
    "qr = \"\"\"\n",
    "SELECT\n",
    "    player_name,\n",
    "    UNNEST(season_stats) FROM players\n",
    "WHERE current_season=2021\n",
    "AND player_name='Kobe Bryant'\n",
    "\"\"\"\n",
    "display(\n",
    "    con.sql(qr).pl()\n",
    ")"
   ]
  },
  {
   "cell_type": "code",
   "execution_count": 12,
   "metadata": {},
   "outputs": [
    {
     "data": {
      "text/html": [
       "<pre style=\"white-space:pre;overflow-x:auto;line-height:normal;font-family:Menlo,'DejaVu Sans Mono',consolas,'Courier New',monospace\"></pre>\n"
      ],
      "text/plain": []
     },
     "metadata": {},
     "output_type": "display_data"
    },
    {
     "data": {
      "text/html": [
       "<div><style>\n",
       ".dataframe > thead > tr,\n",
       ".dataframe > tbody > tr {\n",
       "  text-align: right;\n",
       "  white-space: pre-wrap;\n",
       "}\n",
       "</style>\n",
       "<small>shape: (18, 6)</small><table border=\"1\" class=\"dataframe\"><thead><tr><th>player_name</th><th>season</th><th>gp</th><th>pts</th><th>reb</th><th>ast</th></tr><tr><td>str</td><td>i32</td><td>i32</td><td>f32</td><td>f32</td><td>f32</td></tr></thead><tbody><tr><td>&quot;Kobe Bryant&quot;</td><td>1998</td><td>50</td><td>19.9</td><td>5.3</td><td>3.8</td></tr><tr><td>&quot;Kobe Bryant&quot;</td><td>1999</td><td>66</td><td>22.5</td><td>6.3</td><td>4.9</td></tr><tr><td>&quot;Kobe Bryant&quot;</td><td>2000</td><td>68</td><td>28.5</td><td>5.9</td><td>5.0</td></tr><tr><td>&quot;Kobe Bryant&quot;</td><td>2001</td><td>80</td><td>25.200001</td><td>5.5</td><td>5.5</td></tr><tr><td>&quot;Kobe Bryant&quot;</td><td>2002</td><td>82</td><td>30.0</td><td>6.9</td><td>5.9</td></tr><tr><td>&hellip;</td><td>&hellip;</td><td>&hellip;</td><td>&hellip;</td><td>&hellip;</td><td>&hellip;</td></tr><tr><td>&quot;Kobe Bryant&quot;</td><td>2011</td><td>58</td><td>27.9</td><td>5.4</td><td>4.6</td></tr><tr><td>&quot;Kobe Bryant&quot;</td><td>2012</td><td>78</td><td>27.299999</td><td>5.6</td><td>6.0</td></tr><tr><td>&quot;Kobe Bryant&quot;</td><td>2013</td><td>6</td><td>13.8</td><td>4.3</td><td>6.3</td></tr><tr><td>&quot;Kobe Bryant&quot;</td><td>2014</td><td>35</td><td>22.299999</td><td>5.7</td><td>5.6</td></tr><tr><td>&quot;Kobe Bryant&quot;</td><td>2015</td><td>66</td><td>17.6</td><td>3.7</td><td>2.8</td></tr></tbody></table></div>"
      ],
      "text/plain": [
       "\n",
       "shape: \u001b[1m(\u001b[0m\u001b[1;36m18\u001b[0m, \u001b[1;36m6\u001b[0m\u001b[1m)\u001b[0m\n",
       "┌─────────────┬────────┬─────┬───────────┬─────┬─────┐\n",
       "│ player_name ┆ season ┆ gp  ┆ pts       ┆ reb ┆ ast │\n",
       "│ ---         ┆ ---    ┆ --- ┆ ---       ┆ --- ┆ --- │\n",
       "│ str         ┆ i32    ┆ i32 ┆ f32       ┆ f32 ┆ f32 │\n",
       "╞═════════════╪════════╪═════╪═══════════╪═════╪═════╡\n",
       "│ Kobe Bryant ┆ \u001b[1;36m1998\u001b[0m   ┆ \u001b[1;36m50\u001b[0m  ┆ \u001b[1;36m19.9\u001b[0m      ┆ \u001b[1;36m5.3\u001b[0m ┆ \u001b[1;36m3.8\u001b[0m │\n",
       "│ Kobe Bryant ┆ \u001b[1;36m1999\u001b[0m   ┆ \u001b[1;36m66\u001b[0m  ┆ \u001b[1;36m22.5\u001b[0m      ┆ \u001b[1;36m6.3\u001b[0m ┆ \u001b[1;36m4.9\u001b[0m │\n",
       "│ Kobe Bryant ┆ \u001b[1;36m2000\u001b[0m   ┆ \u001b[1;36m68\u001b[0m  ┆ \u001b[1;36m28.5\u001b[0m      ┆ \u001b[1;36m5.9\u001b[0m ┆ \u001b[1;36m5.0\u001b[0m │\n",
       "│ Kobe Bryant ┆ \u001b[1;36m2001\u001b[0m   ┆ \u001b[1;36m80\u001b[0m  ┆ \u001b[1;36m25.200001\u001b[0m ┆ \u001b[1;36m5.5\u001b[0m ┆ \u001b[1;36m5.5\u001b[0m │\n",
       "│ Kobe Bryant ┆ \u001b[1;36m2002\u001b[0m   ┆ \u001b[1;36m82\u001b[0m  ┆ \u001b[1;36m30.0\u001b[0m      ┆ \u001b[1;36m6.9\u001b[0m ┆ \u001b[1;36m5.9\u001b[0m │\n",
       "│ …           ┆ …      ┆ …   ┆ …         ┆ …   ┆ …   │\n",
       "│ Kobe Bryant ┆ \u001b[1;36m2011\u001b[0m   ┆ \u001b[1;36m58\u001b[0m  ┆ \u001b[1;36m27.9\u001b[0m      ┆ \u001b[1;36m5.4\u001b[0m ┆ \u001b[1;36m4.6\u001b[0m │\n",
       "│ Kobe Bryant ┆ \u001b[1;36m2012\u001b[0m   ┆ \u001b[1;36m78\u001b[0m  ┆ \u001b[1;36m27.299999\u001b[0m ┆ \u001b[1;36m5.6\u001b[0m ┆ \u001b[1;36m6.0\u001b[0m │\n",
       "│ Kobe Bryant ┆ \u001b[1;36m2013\u001b[0m   ┆ \u001b[1;36m6\u001b[0m   ┆ \u001b[1;36m13.8\u001b[0m      ┆ \u001b[1;36m4.3\u001b[0m ┆ \u001b[1;36m6.3\u001b[0m │\n",
       "│ Kobe Bryant ┆ \u001b[1;36m2014\u001b[0m   ┆ \u001b[1;36m35\u001b[0m  ┆ \u001b[1;36m22.299999\u001b[0m ┆ \u001b[1;36m5.7\u001b[0m ┆ \u001b[1;36m5.6\u001b[0m │\n",
       "│ Kobe Bryant ┆ \u001b[1;36m2015\u001b[0m   ┆ \u001b[1;36m66\u001b[0m  ┆ \u001b[1;36m17.6\u001b[0m      ┆ \u001b[1;36m3.7\u001b[0m ┆ \u001b[1;36m2.8\u001b[0m │\n",
       "└─────────────┴────────┴─────┴───────────┴─────┴─────┘"
      ]
     },
     "metadata": {},
     "output_type": "display_data"
    }
   ],
   "source": [
    "\n",
    "qr = \"\"\"\n",
    "WITH expansion AS (\n",
    "    SELECT\n",
    "        player_name,\n",
    "        UNNEST(season_stats)::season_stats AS season_stats\n",
    "    FROM players\n",
    "    WHERE current_season=2021\n",
    "    AND player_name='Kobe Bryant'\n",
    ")\n",
    "SELECT\n",
    "    player_name,\n",
    "    season_stats.*\n",
    "FROM expansion\n",
    "\"\"\"\n",
    "display(\n",
    "    con.sql(qr).pl()\n",
    ")"
   ]
  },
  {
   "cell_type": "code",
   "execution_count": 13,
   "metadata": {},
   "outputs": [],
   "source": [
    "qr = \"\"\"\n",
    "DROP TYPE IF EXISTS scoring_class;\n",
    "CREATE TYPE scoring_class AS ENUM ('star', 'good', 'average', 'bad');\n",
    "\"\"\"\n",
    "con.sql(qr)\n",
    "qr = \"\"\"\n",
    "DROP TABLE IF EXISTS players;\n",
    "CREATE TABLE players (\n",
    "    player_name TEXT,\n",
    "    age INTEGER,\n",
    "    team_abbreviation TEXT,\n",
    "    college TEXT,\n",
    "    player_height FLOAT,\n",
    "    player_weight FLOAT,\n",
    "    draft_year TEXT,\n",
    "    draft_round TEXT,\n",
    "    draft_number TEXT,\n",
    "    season_stats season_stats[],\n",
    "    scoring_class scoring_class,\n",
    "    years_since_last_season INTEGER,\n",
    "    current_season INTEGER,\n",
    "    PRIMARY KEY(player_name, current_season, team_abbreviation, college)\n",
    ")\n",
    "\"\"\"\n",
    "con.sql(qr)"
   ]
  },
  {
   "cell_type": "code",
   "execution_count": 14,
   "metadata": {},
   "outputs": [
    {
     "data": {
      "text/html": [
       "<pre style=\"white-space:pre;overflow-x:auto;line-height:normal;font-family:Menlo,'DejaVu Sans Mono',consolas,'Courier New',monospace\">\n",
       "WITH yesterday AS <span style=\"font-weight: bold\">(</span>\n",
       "    SELECT * FROM players\n",
       "    WHERE <span style=\"color: #808000; text-decoration-color: #808000\">current_season</span>=<span style=\"color: #008080; text-decoration-color: #008080; font-weight: bold\">1995</span>\n",
       "<span style=\"font-weight: bold\">)</span>, today AS <span style=\"font-weight: bold\">(</span>\n",
       "    SELECT * FROM df\n",
       "    WHERE <span style=\"color: #808000; text-decoration-color: #808000\">season</span>=<span style=\"color: #008000; text-decoration-color: #008000\">'1996-97'</span>\n",
       "<span style=\"font-weight: bold\">)</span>\n",
       "SELECT\n",
       "    <span style=\"color: #800080; text-decoration-color: #800080; font-weight: bold\">COALESCE</span><span style=\"font-weight: bold\">(</span>t.player_name, y.player_name<span style=\"font-weight: bold\">)</span> AS player_name,\n",
       "    <span style=\"color: #800080; text-decoration-color: #800080; font-weight: bold\">COALESCE</span><span style=\"font-weight: bold\">(</span>t.age, y.age<span style=\"font-weight: bold\">)</span> AS age,\n",
       "    <span style=\"color: #800080; text-decoration-color: #800080; font-weight: bold\">COALESCE</span><span style=\"font-weight: bold\">(</span>t.team_abbreviation, y.team_abbreviation<span style=\"font-weight: bold\">)</span> AS team_abbreviation,\n",
       "    <span style=\"color: #800080; text-decoration-color: #800080; font-weight: bold\">COALESCE</span><span style=\"font-weight: bold\">(</span>t.college, y.college<span style=\"font-weight: bold\">)</span> AS college,\n",
       "    <span style=\"color: #800080; text-decoration-color: #800080; font-weight: bold\">COALESCE</span><span style=\"font-weight: bold\">(</span>t.player_height, y.player_height<span style=\"font-weight: bold\">)</span> AS player_height,\n",
       "    <span style=\"color: #800080; text-decoration-color: #800080; font-weight: bold\">COALESCE</span><span style=\"font-weight: bold\">(</span>t.player_weight, y.player_weight<span style=\"font-weight: bold\">)</span> AS player_weight,\n",
       "    <span style=\"color: #800080; text-decoration-color: #800080; font-weight: bold\">COALESCE</span><span style=\"font-weight: bold\">(</span>t.draft_year, y.draft_year<span style=\"font-weight: bold\">)</span> AS draft_year,\n",
       "    <span style=\"color: #800080; text-decoration-color: #800080; font-weight: bold\">COALESCE</span><span style=\"font-weight: bold\">(</span>t.draft_round, y.draft_round<span style=\"font-weight: bold\">)</span> AS draft_round,\n",
       "    <span style=\"color: #800080; text-decoration-color: #800080; font-weight: bold\">COALESCE</span><span style=\"font-weight: bold\">(</span>t.draft_number, y.draft_number<span style=\"font-weight: bold\">)</span> AS draft_number,\n",
       "    -- Update for season_stats\n",
       "    CASE WHEN y.season_stats IS NULL\n",
       "        THEN ARRAY<span style=\"font-weight: bold\">[</span><span style=\"color: #800080; text-decoration-color: #800080; font-weight: bold\">ROW</span><span style=\"font-weight: bold\">(</span>\n",
       "            t.season<span style=\"font-weight: bold\">[</span>:<span style=\"color: #008080; text-decoration-color: #008080; font-weight: bold\">4</span><span style=\"font-weight: bold\">]</span>::INTEGER,\n",
       "            t.gp,\n",
       "            t.pts,\n",
       "            t.reb,\n",
       "            t.ast\n",
       "        <span style=\"font-weight: bold\">)</span>::season_stats<span style=\"font-weight: bold\">]</span>\n",
       "    WHEN t.season IS NOT NULL\n",
       "        THEN y.season_stats || ARRAY<span style=\"font-weight: bold\">[</span><span style=\"color: #800080; text-decoration-color: #800080; font-weight: bold\">ROW</span><span style=\"font-weight: bold\">(</span>\n",
       "            t.season<span style=\"font-weight: bold\">[</span>:<span style=\"color: #008080; text-decoration-color: #008080; font-weight: bold\">4</span><span style=\"font-weight: bold\">]</span>::INTEGER,\n",
       "            t.gp,\n",
       "            t.pts,\n",
       "            t.reb,\n",
       "            t.ast\n",
       "        <span style=\"font-weight: bold\">)</span>::season_stats<span style=\"font-weight: bold\">]</span>\n",
       "    ELSE y.season_stats\n",
       "    END AS season_stats,\n",
       "    -- Scoring\n",
       "    CASE\n",
       "        WHEN t.season IS NOT NULL THEN\n",
       "            CASE\n",
       "                WHEN t.pts &gt; <span style=\"color: #008080; text-decoration-color: #008080; font-weight: bold\">20</span> THEN <span style=\"color: #008000; text-decoration-color: #008000\">'star'</span>\n",
       "                WHEN t.pts &gt; <span style=\"color: #008080; text-decoration-color: #008080; font-weight: bold\">15</span> THEN <span style=\"color: #008000; text-decoration-color: #008000\">'good'</span>\n",
       "                WHEN t.pts &gt; <span style=\"color: #008080; text-decoration-color: #008080; font-weight: bold\">10</span> THEN <span style=\"color: #008000; text-decoration-color: #008000\">'average'</span>\n",
       "                ELSE <span style=\"color: #008000; text-decoration-color: #008000\">'bad'</span>\n",
       "            END::scoring_class\n",
       "        ELSE y.scoring_class\n",
       "    END AS scoring_class,\n",
       "    -- Years active\n",
       "    CASE WHEN t.season IS NOT NULL THEN <span style=\"color: #008080; text-decoration-color: #008080; font-weight: bold\">0</span>\n",
       "        ELSE y.years_since_last_season + <span style=\"color: #008080; text-decoration-color: #008080; font-weight: bold\">1</span>\n",
       "    END AS years_since_last_season,\n",
       "    -- Update for current_season,\n",
       "    <span style=\"color: #800080; text-decoration-color: #800080; font-weight: bold\">COALESCE</span><span style=\"font-weight: bold\">(</span>t.season<span style=\"font-weight: bold\">[</span>:<span style=\"color: #008080; text-decoration-color: #008080; font-weight: bold\">4</span><span style=\"font-weight: bold\">]</span>::INTEGER, y.current_season+<span style=\"color: #008080; text-decoration-color: #008080; font-weight: bold\">1</span><span style=\"font-weight: bold\">)</span> AS current_season\n",
       "FROM today t\n",
       "FULL OUTER JOIN yesterday y\n",
       "ON t.player_name = y.player_name;\n",
       "\n",
       "</pre>\n"
      ],
      "text/plain": [
       "\n",
       "WITH yesterday AS \u001b[1m(\u001b[0m\n",
       "    SELECT * FROM players\n",
       "    WHERE \u001b[33mcurrent_season\u001b[0m=\u001b[1;36m1995\u001b[0m\n",
       "\u001b[1m)\u001b[0m, today AS \u001b[1m(\u001b[0m\n",
       "    SELECT * FROM df\n",
       "    WHERE \u001b[33mseason\u001b[0m=\u001b[32m'1996-97'\u001b[0m\n",
       "\u001b[1m)\u001b[0m\n",
       "SELECT\n",
       "    \u001b[1;35mCOALESCE\u001b[0m\u001b[1m(\u001b[0mt.player_name, y.player_name\u001b[1m)\u001b[0m AS player_name,\n",
       "    \u001b[1;35mCOALESCE\u001b[0m\u001b[1m(\u001b[0mt.age, y.age\u001b[1m)\u001b[0m AS age,\n",
       "    \u001b[1;35mCOALESCE\u001b[0m\u001b[1m(\u001b[0mt.team_abbreviation, y.team_abbreviation\u001b[1m)\u001b[0m AS team_abbreviation,\n",
       "    \u001b[1;35mCOALESCE\u001b[0m\u001b[1m(\u001b[0mt.college, y.college\u001b[1m)\u001b[0m AS college,\n",
       "    \u001b[1;35mCOALESCE\u001b[0m\u001b[1m(\u001b[0mt.player_height, y.player_height\u001b[1m)\u001b[0m AS player_height,\n",
       "    \u001b[1;35mCOALESCE\u001b[0m\u001b[1m(\u001b[0mt.player_weight, y.player_weight\u001b[1m)\u001b[0m AS player_weight,\n",
       "    \u001b[1;35mCOALESCE\u001b[0m\u001b[1m(\u001b[0mt.draft_year, y.draft_year\u001b[1m)\u001b[0m AS draft_year,\n",
       "    \u001b[1;35mCOALESCE\u001b[0m\u001b[1m(\u001b[0mt.draft_round, y.draft_round\u001b[1m)\u001b[0m AS draft_round,\n",
       "    \u001b[1;35mCOALESCE\u001b[0m\u001b[1m(\u001b[0mt.draft_number, y.draft_number\u001b[1m)\u001b[0m AS draft_number,\n",
       "    -- Update for season_stats\n",
       "    CASE WHEN y.season_stats IS NULL\n",
       "        THEN ARRAY\u001b[1m[\u001b[0m\u001b[1;35mROW\u001b[0m\u001b[1m(\u001b[0m\n",
       "            t.season\u001b[1m[\u001b[0m:\u001b[1;36m4\u001b[0m\u001b[1m]\u001b[0m::INTEGER,\n",
       "            t.gp,\n",
       "            t.pts,\n",
       "            t.reb,\n",
       "            t.ast\n",
       "        \u001b[1m)\u001b[0m::season_stats\u001b[1m]\u001b[0m\n",
       "    WHEN t.season IS NOT NULL\n",
       "        THEN y.season_stats || ARRAY\u001b[1m[\u001b[0m\u001b[1;35mROW\u001b[0m\u001b[1m(\u001b[0m\n",
       "            t.season\u001b[1m[\u001b[0m:\u001b[1;36m4\u001b[0m\u001b[1m]\u001b[0m::INTEGER,\n",
       "            t.gp,\n",
       "            t.pts,\n",
       "            t.reb,\n",
       "            t.ast\n",
       "        \u001b[1m)\u001b[0m::season_stats\u001b[1m]\u001b[0m\n",
       "    ELSE y.season_stats\n",
       "    END AS season_stats,\n",
       "    -- Scoring\n",
       "    CASE\n",
       "        WHEN t.season IS NOT NULL THEN\n",
       "            CASE\n",
       "                WHEN t.pts > \u001b[1;36m20\u001b[0m THEN \u001b[32m'star'\u001b[0m\n",
       "                WHEN t.pts > \u001b[1;36m15\u001b[0m THEN \u001b[32m'good'\u001b[0m\n",
       "                WHEN t.pts > \u001b[1;36m10\u001b[0m THEN \u001b[32m'average'\u001b[0m\n",
       "                ELSE \u001b[32m'bad'\u001b[0m\n",
       "            END::scoring_class\n",
       "        ELSE y.scoring_class\n",
       "    END AS scoring_class,\n",
       "    -- Years active\n",
       "    CASE WHEN t.season IS NOT NULL THEN \u001b[1;36m0\u001b[0m\n",
       "        ELSE y.years_since_last_season + \u001b[1;36m1\u001b[0m\n",
       "    END AS years_since_last_season,\n",
       "    -- Update for current_season,\n",
       "    \u001b[1;35mCOALESCE\u001b[0m\u001b[1m(\u001b[0mt.season\u001b[1m[\u001b[0m:\u001b[1;36m4\u001b[0m\u001b[1m]\u001b[0m::INTEGER, y.current_season+\u001b[1;36m1\u001b[0m\u001b[1m)\u001b[0m AS current_season\n",
       "FROM today t\n",
       "FULL OUTER JOIN yesterday y\n",
       "ON t.player_name = y.player_name;\n",
       "\n"
      ]
     },
     "metadata": {},
     "output_type": "display_data"
    },
    {
     "data": {
      "text/html": [
       "<pre style=\"white-space:pre;overflow-x:auto;line-height:normal;font-family:Menlo,'DejaVu Sans Mono',consolas,'Courier New',monospace\"></pre>\n"
      ],
      "text/plain": []
     },
     "metadata": {},
     "output_type": "display_data"
    },
    {
     "data": {
      "text/html": [
       "<div><style>\n",
       ".dataframe > thead > tr,\n",
       ".dataframe > tbody > tr {\n",
       "  text-align: right;\n",
       "  white-space: pre-wrap;\n",
       "}\n",
       "</style>\n",
       "<small>shape: (5, 13)</small><table border=\"1\" class=\"dataframe\"><thead><tr><th>player_name</th><th>age</th><th>team_abbreviation</th><th>college</th><th>player_height</th><th>player_weight</th><th>draft_year</th><th>draft_round</th><th>draft_number</th><th>season_stats</th><th>scoring_class</th><th>years_since_last_season</th><th>current_season</th></tr><tr><td>str</td><td>f64</td><td>str</td><td>str</td><td>f64</td><td>f64</td><td>str</td><td>str</td><td>str</td><td>list[struct[5]]</td><td>cat</td><td>i32</td><td>i32</td></tr></thead><tbody><tr><td>&quot;Antonio Lang&quot;</td><td>25.0</td><td>&quot;CLE&quot;</td><td>&quot;Duke&quot;</td><td>203.2</td><td>104.32616</td><td>&quot;1994&quot;</td><td>&quot;2&quot;</td><td>&quot;29&quot;</td><td>[{1996,64,2.7,2.0,0.5}]</td><td>&quot;bad&quot;</td><td>0</td><td>1996</td></tr><tr><td>&quot;Aleksandar Djordjevic&quot;</td><td>29.0</td><td>&quot;POR&quot;</td><td>&quot;None&quot;</td><td>187.96</td><td>89.811216</td><td>&quot;Undrafted&quot;</td><td>&quot;Undrafted&quot;</td><td>&quot;Undrafted&quot;</td><td>[{1996,8,3.1,0.6,0.6}]</td><td>&quot;bad&quot;</td><td>0</td><td>1996</td></tr><tr><td>&quot;Brett Szabo&quot;</td><td>29.0</td><td>&quot;BOS&quot;</td><td>&quot;Augustana (SD)&quot;</td><td>210.82</td><td>104.32616</td><td>&quot;Undrafted&quot;</td><td>&quot;Undrafted&quot;</td><td>&quot;Undrafted&quot;</td><td>[{1996,70,2.2,2.4,0.2}]</td><td>&quot;bad&quot;</td><td>0</td><td>1996</td></tr><tr><td>&quot;Bo Outlaw&quot;</td><td>26.0</td><td>&quot;LAC&quot;</td><td>&quot;Houston&quot;</td><td>203.2</td><td>95.25432</td><td>&quot;Undrafted&quot;</td><td>&quot;Undrafted&quot;</td><td>&quot;Undrafted&quot;</td><td>[{1996,82,7.6,5.5,1.9}]</td><td>&quot;bad&quot;</td><td>0</td><td>1996</td></tr><tr><td>&quot;Scott Brooks&quot;</td><td>31.0</td><td>&quot;NYK&quot;</td><td>&quot;California-Irvine&quot;</td><td>180.34</td><td>74.84268</td><td>&quot;Undrafted&quot;</td><td>&quot;Undrafted&quot;</td><td>&quot;Undrafted&quot;</td><td>[{1996,38,1.5,0.5,0.8}]</td><td>&quot;bad&quot;</td><td>0</td><td>1996</td></tr></tbody></table></div>"
      ],
      "text/plain": [
       "\n",
       "shape: \u001b[1m(\u001b[0m\u001b[1;36m5\u001b[0m, \u001b[1;36m13\u001b[0m\u001b[1m)\u001b[0m\n",
       "┌────────────┬──────┬────────────┬────────────┬───┬────────────┬───────────┬───────────┬───────────┐\n",
       "│ player_nam ┆ age  ┆ team_abbre ┆ college    ┆ … ┆ season_sta ┆ scoring_c ┆ years_sin ┆ current_s │\n",
       "│ e          ┆ ---  ┆ viation    ┆ ---        ┆   ┆ ts         ┆ lass      ┆ ce_last_s ┆ eason     │\n",
       "│ ---        ┆ f64  ┆ ---        ┆ str        ┆   ┆ ---        ┆ ---       ┆ eason     ┆ ---       │\n",
       "│ str        ┆      ┆ str        ┆            ┆   ┆ list\u001b[1m[\u001b[0mstruc ┆ cat       ┆ ---       ┆ i32       │\n",
       "│            ┆      ┆            ┆            ┆   ┆ t\u001b[1m[\u001b[0m\u001b[1;36m5\u001b[0m\u001b[1m]\u001b[0m\u001b[1m]\u001b[0m      ┆           ┆ i32       ┆           │\n",
       "╞════════════╪══════╪════════════╪════════════╪═══╪════════════╪═══════════╪═══════════╪═══════════╡\n",
       "│ Antonio    ┆ \u001b[1;36m25.0\u001b[0m ┆ CLE        ┆ Duke       ┆ … ┆ \u001b[1m[\u001b[0m\u001b[1m{\u001b[0m\u001b[1;36m1996\u001b[0m,\u001b[1;36m64\u001b[0m, ┆ bad       ┆ \u001b[1;36m0\u001b[0m         ┆ \u001b[1;36m1996\u001b[0m      │\n",
       "│ Lang       ┆      ┆            ┆            ┆   ┆ \u001b[1;36m2.7\u001b[0m,\u001b[1;36m2.0\u001b[0m,\u001b[1;36m0\u001b[0m. ┆           ┆           ┆           │\n",
       "│            ┆      ┆            ┆            ┆   ┆ \u001b[1;36m5\u001b[0m\u001b[1m}\u001b[0m\u001b[1m]\u001b[0m        ┆           ┆           ┆           │\n",
       "│ Aleksandar ┆ \u001b[1;36m29.0\u001b[0m ┆ POR        ┆ \u001b[3;35mNone\u001b[0m       ┆ … ┆ \u001b[1m[\u001b[0m\u001b[1m{\u001b[0m\u001b[1;36m1996\u001b[0m,\u001b[1;36m8\u001b[0m,\u001b[1;36m3\u001b[0m ┆ bad       ┆ \u001b[1;36m0\u001b[0m         ┆ \u001b[1;36m1996\u001b[0m      │\n",
       "│ Djordjevic ┆      ┆            ┆            ┆   ┆ .\u001b[1;36m1\u001b[0m,\u001b[1;36m0.6\u001b[0m,\u001b[1;36m0.6\u001b[0m ┆           ┆           ┆           │\n",
       "│            ┆      ┆            ┆            ┆   ┆ \u001b[1m}\u001b[0m\u001b[1m]\u001b[0m         ┆           ┆           ┆           │\n",
       "│ Brett      ┆ \u001b[1;36m29.0\u001b[0m ┆ BOS        ┆ Augustana  ┆ … ┆ \u001b[1m[\u001b[0m\u001b[1m{\u001b[0m\u001b[1;36m1996\u001b[0m,\u001b[1;36m70\u001b[0m, ┆ bad       ┆ \u001b[1;36m0\u001b[0m         ┆ \u001b[1;36m1996\u001b[0m      │\n",
       "│ Szabo      ┆      ┆            ┆ \u001b[1m(\u001b[0mSD\u001b[1m)\u001b[0m       ┆   ┆ \u001b[1;36m2.2\u001b[0m,\u001b[1;36m2.4\u001b[0m,\u001b[1;36m0\u001b[0m. ┆           ┆           ┆           │\n",
       "│            ┆      ┆            ┆            ┆   ┆ \u001b[1;36m2\u001b[0m\u001b[1m}\u001b[0m\u001b[1m]\u001b[0m        ┆           ┆           ┆           │\n",
       "│ Bo Outlaw  ┆ \u001b[1;36m26.0\u001b[0m ┆ LAC        ┆ Houston    ┆ … ┆ \u001b[1m[\u001b[0m\u001b[1m{\u001b[0m\u001b[1;36m1996\u001b[0m,\u001b[1;36m82\u001b[0m, ┆ bad       ┆ \u001b[1;36m0\u001b[0m         ┆ \u001b[1;36m1996\u001b[0m      │\n",
       "│            ┆      ┆            ┆            ┆   ┆ \u001b[1;36m7.6\u001b[0m,\u001b[1;36m5.5\u001b[0m,\u001b[1;36m1\u001b[0m. ┆           ┆           ┆           │\n",
       "│            ┆      ┆            ┆            ┆   ┆ \u001b[1;36m9\u001b[0m\u001b[1m}\u001b[0m\u001b[1m]\u001b[0m        ┆           ┆           ┆           │\n",
       "│ Scott      ┆ \u001b[1;36m31.0\u001b[0m ┆ NYK        ┆ California ┆ … ┆ \u001b[1m[\u001b[0m\u001b[1m{\u001b[0m\u001b[1;36m1996\u001b[0m,\u001b[1;36m38\u001b[0m, ┆ bad       ┆ \u001b[1;36m0\u001b[0m         ┆ \u001b[1;36m1996\u001b[0m      │\n",
       "│ Brooks     ┆      ┆            ┆ -Irvine    ┆   ┆ \u001b[1;36m1.5\u001b[0m,\u001b[1;36m0.5\u001b[0m,\u001b[1;36m0\u001b[0m. ┆           ┆           ┆           │\n",
       "│            ┆      ┆            ┆            ┆   ┆ \u001b[1;36m8\u001b[0m\u001b[1m}\u001b[0m\u001b[1m]\u001b[0m        ┆           ┆           ┆           │\n",
       "└────────────┴──────┴────────────┴────────────┴───┴────────────┴───────────┴───────────┴───────────┘"
      ]
     },
     "metadata": {},
     "output_type": "display_data"
    }
   ],
   "source": [
    "qr = \"\"\"\n",
    "WITH yesterday AS (\n",
    "    SELECT * FROM players\n",
    "    WHERE current_season={current_season}\n",
    "), today AS (\n",
    "    SELECT * FROM df\n",
    "    WHERE season='{season}'\n",
    ")\n",
    "SELECT\n",
    "    COALESCE(t.player_name, y.player_name) AS player_name,\n",
    "    COALESCE(t.age, y.age) AS age,\n",
    "    COALESCE(t.team_abbreviation, y.team_abbreviation) AS team_abbreviation,\n",
    "    COALESCE(t.college, y.college) AS college,\n",
    "    COALESCE(t.player_height, y.player_height) AS player_height,\n",
    "    COALESCE(t.player_weight, y.player_weight) AS player_weight,\n",
    "    COALESCE(t.draft_year, y.draft_year) AS draft_year,\n",
    "    COALESCE(t.draft_round, y.draft_round) AS draft_round,\n",
    "    COALESCE(t.draft_number, y.draft_number) AS draft_number,\n",
    "    -- Update for season_stats\n",
    "    CASE WHEN y.season_stats IS NULL\n",
    "        THEN ARRAY[ROW(\n",
    "            t.season[:4]::INTEGER,\n",
    "            t.gp,\n",
    "            t.pts,\n",
    "            t.reb,\n",
    "            t.ast\n",
    "        )::season_stats]\n",
    "    WHEN t.season IS NOT NULL\n",
    "        THEN y.season_stats || ARRAY[ROW(\n",
    "            t.season[:4]::INTEGER,\n",
    "            t.gp,\n",
    "            t.pts,\n",
    "            t.reb,\n",
    "            t.ast\n",
    "        )::season_stats]\n",
    "    ELSE y.season_stats\n",
    "    END AS season_stats,\n",
    "    -- Scoring\n",
    "    CASE\n",
    "        WHEN t.season IS NOT NULL THEN\n",
    "            CASE\n",
    "                WHEN t.pts > 20 THEN 'star'\n",
    "                WHEN t.pts > 15 THEN 'good'\n",
    "                WHEN t.pts > 10 THEN 'average'\n",
    "                ELSE 'bad'\n",
    "            END::scoring_class\n",
    "        ELSE y.scoring_class\n",
    "    END AS scoring_class,\n",
    "    -- Years active\n",
    "    CASE WHEN t.season IS NOT NULL THEN 0\n",
    "        ELSE y.years_since_last_season + 1\n",
    "    END AS years_since_last_season,\n",
    "    -- Update for current_season,\n",
    "    COALESCE(t.season[:4]::INTEGER, y.current_season+1) AS current_season\n",
    "FROM today t\n",
    "FULL OUTER JOIN yesterday y\n",
    "ON t.player_name = y.player_name;\n",
    "\"\"\"\n",
    "query = qr.format(current_season=1995, season='1996-97')\n",
    "print(query)\n",
    "dfr = con.sql(query).pl()\n",
    "display(dfr.head())"
   ]
  },
  {
   "cell_type": "code",
   "execution_count": 15,
   "metadata": {},
   "outputs": [
    {
     "data": {
      "text/html": [
       "<pre style=\"white-space:pre;overflow-x:auto;line-height:normal;font-family:Menlo,'DejaVu Sans Mono',consolas,'Courier New',monospace\">\n",
       "WITH yesterday AS <span style=\"font-weight: bold\">(</span>\n",
       "    SELECT * FROM players\n",
       "    WHERE <span style=\"color: #808000; text-decoration-color: #808000\">current_season</span>=<span style=\"color: #008080; text-decoration-color: #008080; font-weight: bold\">1996</span>\n",
       "<span style=\"font-weight: bold\">)</span>, today AS <span style=\"font-weight: bold\">(</span>\n",
       "    SELECT * FROM df\n",
       "    WHERE <span style=\"color: #808000; text-decoration-color: #808000\">season</span>=<span style=\"color: #008000; text-decoration-color: #008000\">'1997-98'</span>\n",
       "<span style=\"font-weight: bold\">)</span>\n",
       "SELECT\n",
       "    <span style=\"color: #800080; text-decoration-color: #800080; font-weight: bold\">COALESCE</span><span style=\"font-weight: bold\">(</span>t.player_name, y.player_name<span style=\"font-weight: bold\">)</span> AS player_name,\n",
       "    <span style=\"color: #800080; text-decoration-color: #800080; font-weight: bold\">COALESCE</span><span style=\"font-weight: bold\">(</span>t.age, y.age<span style=\"font-weight: bold\">)</span> AS age,\n",
       "    <span style=\"color: #800080; text-decoration-color: #800080; font-weight: bold\">COALESCE</span><span style=\"font-weight: bold\">(</span>t.team_abbreviation, y.team_abbreviation<span style=\"font-weight: bold\">)</span> AS team_abbreviation,\n",
       "    <span style=\"color: #800080; text-decoration-color: #800080; font-weight: bold\">COALESCE</span><span style=\"font-weight: bold\">(</span>t.college, y.college<span style=\"font-weight: bold\">)</span> AS college,\n",
       "    <span style=\"color: #800080; text-decoration-color: #800080; font-weight: bold\">COALESCE</span><span style=\"font-weight: bold\">(</span>t.player_height, y.player_height<span style=\"font-weight: bold\">)</span> AS player_height,\n",
       "    <span style=\"color: #800080; text-decoration-color: #800080; font-weight: bold\">COALESCE</span><span style=\"font-weight: bold\">(</span>t.player_weight, y.player_weight<span style=\"font-weight: bold\">)</span> AS player_weight,\n",
       "    <span style=\"color: #800080; text-decoration-color: #800080; font-weight: bold\">COALESCE</span><span style=\"font-weight: bold\">(</span>t.draft_year, y.draft_year<span style=\"font-weight: bold\">)</span> AS draft_year,\n",
       "    <span style=\"color: #800080; text-decoration-color: #800080; font-weight: bold\">COALESCE</span><span style=\"font-weight: bold\">(</span>t.draft_round, y.draft_round<span style=\"font-weight: bold\">)</span> AS draft_round,\n",
       "    <span style=\"color: #800080; text-decoration-color: #800080; font-weight: bold\">COALESCE</span><span style=\"font-weight: bold\">(</span>t.draft_number, y.draft_number<span style=\"font-weight: bold\">)</span> AS draft_number,\n",
       "    -- Update for season_stats\n",
       "    CASE WHEN y.season_stats IS NULL\n",
       "        THEN ARRAY<span style=\"font-weight: bold\">[</span><span style=\"color: #800080; text-decoration-color: #800080; font-weight: bold\">ROW</span><span style=\"font-weight: bold\">(</span>\n",
       "            t.season<span style=\"font-weight: bold\">[</span>:<span style=\"color: #008080; text-decoration-color: #008080; font-weight: bold\">4</span><span style=\"font-weight: bold\">]</span>::INTEGER,\n",
       "            t.gp,\n",
       "            t.pts,\n",
       "            t.reb,\n",
       "            t.ast\n",
       "        <span style=\"font-weight: bold\">)</span>::season_stats<span style=\"font-weight: bold\">]</span>\n",
       "    WHEN t.season IS NOT NULL\n",
       "        THEN y.season_stats || ARRAY<span style=\"font-weight: bold\">[</span><span style=\"color: #800080; text-decoration-color: #800080; font-weight: bold\">ROW</span><span style=\"font-weight: bold\">(</span>\n",
       "            t.season<span style=\"font-weight: bold\">[</span>:<span style=\"color: #008080; text-decoration-color: #008080; font-weight: bold\">4</span><span style=\"font-weight: bold\">]</span>::INTEGER,\n",
       "            t.gp,\n",
       "            t.pts,\n",
       "            t.reb,\n",
       "            t.ast\n",
       "        <span style=\"font-weight: bold\">)</span>::season_stats<span style=\"font-weight: bold\">]</span>\n",
       "    ELSE y.season_stats\n",
       "    END AS season_stats,\n",
       "    -- Scoring\n",
       "    CASE\n",
       "        WHEN t.season IS NOT NULL THEN\n",
       "            CASE\n",
       "                WHEN t.pts &gt; <span style=\"color: #008080; text-decoration-color: #008080; font-weight: bold\">20</span> THEN <span style=\"color: #008000; text-decoration-color: #008000\">'star'</span>\n",
       "                WHEN t.pts &gt; <span style=\"color: #008080; text-decoration-color: #008080; font-weight: bold\">15</span> THEN <span style=\"color: #008000; text-decoration-color: #008000\">'good'</span>\n",
       "                WHEN t.pts &gt; <span style=\"color: #008080; text-decoration-color: #008080; font-weight: bold\">10</span> THEN <span style=\"color: #008000; text-decoration-color: #008000\">'average'</span>\n",
       "                ELSE <span style=\"color: #008000; text-decoration-color: #008000\">'bad'</span>\n",
       "            END::scoring_class\n",
       "        ELSE y.scoring_class\n",
       "    END AS scoring_class,\n",
       "    -- Years active\n",
       "    CASE WHEN t.season IS NOT NULL THEN <span style=\"color: #008080; text-decoration-color: #008080; font-weight: bold\">0</span>\n",
       "        ELSE y.years_since_last_season + <span style=\"color: #008080; text-decoration-color: #008080; font-weight: bold\">1</span>\n",
       "    END AS years_since_last_season,\n",
       "    -- Update for current_season,\n",
       "    <span style=\"color: #800080; text-decoration-color: #800080; font-weight: bold\">COALESCE</span><span style=\"font-weight: bold\">(</span>t.season<span style=\"font-weight: bold\">[</span>:<span style=\"color: #008080; text-decoration-color: #008080; font-weight: bold\">4</span><span style=\"font-weight: bold\">]</span>::INTEGER, y.current_season+<span style=\"color: #008080; text-decoration-color: #008080; font-weight: bold\">1</span><span style=\"font-weight: bold\">)</span> AS current_season\n",
       "FROM today t\n",
       "FULL OUTER JOIN yesterday y\n",
       "ON t.player_name = y.player_name;\n",
       "\n",
       "</pre>\n"
      ],
      "text/plain": [
       "\n",
       "WITH yesterday AS \u001b[1m(\u001b[0m\n",
       "    SELECT * FROM players\n",
       "    WHERE \u001b[33mcurrent_season\u001b[0m=\u001b[1;36m1996\u001b[0m\n",
       "\u001b[1m)\u001b[0m, today AS \u001b[1m(\u001b[0m\n",
       "    SELECT * FROM df\n",
       "    WHERE \u001b[33mseason\u001b[0m=\u001b[32m'1997-98'\u001b[0m\n",
       "\u001b[1m)\u001b[0m\n",
       "SELECT\n",
       "    \u001b[1;35mCOALESCE\u001b[0m\u001b[1m(\u001b[0mt.player_name, y.player_name\u001b[1m)\u001b[0m AS player_name,\n",
       "    \u001b[1;35mCOALESCE\u001b[0m\u001b[1m(\u001b[0mt.age, y.age\u001b[1m)\u001b[0m AS age,\n",
       "    \u001b[1;35mCOALESCE\u001b[0m\u001b[1m(\u001b[0mt.team_abbreviation, y.team_abbreviation\u001b[1m)\u001b[0m AS team_abbreviation,\n",
       "    \u001b[1;35mCOALESCE\u001b[0m\u001b[1m(\u001b[0mt.college, y.college\u001b[1m)\u001b[0m AS college,\n",
       "    \u001b[1;35mCOALESCE\u001b[0m\u001b[1m(\u001b[0mt.player_height, y.player_height\u001b[1m)\u001b[0m AS player_height,\n",
       "    \u001b[1;35mCOALESCE\u001b[0m\u001b[1m(\u001b[0mt.player_weight, y.player_weight\u001b[1m)\u001b[0m AS player_weight,\n",
       "    \u001b[1;35mCOALESCE\u001b[0m\u001b[1m(\u001b[0mt.draft_year, y.draft_year\u001b[1m)\u001b[0m AS draft_year,\n",
       "    \u001b[1;35mCOALESCE\u001b[0m\u001b[1m(\u001b[0mt.draft_round, y.draft_round\u001b[1m)\u001b[0m AS draft_round,\n",
       "    \u001b[1;35mCOALESCE\u001b[0m\u001b[1m(\u001b[0mt.draft_number, y.draft_number\u001b[1m)\u001b[0m AS draft_number,\n",
       "    -- Update for season_stats\n",
       "    CASE WHEN y.season_stats IS NULL\n",
       "        THEN ARRAY\u001b[1m[\u001b[0m\u001b[1;35mROW\u001b[0m\u001b[1m(\u001b[0m\n",
       "            t.season\u001b[1m[\u001b[0m:\u001b[1;36m4\u001b[0m\u001b[1m]\u001b[0m::INTEGER,\n",
       "            t.gp,\n",
       "            t.pts,\n",
       "            t.reb,\n",
       "            t.ast\n",
       "        \u001b[1m)\u001b[0m::season_stats\u001b[1m]\u001b[0m\n",
       "    WHEN t.season IS NOT NULL\n",
       "        THEN y.season_stats || ARRAY\u001b[1m[\u001b[0m\u001b[1;35mROW\u001b[0m\u001b[1m(\u001b[0m\n",
       "            t.season\u001b[1m[\u001b[0m:\u001b[1;36m4\u001b[0m\u001b[1m]\u001b[0m::INTEGER,\n",
       "            t.gp,\n",
       "            t.pts,\n",
       "            t.reb,\n",
       "            t.ast\n",
       "        \u001b[1m)\u001b[0m::season_stats\u001b[1m]\u001b[0m\n",
       "    ELSE y.season_stats\n",
       "    END AS season_stats,\n",
       "    -- Scoring\n",
       "    CASE\n",
       "        WHEN t.season IS NOT NULL THEN\n",
       "            CASE\n",
       "                WHEN t.pts > \u001b[1;36m20\u001b[0m THEN \u001b[32m'star'\u001b[0m\n",
       "                WHEN t.pts > \u001b[1;36m15\u001b[0m THEN \u001b[32m'good'\u001b[0m\n",
       "                WHEN t.pts > \u001b[1;36m10\u001b[0m THEN \u001b[32m'average'\u001b[0m\n",
       "                ELSE \u001b[32m'bad'\u001b[0m\n",
       "            END::scoring_class\n",
       "        ELSE y.scoring_class\n",
       "    END AS scoring_class,\n",
       "    -- Years active\n",
       "    CASE WHEN t.season IS NOT NULL THEN \u001b[1;36m0\u001b[0m\n",
       "        ELSE y.years_since_last_season + \u001b[1;36m1\u001b[0m\n",
       "    END AS years_since_last_season,\n",
       "    -- Update for current_season,\n",
       "    \u001b[1;35mCOALESCE\u001b[0m\u001b[1m(\u001b[0mt.season\u001b[1m[\u001b[0m:\u001b[1;36m4\u001b[0m\u001b[1m]\u001b[0m::INTEGER, y.current_season+\u001b[1;36m1\u001b[0m\u001b[1m)\u001b[0m AS current_season\n",
       "FROM today t\n",
       "FULL OUTER JOIN yesterday y\n",
       "ON t.player_name = y.player_name;\n",
       "\n"
      ]
     },
     "metadata": {},
     "output_type": "display_data"
    },
    {
     "data": {
      "text/html": [
       "<pre style=\"white-space:pre;overflow-x:auto;line-height:normal;font-family:Menlo,'DejaVu Sans Mono',consolas,'Courier New',monospace\"></pre>\n"
      ],
      "text/plain": []
     },
     "metadata": {},
     "output_type": "display_data"
    },
    {
     "data": {
      "text/html": [
       "<div><style>\n",
       ".dataframe > thead > tr,\n",
       ".dataframe > tbody > tr {\n",
       "  text-align: right;\n",
       "  white-space: pre-wrap;\n",
       "}\n",
       "</style>\n",
       "<small>shape: (5, 13)</small><table border=\"1\" class=\"dataframe\"><thead><tr><th>player_name</th><th>age</th><th>team_abbreviation</th><th>college</th><th>player_height</th><th>player_weight</th><th>draft_year</th><th>draft_round</th><th>draft_number</th><th>season_stats</th><th>scoring_class</th><th>years_since_last_season</th><th>current_season</th></tr><tr><td>str</td><td>f64</td><td>str</td><td>str</td><td>f64</td><td>f64</td><td>str</td><td>str</td><td>str</td><td>list[struct[5]]</td><td>cat</td><td>i32</td><td>i32</td></tr></thead><tbody><tr><td>&quot;Grant Hill&quot;</td><td>25.0</td><td>&quot;DET&quot;</td><td>&quot;Duke&quot;</td><td>203.2</td><td>102.0582</td><td>&quot;1994&quot;</td><td>&quot;1&quot;</td><td>&quot;3&quot;</td><td>[{1997,81,21.1,7.7,6.8}]</td><td>&quot;star&quot;</td><td>0</td><td>1997</td></tr><tr><td>&quot;Stanley Roberts&quot;</td><td>28.0</td><td>&quot;MIN&quot;</td><td>&quot;Louisiana State&quot;</td><td>213.36</td><td>131.54168</td><td>&quot;1991&quot;</td><td>&quot;1&quot;</td><td>&quot;23&quot;</td><td>[{1997,74,6.2,4.9,0.4}]</td><td>&quot;bad&quot;</td><td>0</td><td>1997</td></tr><tr><td>&quot;Robert Pack&quot;</td><td>29.0</td><td>&quot;DAL&quot;</td><td>&quot;Southern California&quot;</td><td>187.96</td><td>86.18248</td><td>&quot;Undrafted&quot;</td><td>&quot;Undrafted&quot;</td><td>&quot;Undrafted&quot;</td><td>[{1997,12,7.8,2.8,3.5}]</td><td>&quot;bad&quot;</td><td>0</td><td>1997</td></tr><tr><td>&quot;Vinny Del Negro&quot;</td><td>31.0</td><td>&quot;SAS&quot;</td><td>&quot;North Carolina State&quot;</td><td>193.04</td><td>90.7184</td><td>&quot;1988&quot;</td><td>&quot;2&quot;</td><td>&quot;29&quot;</td><td>[{1997,54,9.5,2.8,3.4}]</td><td>&quot;bad&quot;</td><td>0</td><td>1997</td></tr><tr><td>&quot;Sean Rooks&quot;</td><td>28.0</td><td>&quot;LAL&quot;</td><td>&quot;Arizona&quot;</td><td>208.28</td><td>117.93392</td><td>&quot;1992&quot;</td><td>&quot;2&quot;</td><td>&quot;30&quot;</td><td>[{1997,41,3.4,2.9,0.6}]</td><td>&quot;bad&quot;</td><td>0</td><td>1997</td></tr></tbody></table></div>"
      ],
      "text/plain": [
       "\n",
       "shape: \u001b[1m(\u001b[0m\u001b[1;36m5\u001b[0m, \u001b[1;36m13\u001b[0m\u001b[1m)\u001b[0m\n",
       "┌────────────┬──────┬────────────┬────────────┬───┬────────────┬───────────┬───────────┬───────────┐\n",
       "│ player_nam ┆ age  ┆ team_abbre ┆ college    ┆ … ┆ season_sta ┆ scoring_c ┆ years_sin ┆ current_s │\n",
       "│ e          ┆ ---  ┆ viation    ┆ ---        ┆   ┆ ts         ┆ lass      ┆ ce_last_s ┆ eason     │\n",
       "│ ---        ┆ f64  ┆ ---        ┆ str        ┆   ┆ ---        ┆ ---       ┆ eason     ┆ ---       │\n",
       "│ str        ┆      ┆ str        ┆            ┆   ┆ list\u001b[1m[\u001b[0mstruc ┆ cat       ┆ ---       ┆ i32       │\n",
       "│            ┆      ┆            ┆            ┆   ┆ t\u001b[1m[\u001b[0m\u001b[1;36m5\u001b[0m\u001b[1m]\u001b[0m\u001b[1m]\u001b[0m      ┆           ┆ i32       ┆           │\n",
       "╞════════════╪══════╪════════════╪════════════╪═══╪════════════╪═══════════╪═══════════╪═══════════╡\n",
       "│ Grant Hill ┆ \u001b[1;36m25.0\u001b[0m ┆ DET        ┆ Duke       ┆ … ┆ \u001b[1m[\u001b[0m\u001b[1m{\u001b[0m\u001b[1;36m1997\u001b[0m,\u001b[1;36m81\u001b[0m, ┆ star      ┆ \u001b[1;36m0\u001b[0m         ┆ \u001b[1;36m1997\u001b[0m      │\n",
       "│            ┆      ┆            ┆            ┆   ┆ \u001b[1;36m21.1\u001b[0m,\u001b[1;36m7.7\u001b[0m,\u001b[1;36m6\u001b[0m ┆           ┆           ┆           │\n",
       "│            ┆      ┆            ┆            ┆   ┆ .\u001b[1;36m8\u001b[0m\u001b[1m}\u001b[0m\u001b[1m]\u001b[0m       ┆           ┆           ┆           │\n",
       "│ Stanley    ┆ \u001b[1;36m28.0\u001b[0m ┆ MIN        ┆ Louisiana  ┆ … ┆ \u001b[1m[\u001b[0m\u001b[1m{\u001b[0m\u001b[1;36m1997\u001b[0m,\u001b[1;36m74\u001b[0m, ┆ bad       ┆ \u001b[1;36m0\u001b[0m         ┆ \u001b[1;36m1997\u001b[0m      │\n",
       "│ Roberts    ┆      ┆            ┆ State      ┆   ┆ \u001b[1;36m6.2\u001b[0m,\u001b[1;36m4.9\u001b[0m,\u001b[1;36m0\u001b[0m. ┆           ┆           ┆           │\n",
       "│            ┆      ┆            ┆            ┆   ┆ \u001b[1;36m4\u001b[0m\u001b[1m}\u001b[0m\u001b[1m]\u001b[0m        ┆           ┆           ┆           │\n",
       "│ Robert     ┆ \u001b[1;36m29.0\u001b[0m ┆ DAL        ┆ Southern   ┆ … ┆ \u001b[1m[\u001b[0m\u001b[1m{\u001b[0m\u001b[1;36m1997\u001b[0m,\u001b[1;36m12\u001b[0m, ┆ bad       ┆ \u001b[1;36m0\u001b[0m         ┆ \u001b[1;36m1997\u001b[0m      │\n",
       "│ Pack       ┆      ┆            ┆ California ┆   ┆ \u001b[1;36m7.8\u001b[0m,\u001b[1;36m2.8\u001b[0m,\u001b[1;36m3\u001b[0m. ┆           ┆           ┆           │\n",
       "│            ┆      ┆            ┆            ┆   ┆ \u001b[1;36m5\u001b[0m\u001b[1m}\u001b[0m\u001b[1m]\u001b[0m        ┆           ┆           ┆           │\n",
       "│ Vinny Del  ┆ \u001b[1;36m31.0\u001b[0m ┆ SAS        ┆ North      ┆ … ┆ \u001b[1m[\u001b[0m\u001b[1m{\u001b[0m\u001b[1;36m1997\u001b[0m,\u001b[1;36m54\u001b[0m, ┆ bad       ┆ \u001b[1;36m0\u001b[0m         ┆ \u001b[1;36m1997\u001b[0m      │\n",
       "│ Negro      ┆      ┆            ┆ Carolina   ┆   ┆ \u001b[1;36m9.5\u001b[0m,\u001b[1;36m2.8\u001b[0m,\u001b[1;36m3\u001b[0m. ┆           ┆           ┆           │\n",
       "│            ┆      ┆            ┆ State      ┆   ┆ \u001b[1;36m4\u001b[0m\u001b[1m}\u001b[0m\u001b[1m]\u001b[0m        ┆           ┆           ┆           │\n",
       "│ Sean Rooks ┆ \u001b[1;36m28.0\u001b[0m ┆ LAL        ┆ Arizona    ┆ … ┆ \u001b[1m[\u001b[0m\u001b[1m{\u001b[0m\u001b[1;36m1997\u001b[0m,\u001b[1;36m41\u001b[0m, ┆ bad       ┆ \u001b[1;36m0\u001b[0m         ┆ \u001b[1;36m1997\u001b[0m      │\n",
       "│            ┆      ┆            ┆            ┆   ┆ \u001b[1;36m3.4\u001b[0m,\u001b[1;36m2.9\u001b[0m,\u001b[1;36m0\u001b[0m. ┆           ┆           ┆           │\n",
       "│            ┆      ┆            ┆            ┆   ┆ \u001b[1;36m6\u001b[0m\u001b[1m}\u001b[0m\u001b[1m]\u001b[0m        ┆           ┆           ┆           │\n",
       "└────────────┴──────┴────────────┴────────────┴───┴────────────┴───────────┴───────────┴───────────┘"
      ]
     },
     "metadata": {},
     "output_type": "display_data"
    }
   ],
   "source": [
    "query = qr.format(current_season=1996, season='1997-98')\n",
    "print(query)\n",
    "dfr = con.sql(query).pl()\n",
    "display(dfr.head())"
   ]
  },
  {
   "cell_type": "code",
   "execution_count": 16,
   "metadata": {},
   "outputs": [],
   "source": [
    "for year in range(1998,2022):\n",
    "    season = '-'.join([str(year+1),str(year+2)[2:]])\n",
    "    query = qr.format(current_season=year, season=season)\n",
    "    # print(query)\n",
    "    query_insert = \"\"\"INSERT INTO players\"\"\" + query\n",
    "    # print(f\"Inserted: {season}\")\n",
    "    con.sql(query_insert)"
   ]
  },
  {
   "cell_type": "code",
   "execution_count": 17,
   "metadata": {},
   "outputs": [
    {
     "data": {
      "text/html": [
       "<pre style=\"white-space:pre;overflow-x:auto;line-height:normal;font-family:Menlo,'DejaVu Sans Mono',consolas,'Courier New',monospace\"></pre>\n"
      ],
      "text/plain": []
     },
     "metadata": {},
     "output_type": "display_data"
    },
    {
     "data": {
      "text/html": [
       "<div><style>\n",
       ".dataframe > thead > tr,\n",
       ".dataframe > tbody > tr {\n",
       "  text-align: right;\n",
       "  white-space: pre-wrap;\n",
       "}\n",
       "</style>\n",
       "<small>shape: (5, 2)</small><table border=\"1\" class=\"dataframe\"><thead><tr><th>count_star()</th><th>player_name</th></tr><tr><td>i64</td><td>str</td></tr></thead><tbody><tr><td>24</td><td>&quot;Elden Campbell&quot;</td></tr><tr><td>24</td><td>&quot;Shawn Kemp&quot;</td></tr><tr><td>24</td><td>&quot;Matt Bullard&quot;</td></tr><tr><td>24</td><td>&quot;Tim Thomas&quot;</td></tr><tr><td>24</td><td>&quot;Bryant Stith&quot;</td></tr></tbody></table></div>"
      ],
      "text/plain": [
       "\n",
       "shape: \u001b[1m(\u001b[0m\u001b[1;36m5\u001b[0m, \u001b[1;36m2\u001b[0m\u001b[1m)\u001b[0m\n",
       "┌──────────────┬────────────────┐\n",
       "│ \u001b[1;35mcount_star\u001b[0m\u001b[1m(\u001b[0m\u001b[1m)\u001b[0m ┆ player_name    │\n",
       "│ ---          ┆ ---            │\n",
       "│ i64          ┆ str            │\n",
       "╞══════════════╪════════════════╡\n",
       "│ \u001b[1;36m24\u001b[0m           ┆ Elden Campbell │\n",
       "│ \u001b[1;36m24\u001b[0m           ┆ Shawn Kemp     │\n",
       "│ \u001b[1;36m24\u001b[0m           ┆ Matt Bullard   │\n",
       "│ \u001b[1;36m24\u001b[0m           ┆ Tim Thomas     │\n",
       "│ \u001b[1;36m24\u001b[0m           ┆ Bryant Stith   │\n",
       "└──────────────┴────────────────┘"
      ]
     },
     "metadata": {},
     "output_type": "display_data"
    }
   ],
   "source": [
    "qr=\"\"\"\n",
    "SELECT COUNT(*), player_name FROM players\n",
    "GROUP BY player_name\n",
    "HAVING COUNT(*)>1\n",
    "LIMIT 5;\n",
    "\"\"\"\n",
    "display(\n",
    "    con.sql(qr).pl()\n",
    ")"
   ]
  },
  {
   "cell_type": "code",
   "execution_count": 18,
   "metadata": {},
   "outputs": [
    {
     "data": {
      "text/html": [
       "<pre style=\"white-space:pre;overflow-x:auto;line-height:normal;font-family:Menlo,'DejaVu Sans Mono',consolas,'Courier New',monospace\"></pre>\n"
      ],
      "text/plain": []
     },
     "metadata": {},
     "output_type": "display_data"
    },
    {
     "data": {
      "text/html": [
       "<div><style>\n",
       ".dataframe > thead > tr,\n",
       ".dataframe > tbody > tr {\n",
       "  text-align: right;\n",
       "  white-space: pre-wrap;\n",
       "}\n",
       "</style>\n",
       "<small>shape: (1, 13)</small><table border=\"1\" class=\"dataframe\"><thead><tr><th>player_name</th><th>age</th><th>team_abbreviation</th><th>college</th><th>player_height</th><th>player_weight</th><th>draft_year</th><th>draft_round</th><th>draft_number</th><th>season_stats</th><th>scoring_class</th><th>years_since_last_season</th><th>current_season</th></tr><tr><td>str</td><td>i32</td><td>str</td><td>str</td><td>f32</td><td>f32</td><td>str</td><td>str</td><td>str</td><td>list[struct[5]]</td><td>cat</td><td>i32</td><td>i32</td></tr></thead><tbody><tr><td>&quot;Michael Curry&quot;</td><td>36</td><td>&quot;IND&quot;</td><td>&quot;Georgia Southern&quot;</td><td>195.580002</td><td>95.254318</td><td>&quot;Undrafted&quot;</td><td>&quot;Undrafted&quot;</td><td>&quot;Undrafted&quot;</td><td>[{1999,82,6.2,1.3,1.1}, {2000,68,5.2,1.8,1.9}, … {2004,18,1.7,1.5,0.8}]</td><td>&quot;bad&quot;</td><td>18</td><td>2022</td></tr></tbody></table></div>"
      ],
      "text/plain": [
       "\n",
       "shape: \u001b[1m(\u001b[0m\u001b[1;36m1\u001b[0m, \u001b[1;36m13\u001b[0m\u001b[1m)\u001b[0m\n",
       "┌────────────┬─────┬────────────┬────────────┬───┬────────────┬────────────┬───────────┬───────────┐\n",
       "│ player_nam ┆ age ┆ team_abbre ┆ college    ┆ … ┆ season_sta ┆ scoring_cl ┆ years_sin ┆ current_s │\n",
       "│ e          ┆ --- ┆ viation    ┆ ---        ┆   ┆ ts         ┆ ass        ┆ ce_last_s ┆ eason     │\n",
       "│ ---        ┆ i32 ┆ ---        ┆ str        ┆   ┆ ---        ┆ ---        ┆ eason     ┆ ---       │\n",
       "│ str        ┆     ┆ str        ┆            ┆   ┆ list\u001b[1m[\u001b[0mstruc ┆ cat        ┆ ---       ┆ i32       │\n",
       "│            ┆     ┆            ┆            ┆   ┆ t\u001b[1m[\u001b[0m\u001b[1;36m5\u001b[0m\u001b[1m]\u001b[0m\u001b[1m]\u001b[0m      ┆            ┆ i32       ┆           │\n",
       "╞════════════╪═════╪════════════╪════════════╪═══╪════════════╪════════════╪═══════════╪═══════════╡\n",
       "│ Michael    ┆ \u001b[1;36m36\u001b[0m  ┆ IND        ┆ Georgia    ┆ … ┆ \u001b[1m[\u001b[0m\u001b[1m{\u001b[0m\u001b[1;36m1999\u001b[0m,\u001b[1;36m82\u001b[0m, ┆ bad        ┆ \u001b[1;36m18\u001b[0m        ┆ \u001b[1;36m2022\u001b[0m      │\n",
       "│ Curry      ┆     ┆            ┆ Southern   ┆   ┆ \u001b[1;36m6.2\u001b[0m,\u001b[1;36m1.3\u001b[0m,\u001b[1;36m1\u001b[0m. ┆            ┆           ┆           │\n",
       "│            ┆     ┆            ┆            ┆   ┆ \u001b[1;36m1\u001b[0m\u001b[1m}\u001b[0m,        ┆            ┆           ┆           │\n",
       "│            ┆     ┆            ┆            ┆   ┆ \u001b[1m{\u001b[0m\u001b[1;36m2000\u001b[0m,…    ┆            ┆           ┆           │\n",
       "└────────────┴─────┴────────────┴────────────┴───┴────────────┴────────────┴───────────┴───────────┘"
      ]
     },
     "metadata": {},
     "output_type": "display_data"
    }
   ],
   "source": [
    "qr = \"\"\"\n",
    "SELECT * FROM players\n",
    "WHERE player_name='Michael Curry'\n",
    "AND current_season=2022\n",
    "\"\"\"\n",
    "dfr=con.sql(qr).pl()\n",
    "display(dfr)"
   ]
  },
  {
   "cell_type": "code",
   "execution_count": 19,
   "metadata": {},
   "outputs": [
    {
     "data": {
      "text/html": [
       "<pre style=\"white-space:pre;overflow-x:auto;line-height:normal;font-family:Menlo,'DejaVu Sans Mono',consolas,'Courier New',monospace\"></pre>\n"
      ],
      "text/plain": []
     },
     "metadata": {},
     "output_type": "display_data"
    },
    {
     "data": {
      "text/html": [
       "<div><style>\n",
       ".dataframe > thead > tr,\n",
       ".dataframe > tbody > tr {\n",
       "  text-align: right;\n",
       "  white-space: pre-wrap;\n",
       "}\n",
       "</style>\n",
       "<small>shape: (1, 4)</small><table border=\"1\" class=\"dataframe\"><thead><tr><th>player_name</th><th>total_seasons</th><th>first_season</th><th>last_season</th></tr><tr><td>str</td><td>i64</td><td>f32</td><td>f32</td></tr></thead><tbody><tr><td>&quot;Michael Curry&quot;</td><td>6</td><td>6.2</td><td>1.7</td></tr></tbody></table></div>"
      ],
      "text/plain": [
       "\n",
       "shape: \u001b[1m(\u001b[0m\u001b[1;36m1\u001b[0m, \u001b[1;36m4\u001b[0m\u001b[1m)\u001b[0m\n",
       "┌───────────────┬───────────────┬──────────────┬─────────────┐\n",
       "│ player_name   ┆ total_seasons ┆ first_season ┆ last_season │\n",
       "│ ---           ┆ ---           ┆ ---          ┆ ---         │\n",
       "│ str           ┆ i64           ┆ f32          ┆ f32         │\n",
       "╞═══════════════╪═══════════════╪══════════════╪═════════════╡\n",
       "│ Michael Curry ┆ \u001b[1;36m6\u001b[0m             ┆ \u001b[1;36m6.2\u001b[0m          ┆ \u001b[1;36m1.7\u001b[0m         │\n",
       "└───────────────┴───────────────┴──────────────┴─────────────┘"
      ]
     },
     "metadata": {},
     "output_type": "display_data"
    }
   ],
   "source": [
    "qr = \"\"\"\n",
    "SELECT\n",
    "    player_name,\n",
    "    array_length(season_stats) AS total_seasons,\n",
    "    (season_stats[1]::season_stats).pts AS first_season,\n",
    "    (season_stats[array_length(season_stats)]::season_stats).pts AS last_season,\n",
    "FROM players\n",
    "WHERE player_name='Michael Curry'\n",
    "AND current_season=2022\n",
    "\"\"\"\n",
    "dfr=con.sql(qr).pl()\n",
    "display(dfr)"
   ]
  },
  {
   "cell_type": "code",
   "execution_count": 20,
   "metadata": {},
   "outputs": [
    {
     "data": {
      "text/html": [
       "<pre style=\"white-space:pre;overflow-x:auto;line-height:normal;font-family:Menlo,'DejaVu Sans Mono',consolas,'Courier New',monospace\"></pre>\n"
      ],
      "text/plain": []
     },
     "metadata": {},
     "output_type": "display_data"
    },
    {
     "data": {
      "text/html": [
       "<div><style>\n",
       ".dataframe > thead > tr,\n",
       ".dataframe > tbody > tr {\n",
       "  text-align: right;\n",
       "  white-space: pre-wrap;\n",
       "}\n",
       "</style>\n",
       "<small>shape: (10, 4)</small><table border=\"1\" class=\"dataframe\"><thead><tr><th>player_name</th><th>total_seasons</th><th>ratio</th><th>current_season</th></tr><tr><td>str</td><td>i64</td><td>f32</td><td>i32</td></tr></thead><tbody><tr><td>&quot;Brandon Williams&quot;</td><td>2</td><td>42.999996</td><td>2022</td></tr><tr><td>&quot;David Wingate&quot;</td><td>2</td><td>20.0</td><td>2022</td></tr><tr><td>&quot;Ndudi Ebi&quot;</td><td>2</td><td>16.875</td><td>2022</td></tr><tr><td>&quot;Pavel Podkolzin&quot;</td><td>2</td><td>15.0</td><td>2022</td></tr><tr><td>&quot;Julius Randle&quot;</td><td>9</td><td>12.55</td><td>2022</td></tr><tr><td>&quot;Terry Rozier&quot;</td><td>8</td><td>11.722222</td><td>2022</td></tr><tr><td>&quot;Nathan Jawai&quot;</td><td>2</td><td>10.666666</td><td>2022</td></tr><tr><td>&quot;Jared Harper&quot;</td><td>3</td><td>10.571429</td><td>2022</td></tr><tr><td>&quot;Nick Richards&quot;</td><td>3</td><td>10.25</td><td>2022</td></tr><tr><td>&quot;Louis King&quot;</td><td>4</td><td>10.0</td><td>2022</td></tr></tbody></table></div>"
      ],
      "text/plain": [
       "\n",
       "shape: \u001b[1m(\u001b[0m\u001b[1;36m10\u001b[0m, \u001b[1;36m4\u001b[0m\u001b[1m)\u001b[0m\n",
       "┌──────────────────┬───────────────┬───────────┬────────────────┐\n",
       "│ player_name      ┆ total_seasons ┆ ratio     ┆ current_season │\n",
       "│ ---              ┆ ---           ┆ ---       ┆ ---            │\n",
       "│ str              ┆ i64           ┆ f32       ┆ i32            │\n",
       "╞══════════════════╪═══════════════╪═══════════╪════════════════╡\n",
       "│ Brandon Williams ┆ \u001b[1;36m2\u001b[0m             ┆ \u001b[1;36m42.999996\u001b[0m ┆ \u001b[1;36m2022\u001b[0m           │\n",
       "│ David Wingate    ┆ \u001b[1;36m2\u001b[0m             ┆ \u001b[1;36m20.0\u001b[0m      ┆ \u001b[1;36m2022\u001b[0m           │\n",
       "│ Ndudi Ebi        ┆ \u001b[1;36m2\u001b[0m             ┆ \u001b[1;36m16.875\u001b[0m    ┆ \u001b[1;36m2022\u001b[0m           │\n",
       "│ Pavel Podkolzin  ┆ \u001b[1;36m2\u001b[0m             ┆ \u001b[1;36m15.0\u001b[0m      ┆ \u001b[1;36m2022\u001b[0m           │\n",
       "│ Julius Randle    ┆ \u001b[1;36m9\u001b[0m             ┆ \u001b[1;36m12.55\u001b[0m     ┆ \u001b[1;36m2022\u001b[0m           │\n",
       "│ Terry Rozier     ┆ \u001b[1;36m8\u001b[0m             ┆ \u001b[1;36m11.722222\u001b[0m ┆ \u001b[1;36m2022\u001b[0m           │\n",
       "│ Nathan Jawai     ┆ \u001b[1;36m2\u001b[0m             ┆ \u001b[1;36m10.666666\u001b[0m ┆ \u001b[1;36m2022\u001b[0m           │\n",
       "│ Jared Harper     ┆ \u001b[1;36m3\u001b[0m             ┆ \u001b[1;36m10.571429\u001b[0m ┆ \u001b[1;36m2022\u001b[0m           │\n",
       "│ Nick Richards    ┆ \u001b[1;36m3\u001b[0m             ┆ \u001b[1;36m10.25\u001b[0m     ┆ \u001b[1;36m2022\u001b[0m           │\n",
       "│ Louis King       ┆ \u001b[1;36m4\u001b[0m             ┆ \u001b[1;36m10.0\u001b[0m      ┆ \u001b[1;36m2022\u001b[0m           │\n",
       "└──────────────────┴───────────────┴───────────┴────────────────┘"
      ]
     },
     "metadata": {},
     "output_type": "display_data"
    }
   ],
   "source": [
    "qr = \"\"\"\n",
    "WITH points_fl AS (\n",
    "SELECT\n",
    "    player_name,\n",
    "    array_length(season_stats) AS total_seasons,\n",
    "    (season_stats[1]::season_stats).pts AS first_season,\n",
    "    (season_stats[array_length(season_stats)]::season_stats).pts AS last_season,\n",
    "    current_season\n",
    "FROM players\n",
    ")\n",
    "SELECT\n",
    "    player_name,\n",
    "    total_seasons,\n",
    "    last_season /\n",
    "        CASE\n",
    "            WHEN first_season=0 THEN 1 ELSE first_season\n",
    "        END\n",
    "    AS ratio,\n",
    "    current_season\n",
    "FROM points_fl\n",
    "WHERE current_season=2022\n",
    "ORDER BY ratio DESC\n",
    "LIMIT 10\n",
    "\"\"\"\n",
    "dfr=con.sql(qr).pl()\n",
    "display(dfr)"
   ]
  }
 ],
 "metadata": {
  "kernelspec": {
   "display_name": ".venv",
   "language": "python",
   "name": "python3"
  },
  "language_info": {
   "codemirror_mode": {
    "name": "ipython",
    "version": 3
   },
   "file_extension": ".py",
   "mimetype": "text/x-python",
   "name": "python",
   "nbconvert_exporter": "python",
   "pygments_lexer": "ipython3",
   "version": "3.12.7"
  }
 },
 "nbformat": 4,
 "nbformat_minor": 2
}
